{
 "cells": [
  {
   "cell_type": "markdown",
   "metadata": {
    "_cell_guid": "0808840c-0623-4e53-bdac-6ed602e1f5b7",
    "_uuid": "f5832a1fac08e8dbd7392e7adb4f2dfabb6a368c"
   },
   "source": [
    "# Cuisine Classification from Ingredients\n",
    "\n",
    "### **Description:** The main purpose of this project is to classify cuisines based on Ingredients of the Recipe.\n",
    "\n",
    "\n",
    "The steps followed are as follows:\n",
    "* Step-1: Download dataset from [https://www.kaggle.com/c/whats-cooking/data](https://www.kaggle.com/c/whats-cooking/data), store it in dictionary and convert it to dataframe.\n",
    "* Step-2: Feature Selection:\n",
    "  * Removal of punctuation, digits, content inside parenthesis using Regex Expression\n",
    "  * Remove brand names using Regex Expression\n",
    "  * Convert to lower case and Remove stop words using Regex Expression\n",
    "  * Use Porter Stemmer Algorithm\n",
    "* Step-3: Encoded Cuisine column using Label Encoder of sklearn.\n",
    "* Step-4: Convert the ingredients column after feature selection into TFIDF Matrix\n",
    "* Step-5: Split the data(X-TFIDF Matrix, Y-Label Encoded value of Cuisine into training and test data(80:20).\n",
    "* Step-6: Use Different Machine Learning Algorithm to get best accuracy. \n"
   ]
  },
  {
   "cell_type": "markdown",
   "metadata": {},
   "source": [
    "June 24 Update: this was forked from Kaggle, https://www.kaggle.com/rahulsridhar2811/cuisine-classification-with-accuracy-78-88\n",
    "Still working on improving it, and possibly applying ULMFiT to this dataset for higher accuracy"
   ]
  },
  {
   "cell_type": "code",
   "execution_count": 1,
   "metadata": {
    "_cell_guid": "732879a7-3f1f-4cee-9b14-4d8e599e1c21",
    "_uuid": "b443c70b3803ec690ae3c6329b52bc29bfb548d8"
   },
   "outputs": [
    {
     "name": "stdout",
     "output_type": "stream",
     "text": [
      "{'id': 10259, 'cuisine': 'greek', 'ingredients': ['romaine lettuce', 'black olives', 'grape tomatoes', 'garlic', 'pepper', 'purple onion', 'seasoning', 'garbanzo beans', 'feta cheese crumbles']}\n"
     ]
    }
   ],
   "source": [
    "import json\n",
    "from nltk.corpus import stopwords\n",
    "from nltk.tokenize import word_tokenize\n",
    "from nltk.stem import PorterStemmer\n",
    "from nltk.tokenize import sent_tokenize, word_tokenize\n",
    "\n",
    "ps = PorterStemmer()\n",
    "file = r'/Users/xinrucheng/Documents/Projects/recsys-recipes/recipe-ingredients-dataset/train.json' #relative path?\n",
    "with open(file) as train_file:\n",
    "    dict_train = json.load(train_file)\n",
    "\n",
    "print(dict_train[0])"
   ]
  },
  {
   "cell_type": "code",
   "execution_count": 2,
   "metadata": {
    "_cell_guid": "fd4f0ca1-d331-4c63-bd95-b5bce09422f3",
    "_uuid": "4a692aec66da67390642ddc996d48c7fdd0e7671"
   },
   "outputs": [
    {
     "data": {
      "text/plain": [
       "39774"
      ]
     },
     "execution_count": 2,
     "metadata": {},
     "output_type": "execute_result"
    }
   ],
   "source": [
    "len(dict_train)"
   ]
  },
  {
   "cell_type": "code",
   "execution_count": 3,
   "metadata": {
    "_cell_guid": "60a1b834-fab2-4de1-9a93-e78eb84e4665",
    "_uuid": "7838143a515b5b18433c8c393b3255aa8e4e7d5a"
   },
   "outputs": [
    {
     "data": {
      "text/plain": [
       "['romaine lettuce',\n",
       " 'black olives',\n",
       " 'grape tomatoes',\n",
       " 'garlic',\n",
       " 'pepper',\n",
       " 'purple onion',\n",
       " 'seasoning',\n",
       " 'garbanzo beans',\n",
       " 'feta cheese crumbles']"
      ]
     },
     "execution_count": 3,
     "metadata": {},
     "output_type": "execute_result"
    }
   ],
   "source": [
    "dict_train[0]['ingredients'] #print ingredients of the first recipe"
   ]
  },
  {
   "cell_type": "code",
   "execution_count": 4,
   "metadata": {
    "_cell_guid": "e94bd79b-07f6-4a3b-9f9d-f78c867e7123",
    "_uuid": "4e89912efc1091a2b892844156565bac6e1faf24",
    "collapsed": true
   },
   "outputs": [],
   "source": [
    "id_ = []\n",
    "cuisine = []\n",
    "ingredients = []\n",
    "for i in range(len(dict_train)):\n",
    "    id_.append(dict_train[i]['id'])\n",
    "    cuisine.append(dict_train[i]['cuisine'])\n",
    "    ingredients.append(dict_train[i]['ingredients'])\n",
    "    \n",
    "    #loop through items, separate into categories to build df\n",
    "    "
   ]
  },
  {
   "cell_type": "code",
   "execution_count": 5,
   "metadata": {
    "_cell_guid": "d6c81d23-40e2-40b4-835e-4edc2331a10a",
    "_uuid": "c23631657ff499e11e52f613cfdb2e9f1b37b79b"
   },
   "outputs": [
    {
     "name": "stdout",
     "output_type": "stream",
     "text": [
      "       cuisine     id                                        ingredients\n",
      "0        greek  10259  [romaine lettuce, black olives, grape tomatoes...\n",
      "1  southern_us  25693  [plain flour, ground pepper, salt, tomatoes, g...\n",
      "2     filipino  20130  [eggs, pepper, salt, mayonaise, cooking oil, g...\n",
      "3       indian  22213                [water, vegetable oil, wheat, salt]\n",
      "4       indian  13162  [black pepper, shallots, cornflour, cayenne pe...\n"
     ]
    }
   ],
   "source": [
    "import pandas as pd\n",
    "df = pd.DataFrame({'id':id_, \n",
    "                   'cuisine':cuisine, \n",
    "                   'ingredients':ingredients})\n",
    "print(df.head(5)) #info of first five recipes"
   ]
  },
  {
   "cell_type": "code",
   "execution_count": 7,
   "metadata": {
    "_cell_guid": "7f8edf94-4ab9-46b2-8f0f-68eea75239c5",
    "_uuid": "f4a81619afafaaffcf6cced89d486afa8cbab064"
   },
   "outputs": [
    {
     "data": {
      "text/plain": [
       "italian         7838\n",
       "mexican         6438\n",
       "southern_us     4320\n",
       "indian          3003\n",
       "chinese         2673\n",
       "french          2646\n",
       "cajun_creole    1546\n",
       "thai            1539\n",
       "japanese        1423\n",
       "greek           1175\n",
       "spanish          989\n",
       "korean           830\n",
       "vietnamese       825\n",
       "moroccan         821\n",
       "british          804\n",
       "filipino         755\n",
       "irish            667\n",
       "jamaican         526\n",
       "russian          489\n",
       "brazilian        467\n",
       "Name: cuisine, dtype: int64"
      ]
     },
     "execution_count": 7,
     "metadata": {},
     "output_type": "execute_result"
    }
   ],
   "source": [
    "df['cuisine'].value_counts()"
   ]
  },
  {
   "cell_type": "code",
   "execution_count": 9,
   "metadata": {
    "_cell_guid": "1bb39d9c-39b7-447d-b83e-d0e38bddbb9b",
    "_uuid": "03c0e81a1e118dee98e46b016cc382252aba5169",
    "collapsed": true
   },
   "outputs": [],
   "source": [
    "new = []\n",
    "for s in df['ingredients']:\n",
    "    s = ' '.join(s) #**review pandas doc: .join - Join columns of another DataFrame (not how it's used here)\n",
    "    new.append(s)#join ingredients with spaces instead, save as new df in the cell below\n",
    "    "
   ]
  },
  {
   "cell_type": "code",
   "execution_count": 10,
   "metadata": {
    "_cell_guid": "ab728dbe-b6ea-4423-82e6-a8d818a81338",
    "_uuid": "04a39cce12592b710112f699c5ce28e50abc0de2"
   },
   "outputs": [],
   "source": [
    "df['ing'] = new"
   ]
  },
  {
   "cell_type": "code",
   "execution_count": 11,
   "metadata": {
    "_cell_guid": "73c12624-d2c9-4ef4-ac55-887e37e85ee6",
    "_uuid": "f4f47db53e58dcbf7c895075180595502493462f"
   },
   "outputs": [
    {
     "name": "stdout",
     "output_type": "stream",
     "text": [
      "       cuisine     id                                        ingredients  \\\n",
      "0        greek  10259  [romaine lettuce, black olives, grape tomatoes...   \n",
      "1  southern_us  25693  [plain flour, ground pepper, salt, tomatoes, g...   \n",
      "2     filipino  20130  [eggs, pepper, salt, mayonaise, cooking oil, g...   \n",
      "3       indian  22213                [water, vegetable oil, wheat, salt]   \n",
      "4       indian  13162  [black pepper, shallots, cornflour, cayenne pe...   \n",
      "5     jamaican   6602  [plain flour, sugar, butter, eggs, fresh ginge...   \n",
      "6      spanish  42779  [olive oil, salt, medium shrimp, pepper, garli...   \n",
      "7      italian   3735  [sugar, pistachio nuts, white almond bark, flo...   \n",
      "8      mexican  16903  [olive oil, purple onion, fresh pineapple, por...   \n",
      "9      italian  12734  [chopped tomatoes, fresh basil, garlic, extra-...   \n",
      "\n",
      "                                                 ing  \\\n",
      "0  romaine lettuce black olives grape tomatoes ga...   \n",
      "1  plain flour ground pepper salt tomatoes ground...   \n",
      "2  eggs pepper salt mayonaise cooking oil green c...   \n",
      "3                     water vegetable oil wheat salt   \n",
      "4  black pepper shallots cornflour cayenne pepper...   \n",
      "5  plain flour sugar butter eggs fresh ginger roo...   \n",
      "6  olive oil salt medium shrimp pepper garlic cho...   \n",
      "7  sugar pistachio nuts white almond bark flour v...   \n",
      "8  olive oil purple onion fresh pineapple pork po...   \n",
      "9  chopped tomatoes fresh basil garlic extra-virg...   \n",
      "\n",
      "                                             ing_mod  \n",
      "0  romain lettuc black oliv grape tomato garlic p...  \n",
      "1  plain flour ground pepper salt tomato ground b...  \n",
      "2  egg pepper salt mayonais cook oil green chili ...  \n",
      "3                         water veget oil wheat salt  \n",
      "4  black pepper shallot cornflour cayenn pepper o...  \n",
      "5  plain flour sugar butter egg fresh ginger root...  \n",
      "6  oliv oil salt medium shrimp pepper garlic chop...  \n",
      "7  sugar pistachio nut white almond bark flour va...  \n",
      "8  oliv oil purpl onion fresh pineappl pork pobla...  \n",
      "9  chop tomato fresh basil garlic extravirgin oli...  \n"
     ]
    }
   ],
   "source": [
    "import re #re?\n",
    "l=[]\n",
    "for s in df['ing']:\n",
    "    \n",
    "    #Remove punctuations\n",
    "    s=re.sub(r'[^\\w\\s]','',s)\n",
    "    \n",
    "    #Remove Digits\n",
    "    s=re.sub(r\"(\\d)\", \"\", s)\n",
    "    \n",
    "    #Remove content inside parenthesis\n",
    "    s=re.sub(r'\\([^)]*\\)', '', s)\n",
    "    \n",
    "    #Remove Brand Name\n",
    "    s=re.sub(u'\\w*\\u2122', '', s)\n",
    "    \n",
    "    #Convert to lowercase\n",
    "    s=s.lower()\n",
    "    \n",
    "    #Remove Stop Words\n",
    "    stop_words = set(stopwords.words('english'))\n",
    "    word_tokens = word_tokenize(s)\n",
    "    filtered_sentence = [w for w in word_tokens if not w in stop_words]\n",
    "    filtered_sentence = []\n",
    "    for w in word_tokens:\n",
    "        if w not in stop_words:\n",
    "            filtered_sentence.append(w)\n",
    "    s=' '.join(filtered_sentence) #join the non-stopwords with spaces\n",
    "    \n",
    "    #Remove low-content adjectives\n",
    "    \n",
    "    \n",
    "    #Porter Stemmer Algorithm\n",
    "    words = word_tokenize(s)\n",
    "    word_ps=[]\n",
    "    for w in words:\n",
    "       word_ps.append(ps.stem(w))\n",
    "    s=' '.join(word_ps)\n",
    "    \n",
    "    l.append(s)\n",
    "df['ing_mod']=l\n",
    "print(df.head(10)) #doesn't seem to work well? removed plural forms which is good, but also removed some ending e's (and vegetable becomes veget)"
   ]
  },
  {
   "cell_type": "code",
   "execution_count": 12,
   "metadata": {
    "_cell_guid": "f26d8022-94c5-4d1b-9ded-d399d514f0d1",
    "_uuid": "5e9049ff1cd3b2ecd01c132241f3f4582d18a1c1"
   },
   "outputs": [
    {
     "name": "stdout",
     "output_type": "stream",
     "text": [
      "  (0, 2038)\t0.358742368305\n",
      "  (0, 1350)\t0.279113558822\n",
      "  (0, 207)\t0.1474807692\n",
      "  (0, 1675)\t0.140383928524\n",
      "  (0, 1026)\t0.358370896832\n",
      "  (0, 2454)\t0.149020782233\n",
      "  (0, 953)\t0.110423617226\n",
      "  (0, 1788)\t0.104595496092\n",
      "  (0, 1936)\t0.250742183159\n",
      "  (0, 1678)\t0.112545141153\n",
      "  (0, 2129)\t0.235344428308\n",
      "  (0, 948)\t0.406987699414\n",
      "  (0, 151)\t0.209263619966\n",
      "  (0, 839)\t0.318797276253\n",
      "  (0, 457)\t0.152756710941\n",
      "  (0, 645)\t0.335930359104\n",
      "  (1, 207)\t0.170560662478\n",
      "  (1, 2454)\t0.34468335741\n",
      "  (1, 1788)\t0.241928180905\n",
      "  (1, 1853)\t0.345327620662\n",
      "  (1, 884)\t0.184355427894\n",
      "  (1, 1053)\t0.302640570155\n",
      "  (1, 2087)\t0.108657345321\n",
      "  (1, 2438)\t0.273543336047\n",
      "  (1, 778)\t0.184685524469\n",
      "  :\t:\n",
      "  (39772, 2326)\t0.268411022775\n",
      "  (39772, 248)\t0.268411022775\n",
      "  (39772, 2309)\t0.248396991662\n",
      "  (39772, 2578)\t0.249620356348\n",
      "  (39773, 207)\t0.159684154764\n",
      "  (39773, 2454)\t0.161351597108\n",
      "  (39773, 953)\t0.119560686307\n",
      "  (39773, 1788)\t0.22650062752\n",
      "  (39773, 1678)\t0.121857757017\n",
      "  (39773, 1053)\t0.141670719791\n",
      "  (39773, 2087)\t0.10172835925\n",
      "  (39773, 1043)\t0.348567156477\n",
      "  (39773, 481)\t0.19277716943\n",
      "  (39773, 2351)\t0.152913874143\n",
      "  (39773, 911)\t0.141675839943\n",
      "  (39773, 501)\t0.184479784593\n",
      "  (39773, 519)\t0.197744793306\n",
      "  (39773, 1194)\t0.276329116225\n",
      "  (39773, 2604)\t0.1828911641\n",
      "  (39773, 749)\t0.186865190104\n",
      "  (39773, 1683)\t0.247752253918\n",
      "  (39773, 478)\t0.249897595468\n",
      "  (39773, 169)\t0.228286336163\n",
      "  (39773, 2037)\t0.413870023045\n",
      "  (39773, 426)\t0.265310371406\n"
     ]
    }
   ],
   "source": [
    "from sklearn.feature_extraction.text import TfidfVectorizer #**look up this vectorizer\n",
    "vectorizer = TfidfVectorizer()\n",
    "X = vectorizer.fit_transform(df['ing_mod'])\n",
    "\n",
    "print(X)\n",
    "#print(vectorizer.get_feature_names())"
   ]
  },
  {
   "cell_type": "markdown",
   "metadata": {},
   "source": [
    "Note (scikit-learn doc): Feature extraction is very different from Feature selection: the former consists in transforming arbitrary data, such as text or images, into numerical features usable for machine learning. The latter is a machine learning technique applied on these features."
   ]
  },
  {
   "cell_type": "code",
   "execution_count": 13,
   "metadata": {
    "_cell_guid": "37935fcd-fc13-498a-8b2b-6e8f2e5f3efc",
    "_uuid": "378ccbd89744d27e15838004fc752223de6be635"
   },
   "outputs": [
    {
     "data": {
      "text/plain": [
       "39774"
      ]
     },
     "execution_count": 13,
     "metadata": {},
     "output_type": "execute_result"
    }
   ],
   "source": [
    "len(new)"
   ]
  },
  {
   "cell_type": "code",
   "execution_count": 14,
   "metadata": {
    "_cell_guid": "7ae86de3-2707-4f59-a8b2-13756f4c28c0",
    "_uuid": "e84687a84fafb89e86022eda9109b59081f4ca39"
   },
   "outputs": [
    {
     "data": {
      "text/plain": [
       "str"
      ]
     },
     "execution_count": 14,
     "metadata": {},
     "output_type": "execute_result"
    }
   ],
   "source": [
    "type(df['ing'][0])"
   ]
  },
  {
   "cell_type": "code",
   "execution_count": 15,
   "metadata": {
    "_cell_guid": "891aedd5-4b31-43e4-b2bd-862a49739e4f",
    "_uuid": "f5e4e996aea719694071d556f1909f9a7f59a9a9"
   },
   "outputs": [
    {
     "name": "stdout",
     "output_type": "stream",
     "text": [
      " cool col coo\n"
     ]
    }
   ],
   "source": [
    "s='1 1cool co1l coo1'\n",
    "s=re.sub(r\"(\\d)\", \"\", s) #check remove digits\n",
    "print(s) "
   ]
  },
  {
   "cell_type": "code",
   "execution_count": 18,
   "metadata": {
    "_cell_guid": "0f7e6aa2-aae3-46ff-8df9-0d14df85962b",
    "_uuid": "47cd632d8177821419f2b4d4f47485f4029b650a"
   },
   "outputs": [
    {
     "name": "stdout",
     "output_type": "stream",
     "text": [
      "hi 1\n"
     ]
    }
   ],
   "source": [
    "s='hi 1(bye)'\n",
    "s=re.sub(r'\\([^)]*\\)', '', s)     #Remove content inside parenthesis\n",
    "\n",
    "print(s)"
   ]
  },
  {
   "cell_type": "code",
   "execution_count": 19,
   "metadata": {
    "_cell_guid": "016f7001-184a-4629-a69d-88e2ab5e45a7",
    "_uuid": "015167044ad112a5150d4169286e4e0b090f1040"
   },
   "outputs": [
    {
     "name": "stdout",
     "output_type": "stream",
     "text": [
      "hi 1  hi\n"
     ]
    }
   ],
   "source": [
    "s='hi 1 Marvel™ hi'\n",
    "s=re.sub(u'\\w*\\u2122', '', s)  #remove brand labels\n",
    "print(s)"
   ]
  },
  {
   "cell_type": "code",
   "execution_count": 33,
   "metadata": {
    "_cell_guid": "bd5b3998-ab1f-4b7e-89e7-327e42af1f20",
    "_uuid": "28234951e6e83ccd13b1286bf8fb9cb66380d58c"
   },
   "outputs": [
    {
     "name": "stdout",
     "output_type": "stream",
     "text": [
      "I love phone, super fast 'much new cool things jelly bean....recently I'seen bugs.\n"
     ]
    }
   ],
   "source": [
    "import re\n",
    "from nltk.corpus import stopwords\n",
    "s=\"I love this phone, its super fast and there's so much new and cool things with jelly bean....but of recently I've seen some bugs.\"\n",
    "pattern = re.compile(r'\\b(' + r'|'.join(stopwords.words('english')) + r')\\b\\s*')\n",
    "s = pattern.sub('', s)\n",
    "print(s)"
   ]
  },
  {
   "cell_type": "code",
   "execution_count": 26,
   "metadata": {
    "_cell_guid": "a8df926f-7a62-4159-ae41-7a3c2009e2a7",
    "_uuid": "191dd39f26cc19dcbeaf5c53475387d7156ba6c8"
   },
   "outputs": [],
   "source": [
    "#\"love phone, super fast much cool jelly bean....but recently bugs.\"\n",
    "#import nltk\n",
    "#nltk.download('word_tokenize') #need to search for nltk package?** but next cell works when importing package"
   ]
  },
  {
   "cell_type": "code",
   "execution_count": 34,
   "metadata": {
    "_cell_guid": "ea1651cf-073f-4b75-8981-291ea75a9ad6",
    "_uuid": "1ff6174976c8bd546288b984b0dbd57a24021274"
   },
   "outputs": [
    {
     "name": "stdout",
     "output_type": "stream",
     "text": [
      "['This', 'is', 'a', 'sample', 'sentence', ',', 'showing', 'off', 'the', 'stop', 'words', 'filtration', '.']\n",
      "['This', 'sample', 'sentence', ',', 'showing', 'stop', 'words', 'filtration', '.']\n"
     ]
    }
   ],
   "source": [
    "from nltk.corpus import stopwords\n",
    "from nltk.tokenize import word_tokenize\n",
    "\n",
    "example_sent = \"This is a sample sentence, showing off the stop words filtration.\"\n",
    "\n",
    "stop_words = set(stopwords.words('english'))\n",
    "\n",
    "word_tokens = word_tokenize(example_sent)\n",
    "\n",
    "filtered_sentence = [w for w in word_tokens if not w in stop_words]\n",
    "\n",
    "filtered_sentence = []\n",
    "\n",
    "for w in word_tokens:\n",
    "    if w not in stop_words:\n",
    "        filtered_sentence.append(w)\n",
    "\n",
    "print(word_tokens)\n",
    "print(filtered_sentence)"
   ]
  },
  {
   "cell_type": "code",
   "execution_count": 27,
   "metadata": {
    "_cell_guid": "b28a28ed-5ff6-4499-b480-5afb0179699b",
    "_uuid": "e6cd4548fb410c2c40e5e042e6112f175af036a7"
   },
   "outputs": [],
   "source": [
    "#\"love phone, super fast much cool jelly bean....but recently bugs.\""
   ]
  },
  {
   "cell_type": "code",
   "execution_count": 28,
   "metadata": {
    "_cell_guid": "e86a0c70-7361-40b4-9ccb-aba0168fa827",
    "_uuid": "11c6efac95f5872e8ee4bda1efd9cdf6df1afb04"
   },
   "outputs": [],
   "source": [
    "#import nltk\n",
    "#nltk.download('word_tokenize') #2nd time?**"
   ]
  },
  {
   "cell_type": "code",
   "execution_count": 25,
   "metadata": {
    "_cell_guid": "4ec9a2c8-2b13-435e-ab16-4ebb8c82fde8",
    "_uuid": "ad8658821d910031046a228589495123d7fc96e8"
   },
   "outputs": [
    {
     "name": "stdout",
     "output_type": "stream",
     "text": [
      "[nltk_data] Downloading package punkt to\n",
      "[nltk_data]     /Users/xinrucheng/nltk_data...\n",
      "[nltk_data]   Package punkt is already up-to-date!\n"
     ]
    },
    {
     "data": {
      "text/plain": [
       "True"
      ]
     },
     "execution_count": 25,
     "metadata": {},
     "output_type": "execute_result"
    }
   ],
   "source": [
    "nltk.download('punkt')"
   ]
  },
  {
   "cell_type": "code",
   "execution_count": 36,
   "metadata": {
    "_cell_guid": "788744e8-e0ac-4821-b395-b5706cb47e93",
    "_uuid": "133310389962530b4ecf10dd570e5b7b7b0c12c4",
    "collapsed": true
   },
   "outputs": [],
   "source": [
    "from nltk.stem import PorterStemmer\n",
    "from nltk.tokenize import sent_tokenize, word_tokenize\n",
    "\n",
    "ps = PorterStemmer()"
   ]
  },
  {
   "cell_type": "code",
   "execution_count": 42,
   "metadata": {
    "_cell_guid": "dc80e6a7-2c70-45aa-8cb4-a29c8f669b74",
    "_uuid": "b2fe96fcd533d59748728d7e5de4b2cf592ff3b6"
   },
   "outputs": [
    {
     "name": "stdout",
     "output_type": "stream",
     "text": [
      "It is important to be very pythonly while you are pythoning with python. All pythoners have pythoned poorly at least once.\n"
     ]
    }
   ],
   "source": [
    "new_text = \"It is important to be very pythonly while you are pythoning with python. All pythoners have pythoned poorly at least once.\"\n",
    "\n",
    "#print(s)#?\n",
    "print(new_text)"
   ]
  },
  {
   "cell_type": "code",
   "execution_count": 43,
   "metadata": {
    "_cell_guid": "64e801e1-23a4-4a9a-a431-717386db64f2",
    "_uuid": "acf0c9a972156fd2466599181730a00c3f0a8b24"
   },
   "outputs": [
    {
     "name": "stdout",
     "output_type": "stream",
     "text": [
      "['It', 'is', 'important', 'to', 'be', 'very', 'pythonly', 'while', 'you', 'are', 'pythoning', 'with', 'python', '.', 'All', 'pythoners', 'have', 'pythoned', 'poorly', 'at', 'least', 'once', '.']\n",
      "['It', 'important', 'pythonly', 'pythoning', 'python', '.', 'All', 'pythoners', 'pythoned', 'poorly', 'least', '.']\n"
     ]
    }
   ],
   "source": [
    "from nltk.corpus import stopwords\n",
    "from nltk.tokenize import word_tokenize  #duplicate** delete?\n",
    "\n",
    "#s = \"This is a sample sentence, showing off the stop words filtration.\"\n",
    "\n",
    "stop_words = set(stopwords.words('english'))\n",
    "\n",
    "word_tokens = word_tokenize(new_text)\n",
    "\n",
    "filtered_sentence = [w for w in word_tokens if not w in stop_words]\n",
    "\n",
    "filtered_sentence = []\n",
    "\n",
    "for w in word_tokens:\n",
    "    if w not in stop_words:\n",
    "        filtered_sentence.append(w)\n",
    "\n",
    "print(word_tokens)\n",
    "print(filtered_sentence) #haven't applied ps yet**"
   ]
  },
  {
   "cell_type": "code",
   "execution_count": 44,
   "metadata": {
    "_cell_guid": "1bef6497-ef63-463a-9ed5-5e92d3808778",
    "_uuid": "3b1d800fa26836fb675836bc0729b90aa6ce051c",
    "collapsed": true
   },
   "outputs": [],
   "source": [
    "from sklearn import preprocessing\n",
    "le = preprocessing.LabelEncoder()\n",
    "le.fit(df['cuisine'])\n",
    "df['cuisine']=le.transform(df['cuisine']) "
   ]
  },
  {
   "cell_type": "code",
   "execution_count": 47,
   "metadata": {
    "_cell_guid": "86c06f82-75c4-44d5-8fc5-33985e68b951",
    "_uuid": "cd8bb187e8c479604a37e911e13106e1a6afd08b"
   },
   "outputs": [
    {
     "data": {
      "text/plain": [
       "9     7838\n",
       "13    6438\n",
       "16    4320\n",
       "7     3003\n",
       "3     2673\n",
       "5     2646\n",
       "2     1546\n",
       "18    1539\n",
       "11    1423\n",
       "6     1175\n",
       "17     989\n",
       "12     830\n",
       "19     825\n",
       "14     821\n",
       "1      804\n",
       "4      755\n",
       "8      667\n",
       "10     526\n",
       "15     489\n",
       "0      467\n",
       "Name: cuisine, dtype: int64"
      ]
     },
     "execution_count": 47,
     "metadata": {},
     "output_type": "execute_result"
    }
   ],
   "source": [
    "df['cuisine'].value_counts() \n",
    "#now showing how many recipes belong to each cuisine type, where cuisine type is labelled as numbers"
   ]
  },
  {
   "cell_type": "code",
   "execution_count": 48,
   "metadata": {
    "_cell_guid": "602bc8c9-ed5f-4895-bb92-fb1595a8f4a8",
    "_uuid": "a69d5bb9d31faa95a5cf87f0ab57fce22b9cbaa5",
    "collapsed": true
   },
   "outputs": [],
   "source": [
    "cuisine_map={'0':'brazilian', '1':'british', '2':'cajun_creole', '3':'chinese', '4':'filipino', '5':'french', '6':'greek', '7':'indian', '8':'irish', '9':'italian', '10':'jamaican', '11':'japanese', '12':'korean', '13':'mexican', '14':'moroccan', '15':'russian', '16':'southern_us', '17':'spanish', '18':'thai', '19':'vietnamese'}"
   ]
  },
  {
   "cell_type": "code",
   "execution_count": 49,
   "metadata": {
    "_cell_guid": "b7f47bc0-1cfe-4e6f-8ada-ad339d243c0a",
    "_uuid": "b0037bd0ee13647084d2db75e8807c9d02bdc089",
    "collapsed": true
   },
   "outputs": [],
   "source": [
    "Y=[]\n",
    "Y = df['cuisine']\n"
   ]
  },
  {
   "cell_type": "code",
   "execution_count": 50,
   "metadata": {
    "_cell_guid": "3f063030-346e-4270-8965-5a44ebd7d704",
    "_uuid": "e079de051738223a8b8db2fed03496bee34730da"
   },
   "outputs": [
    {
     "name": "stderr",
     "output_type": "stream",
     "text": [
      "/Library/anaconda/lib/python3.6/site-packages/sklearn/cross_validation.py:44: DeprecationWarning: This module was deprecated in version 0.18 in favor of the model_selection module into which all the refactored classes and functions are moved. Also note that the interface of the new CV iterators are different from that of this module. This module will be removed in 0.20.\n",
      "  \"This module will be removed in 0.20.\", DeprecationWarning)\n"
     ]
    }
   ],
   "source": [
    "import numpy as np\n",
    "from sklearn.preprocessing import Imputer\n",
    "from sklearn.cross_validation import train_test_split #get DeprecationWarning - change to newer module: model_selection?\n",
    "from sklearn.neighbors import KNeighborsClassifier\n",
    "from sklearn.metrics import accuracy_score"
   ]
  },
  {
   "cell_type": "code",
   "execution_count": 51,
   "metadata": {
    "_cell_guid": "3f063030-346e-4270-8965-5a44ebd7d704",
    "_uuid": "e079de051738223a8b8db2fed03496bee34730da"
   },
   "outputs": [],
   "source": [
    "import numpy as np\n",
    "from sklearn.preprocessing import Imputer\n",
    "from sklearn.model_selection import train_test_split #get DeprecationWarning above - replaced with newer module: model_selection\n",
    "from sklearn.neighbors import KNeighborsClassifier\n",
    "from sklearn.metrics import accuracy_score"
   ]
  },
  {
   "cell_type": "code",
   "execution_count": 52,
   "metadata": {
    "_cell_guid": "4ed68b4c-63ae-4c3c-8504-2d20e6826516",
    "_uuid": "195883e23eaef0c376581402863d8863eaf6f30d",
    "collapsed": true
   },
   "outputs": [],
   "source": [
    "X_train, X_test, y_train, y_test = train_test_split(X, Y, test_size = 0.2, random_state = 100) #train-test 80-20 split"
   ]
  },
  {
   "cell_type": "code",
   "execution_count": 53,
   "metadata": {
    "_cell_guid": "7b430622-c80f-4a21-9e40-8eb953a54c55",
    "_uuid": "7a0931718abf9058d2738063edf92e3da741842d"
   },
   "outputs": [
    {
     "name": "stdout",
     "output_type": "stream",
     "text": [
      "Accuracy is  70.1822752986 % for K-Value: 1\n",
      "Accuracy is  68.409805154 % for K-Value: 2\n",
      "Accuracy is  71.690760528 % for K-Value: 3\n",
      "Accuracy is  72.8472658705 % for K-Value: 4\n",
      "Accuracy is  73.3249528598 % for K-Value: 5\n",
      "Accuracy is  73.9912005028 % for K-Value: 6\n",
      "Accuracy is  74.1923318668 % for K-Value: 7\n",
      "Accuracy is  74.5191703331 % for K-Value: 8\n",
      "Accuracy is  74.6951602766 % for K-Value: 9\n",
      "Accuracy is  74.4688874921 % for K-Value: 10\n",
      "Accuracy is  74.7831552483 % for K-Value: 11\n",
      "Accuracy is  74.7077309868 % for K-Value: 12\n",
      "Accuracy is  74.5694531741 % for K-Value: 13\n",
      "Accuracy is  74.4688874921 % for K-Value: 14\n",
      "Accuracy is  74.7328724073 % for K-Value: 15\n",
      "Accuracy is  74.720301697 % for K-Value: 16\n",
      "Accuracy is  74.770584538 % for K-Value: 17\n",
      "Accuracy is  74.6825895663 % for K-Value: 18\n",
      "Accuracy is  74.4940289126 % for K-Value: 19\n",
      "Accuracy is  74.5568824639 % for K-Value: 20\n",
      "Accuracy is  74.4688874921 % for K-Value: 21\n",
      "Accuracy is  74.2677561282 % for K-Value: 22\n",
      "Accuracy is  74.2928975487 % for K-Value: 23\n",
      "Accuracy is  74.3431803897 % for K-Value: 24\n",
      "Accuracy is  74.3934632307 % for K-Value: 25\n"
     ]
    }
   ],
   "source": [
    "for K in range(25):\n",
    " K_value = K+1\n",
    " neigh = KNeighborsClassifier(n_neighbors = K_value, weights='uniform', algorithm='auto')\n",
    " neigh.fit(X_train, y_train) \n",
    " y_pred = neigh.predict(X_test)\n",
    " print(\"Accuracy is \", accuracy_score(y_test,y_pred)*100,\"% for K-Value:\",K_value)\n"
   ]
  },
  {
   "cell_type": "code",
   "execution_count": 54,
   "metadata": {
    "_cell_guid": "eeceaa15-0ac7-4e34-9d44-3fb48ca0c225",
    "_uuid": "826ca2e2fe61eaa193068862d4cc81bc33977983"
   },
   "outputs": [
    {
     "name": "stdout",
     "output_type": "stream",
     "text": [
      "Accuracy is  74.7831552483 % for K-Value:11\n"
     ]
    }
   ],
   "source": [
    "#Implement KNN(So we take K value to be 11, becuase it gives the highest accuracy) \n",
    "#(look up KNN, why range 25 in previous cell?)**\n",
    "neigh = KNeighborsClassifier(n_neighbors = 11, weights='uniform', algorithm='auto')\n",
    "neigh.fit(X_train, y_train) \n",
    "y_pred = neigh.predict(X_test)\n",
    "print(\"Accuracy is \", accuracy_score(y_test,y_pred)*100,\"% for K-Value:11\")"
   ]
  },
  {
   "cell_type": "code",
   "execution_count": 57,
   "metadata": {
    "_cell_guid": "70896557-3b1d-4824-8df6-7f9fd5661cef",
    "_uuid": "38950d6479ecc9b4a3dd6da3abd61f2e2a638859"
   },
   "outputs": [
    {
     "name": "stdout",
     "output_type": "stream",
     "text": [
      "Best score for data1: 0.776234325403\n",
      "Best C: 1\n",
      "Best Kernel: linear\n",
      "Best Gamma: auto\n"
     ]
    }
   ],
   "source": [
    "#Implement Grid Serch for best Gamma, C and Selection between rbf and linear kernel **look up OVA, Grid Search\n",
    "from sklearn import svm, datasets\n",
    "#from sklearn.cross_validation import StratifiedKFold\n",
    "from sklearn.model_selection import StratifiedKFold\n",
    "#from sklearn.grid_search import GridSearchCV #another DeprecationWarning, replaced with model_selection\n",
    "from sklearn.model_selection import GridSearchCV\n",
    "from sklearn.svm import SVC\n",
    "parameter_candidates = [\n",
    "  {'C': [1, 10, 100, 1000], 'kernel': ['linear']},\n",
    "  {'C': [1, 10, 100, 1000], 'gamma': [0.001, 0.0001], 'kernel': ['rbf']},\n",
    "]\n",
    "clf = GridSearchCV(estimator=svm.SVC(), param_grid=parameter_candidates, n_jobs=-1)\n",
    "clf.fit(X_train, y_train)   \n",
    "print('Best score for data1:', clf.best_score_) \n",
    "print('Best C:',clf.best_estimator_.C) \n",
    "print('Best Kernel:',clf.best_estimator_.kernel)\n",
    "print('Best Gamma:',clf.best_estimator_.gamma)"
   ]
  },
  {
   "cell_type": "code",
   "execution_count": 58,
   "metadata": {
    "_cell_guid": "6bb5187d-18dd-43d8-b754-dce1a5ae8342",
    "_uuid": "33b3d0ec9327f4d8cfac6db04a97594395f4bc7c"
   },
   "outputs": [
    {
     "name": "stdout",
     "output_type": "stream",
     "text": [
      "78.8812067882\n"
     ]
    }
   ],
   "source": [
    "#OVA SVM(Grid Search Results: Kernel - Linear, C - 1, Gamma - Auto)\n",
    "from sklearn import svm\n",
    "lin_clf = svm.LinearSVC(C=1)\n",
    "lin_clf.fit(X_train, y_train)\n",
    "y_pred=lin_clf.predict(X_test)\n",
    "print(accuracy_score(y_test,y_pred)*100)"
   ]
  },
  {
   "cell_type": "code",
   "execution_count": 59,
   "metadata": {
    "_cell_guid": "993be91c-7ac8-4a35-9222-25d48d6817ee",
    "_uuid": "9bad365b9f57bbde7cd0895835737950ed7e5a8e"
   },
   "outputs": [
    {
     "name": "stdout",
     "output_type": "stream",
     "text": [
      "78.8057825267\n"
     ]
    }
   ],
   "source": [
    "#SVM by Crammer(Grid Search Results: Gamma - , C - )\n",
    "lin_clf = svm.LinearSVC(C=1.0, multi_class='crammer_singer')\n",
    "lin_clf.fit(X_train, y_train)\n",
    "y_pred=lin_clf.predict(X_test)\n",
    "print(accuracy_score(y_test,y_pred)*100)"
   ]
  },
  {
   "cell_type": "code",
   "execution_count": 60,
   "metadata": {
    "_cell_guid": "b9b49750-5f0d-4f90-8bf1-d438deeaaad0",
    "_uuid": "b8ced1ba840d25079e6f686e13a2d48a35965011"
   },
   "outputs": [
    {
     "name": "stdout",
     "output_type": "stream",
     "text": [
      "66.7756128221\n"
     ]
    }
   ],
   "source": [
    "#Implementing OVA Naive Bayes\n",
    "from sklearn.naive_bayes import MultinomialNB\n",
    "clf = MultinomialNB().fit(X_train, y_train)\n",
    "y_pred = clf.predict(X_test)\n",
    "print(accuracy_score(y_test,y_pred)*100)"
   ]
  },
  {
   "cell_type": "code",
   "execution_count": 61,
   "metadata": {
    "_cell_guid": "228beae2-e285-4ed1-89e1-78324e5cbd67",
    "_uuid": "7150e3974c94ac8f58563d70feaa14fc5df84721"
   },
   "outputs": [
    {
     "name": "stdout",
     "output_type": "stream",
     "text": [
      "77.7372721559\n"
     ]
    }
   ],
   "source": [
    "#Implementing OVA Logistic Regerssion\n",
    "from sklearn.linear_model import LogisticRegression\n",
    "logisticRegr = LogisticRegression()\n",
    "logisticRegr.fit(X_train, y_train)\n",
    "y_pred = logisticRegr.predict(X_test)\n",
    "print(accuracy_score(y_test,y_pred)*100)"
   ]
  },
  {
   "cell_type": "code",
   "execution_count": 62,
   "metadata": {
    "_cell_guid": "2adf1de2-92f8-46cd-a819-c3d6691bad7c",
    "_uuid": "4dc22fc2f48d477c5486f2f905f1457e77eee1df"
   },
   "outputs": [
    {
     "name": "stdout",
     "output_type": "stream",
     "text": [
      "['mexican', 'southern_us', 'italian', 'mexican', 'japanese', 'mexican', 'italian', 'indian', 'italian', 'moroccan', 'french', 'mexican', 'japanese', 'southern_us', 'italian', 'mexican', 'italian', 'japanese', 'indian', 'japanese', 'mexican', 'chinese', 'mexican', 'spanish', 'italian', 'greek', 'vietnamese', 'italian', 'thai', 'jamaican', 'italian', 'greek', 'cajun_creole', 'french', 'japanese', 'italian', 'cajun_creole', 'french', 'british', 'british', 'italian', 'italian', 'italian', 'irish', 'mexican', 'moroccan', 'indian', 'french', 'mexican', 'mexican', 'mexican', 'southern_us', 'mexican', 'southern_us', 'chinese', 'southern_us', 'mexican', 'japanese', 'greek', 'brazilian', 'southern_us', 'italian', 'indian', 'italian', 'chinese', 'mexican', 'vietnamese', 'french', 'jamaican', 'italian', 'mexican', 'italian', 'chinese', 'filipino', 'italian', 'chinese', 'indian', 'indian', 'italian', 'vietnamese', 'greek', 'greek', 'chinese', 'russian', 'italian', 'indian', 'mexican', 'filipino', 'italian', 'mexican', 'korean', 'italian', 'vietnamese', 'cajun_creole', 'mexican', 'southern_us', 'thai', 'southern_us', 'japanese', 'japanese', 'greek', 'mexican', 'italian', 'spanish', 'southern_us', 'spanish', 'french', 'filipino', 'mexican', 'french', 'chinese', 'mexican', 'korean', 'indian', 'italian', 'southern_us', 'southern_us', 'cajun_creole', 'mexican', 'moroccan', 'vietnamese', 'italian', 'southern_us', 'thai', 'mexican', 'cajun_creole', 'thai', 'southern_us', 'italian', 'indian', 'italian', 'southern_us', 'mexican', 'mexican', 'vietnamese', 'indian', 'greek', 'mexican', 'italian', 'southern_us', 'southern_us', 'brazilian', 'french', 'indian', 'korean', 'chinese', 'greek', 'italian', 'cajun_creole', 'italian', 'cajun_creole', 'mexican', 'italian', 'indian', 'french', 'japanese', 'italian', 'french', 'southern_us', 'cajun_creole', 'moroccan', 'italian', 'brazilian', 'french', 'italian', 'mexican', 'thai', 'british', 'italian', 'italian', 'jamaican', 'moroccan', 'cajun_creole', 'mexican', 'chinese', 'chinese', 'french', 'italian', 'mexican', 'french', 'irish', 'italian', 'cajun_creole', 'cajun_creole', 'italian', 'chinese', 'southern_us', 'vietnamese', 'filipino', 'mexican', 'vietnamese', 'mexican', 'southern_us', 'italian', 'italian', 'thai', 'chinese', 'italian', 'italian', 'jamaican', 'korean', 'brazilian', 'mexican', 'brazilian', 'mexican', 'italian', 'italian', 'spanish', 'greek', 'thai', 'italian', 'chinese', 'french', 'korean', 'japanese', 'french', 'korean', 'indian', 'spanish', 'chinese', 'mexican', 'jamaican', 'mexican', 'thai', 'irish', 'italian', 'french', 'italian', 'mexican', 'mexican', 'mexican', 'mexican', 'cajun_creole', 'southern_us', 'greek', 'cajun_creole', 'british', 'mexican', 'vietnamese', 'indian', 'jamaican', 'italian', 'southern_us', 'southern_us', 'vietnamese', 'italian', 'thai', 'mexican', 'japanese', 'southern_us', 'italian', 'greek', 'italian', 'japanese', 'italian', 'korean', 'italian', 'southern_us', 'mexican', 'southern_us', 'mexican', 'french', 'mexican', 'mexican', 'chinese', 'mexican', 'chinese', 'filipino', 'japanese', 'irish', 'italian', 'indian', 'indian', 'chinese', 'indian', 'italian', 'brazilian', 'italian', 'vietnamese', 'chinese', 'brazilian', 'italian', 'cajun_creole', 'indian', 'mexican', 'vietnamese', 'vietnamese', 'indian', 'indian', 'italian', 'mexican', 'korean', 'italian', 'southern_us', 'french', 'italian', 'southern_us', 'cajun_creole', 'italian', 'southern_us', 'italian', 'chinese', 'indian', 'mexican', 'chinese', 'mexican', 'indian', 'southern_us', 'thai', 'french', 'spanish', 'mexican', 'italian', 'french', 'filipino', 'jamaican', 'italian', 'mexican', 'greek', 'russian', 'southern_us', 'italian', 'japanese', 'italian', 'thai', 'thai', 'chinese', 'chinese', 'thai', 'french', 'italian', 'mexican', 'filipino', 'chinese', 'chinese', 'italian', 'mexican', 'mexican', 'vietnamese', 'mexican', 'brazilian', 'mexican', 'moroccan', 'brazilian', 'chinese', 'southern_us', 'italian', 'cajun_creole', 'chinese', 'mexican', 'chinese', 'mexican', 'british', 'korean', 'indian', 'moroccan', 'southern_us', 'southern_us', 'indian', 'southern_us', 'mexican', 'southern_us', 'mexican', 'southern_us', 'southern_us', 'italian', 'chinese', 'cajun_creole', 'mexican', 'thai', 'mexican', 'chinese', 'jamaican', 'thai', 'vietnamese', 'indian', 'cajun_creole', 'italian', 'southern_us', 'mexican', 'italian', 'southern_us', 'french', 'mexican', 'jamaican', 'chinese', 'southern_us', 'greek', 'chinese', 'chinese', 'filipino', 'brazilian', 'mexican', 'mexican', 'mexican', 'mexican', 'moroccan', 'italian', 'french', 'indian', 'mexican', 'indian', 'cajun_creole', 'chinese', 'indian', 'spanish', 'chinese', 'spanish', 'southern_us', 'japanese', 'italian', 'greek', 'italian', 'mexican', 'irish', 'mexican', 'indian', 'mexican', 'french', 'indian', 'italian', 'russian', 'indian', 'mexican', 'thai', 'indian', 'southern_us', 'chinese', 'italian', 'mexican', 'italian', 'mexican', 'italian', 'italian', 'filipino', 'japanese', 'filipino', 'italian', 'british', 'italian', 'italian', 'southern_us', 'british', 'thai', 'british', 'chinese', 'indian', 'mexican', 'italian', 'indian', 'mexican', 'french', 'french', 'southern_us', 'thai', 'indian', 'italian', 'chinese', 'italian', 'mexican', 'british', 'italian', 'italian', 'mexican', 'mexican', 'cajun_creole', 'mexican', 'indian', 'chinese', 'mexican', 'mexican', 'cajun_creole', 'japanese', 'mexican', 'italian', 'chinese', 'southern_us', 'mexican', 'indian', 'italian', 'italian', 'thai', 'southern_us', 'italian', 'mexican', 'italian', 'italian', 'chinese', 'southern_us', 'chinese', 'italian', 'mexican', 'southern_us', 'greek', 'jamaican', 'thai', 'southern_us', 'mexican', 'italian', 'vietnamese', 'japanese', 'italian', 'japanese', 'french', 'irish', 'mexican', 'italian', 'italian', 'thai', 'mexican', 'spanish', 'italian', 'korean', 'mexican', 'chinese', 'cajun_creole', 'chinese', 'mexican', 'indian', 'mexican', 'french', 'mexican', 'southern_us', 'italian', 'italian', 'mexican', 'french', 'mexican', 'southern_us', 'vietnamese', 'filipino', 'cajun_creole', 'chinese', 'mexican', 'indian', 'greek', 'moroccan', 'japanese', 'chinese', 'korean', 'thai', 'italian', 'irish', 'italian', 'chinese', 'korean', 'chinese', 'spanish', 'cajun_creole', 'french', 'greek', 'mexican', 'greek', 'mexican', 'greek', 'indian', 'mexican', 'mexican', 'indian', 'italian', 'british', 'italian', 'mexican', 'southern_us', 'italian', 'japanese', 'chinese', 'jamaican', 'french', 'italian', 'mexican', 'cajun_creole', 'italian', 'italian', 'korean', 'italian', 'filipino', 'japanese', 'moroccan', 'greek', 'southern_us', 'russian', 'italian', 'chinese', 'indian', 'southern_us', 'french', 'spanish', 'filipino', 'mexican', 'korean', 'indian', 'british', 'italian', 'chinese', 'mexican', 'mexican', 'french', 'southern_us', 'italian', 'thai', 'spanish', 'chinese', 'moroccan', 'italian', 'thai', 'chinese', 'cajun_creole', 'southern_us', 'italian', 'french', 'japanese', 'french', 'italian', 'mexican', 'jamaican', 'irish', 'spanish', 'spanish', 'southern_us', 'italian', 'korean', 'italian', 'italian', 'italian', 'italian', 'mexican', 'southern_us', 'southern_us', 'italian', 'british', 'southern_us', 'mexican', 'spanish', 'italian', 'mexican', 'spanish', 'southern_us', 'chinese', 'moroccan', 'italian', 'brazilian', 'mexican', 'irish', 'italian', 'filipino', 'mexican', 'indian', 'southern_us', 'thai', 'italian', 'chinese', 'indian', 'mexican', 'spanish', 'chinese', 'mexican', 'spanish', 'southern_us', 'southern_us', 'french', 'korean', 'japanese', 'mexican', 'indian', 'indian', 'indian', 'korean', 'indian', 'french', 'french', 'italian', 'italian', 'french', 'italian', 'southern_us', 'italian', 'chinese', 'mexican', 'italian', 'mexican', 'french', 'french', 'southern_us', 'mexican', 'italian', 'italian', 'thai', 'italian', 'moroccan', 'italian', 'vietnamese', 'chinese', 'thai', 'indian', 'indian', 'southern_us', 'mexican', 'mexican', 'vietnamese', 'italian', 'jamaican', 'indian', 'italian', 'southern_us', 'irish', 'french', 'italian', 'italian', 'french', 'spanish', 'italian', 'mexican', 'italian', 'mexican', 'italian', 'italian', 'indian', 'thai', 'cajun_creole', 'jamaican', 'italian', 'jamaican', 'mexican', 'french', 'mexican', 'mexican', 'italian', 'cajun_creole', 'italian', 'italian', 'chinese', 'mexican', 'french', 'moroccan', 'southern_us', 'mexican', 'italian', 'thai', 'italian', 'italian', 'italian', 'italian', 'mexican', 'vietnamese', 'italian', 'italian', 'thai', 'greek', 'indian', 'spanish', 'indian', 'jamaican', 'french', 'cajun_creole', 'irish', 'thai', 'chinese', 'japanese', 'italian', 'mexican', 'korean', 'italian', 'russian', 'moroccan', 'filipino', 'southern_us', 'southern_us', 'mexican', 'italian', 'southern_us', 'mexican', 'mexican', 'chinese', 'southern_us', 'indian', 'vietnamese', 'mexican', 'jamaican', 'irish', 'japanese', 'southern_us', 'mexican', 'chinese', 'vietnamese', 'mexican', 'italian', 'italian', 'southern_us', 'moroccan', 'indian', 'mexican', 'italian', 'italian', 'southern_us', 'italian', 'spanish', 'cajun_creole', 'southern_us', 'korean', 'indian', 'french', 'italian', 'mexican', 'french', 'italian', 'moroccan', 'french', 'italian', 'mexican', 'italian', 'filipino', 'italian', 'southern_us', 'french', 'indian', 'french', 'french', 'italian', 'mexican', 'italian', 'mexican', 'indian', 'french', 'mexican', 'chinese', 'italian', 'french', 'chinese', 'mexican', 'southern_us', 'indian', 'moroccan', 'southern_us', 'chinese', 'southern_us', 'cajun_creole', 'russian', 'french', 'irish', 'chinese', 'british', 'chinese', 'southern_us', 'italian', 'mexican', 'thai', 'italian', 'southern_us', 'southern_us', 'italian', 'southern_us', 'italian', 'jamaican', 'italian', 'chinese', 'mexican', 'japanese', 'chinese', 'italian', 'southern_us', 'japanese', 'italian', 'italian', 'southern_us', 'spanish', 'italian', 'thai', 'thai', 'southern_us', 'cajun_creole', 'french', 'southern_us', 'mexican', 'indian', 'french', 'indian', 'southern_us', 'irish', 'korean', 'southern_us', 'chinese', 'southern_us', 'southern_us', 'italian', 'italian', 'mexican', 'southern_us', 'chinese', 'french', 'mexican', 'italian', 'british', 'italian', 'irish', 'southern_us', 'indian', 'southern_us', 'indian', 'southern_us', 'french', 'italian', 'italian', 'mexican', 'indian', 'italian', 'moroccan', 'italian', 'italian', 'cajun_creole', 'southern_us', 'thai', 'french', 'moroccan', 'thai', 'thai', 'chinese', 'indian', 'cajun_creole', 'italian', 'chinese', 'mexican', 'mexican', 'moroccan', 'irish', 'chinese', 'italian', 'mexican', 'southern_us', 'indian', 'southern_us', 'thai', 'russian', 'thai', 'indian', 'spanish', 'vietnamese', 'italian', 'filipino', 'mexican', 'british', 'italian', 'italian', 'italian', 'italian', 'southern_us', 'irish', 'irish', 'spanish', 'vietnamese', 'southern_us', 'mexican', 'italian', 'greek', 'thai', 'mexican', 'french', 'cajun_creole', 'vietnamese', 'italian', 'british', 'southern_us', 'chinese', 'italian', 'filipino', 'french', 'indian', 'moroccan', 'italian', 'french', 'chinese', 'southern_us', 'french', 'cajun_creole', 'vietnamese', 'chinese', 'irish', 'thai', 'jamaican', 'italian', 'southern_us', 'italian', 'italian', 'southern_us', 'southern_us', 'southern_us', 'vietnamese', 'british', 'italian', 'jamaican', 'cajun_creole', 'mexican', 'cajun_creole', 'italian', 'spanish', 'chinese', 'french', 'spanish', 'southern_us', 'mexican', 'french', 'mexican', 'vietnamese', 'italian', 'italian', 'korean', 'indian', 'thai', 'southern_us', 'french', 'italian', 'russian', 'mexican', 'british', 'mexican', 'italian', 'mexican', 'southern_us', 'irish', 'irish', 'southern_us', 'mexican', 'mexican', 'thai', 'vietnamese', 'italian', 'southern_us', 'italian', 'mexican', 'indian', 'french', 'mexican', 'chinese', 'italian', 'vietnamese', 'chinese', 'jamaican', 'southern_us', 'indian', 'southern_us', 'greek', 'southern_us', 'indian', 'mexican', 'mexican', 'french', 'french', 'italian', 'korean', 'italian', 'british', 'southern_us', 'italian', 'mexican', 'french', 'mexican', 'indian', 'italian', 'chinese', 'greek', 'mexican', 'brazilian', 'italian', 'french', 'southern_us', 'french', 'italian', 'italian', 'spanish', 'mexican', 'cajun_creole', 'chinese', 'indian', 'italian', 'chinese', 'southern_us', 'jamaican', 'filipino', 'southern_us', 'mexican', 'italian', 'indian', 'chinese', 'french', 'cajun_creole', 'italian', 'japanese', 'vietnamese', 'french', 'indian', 'italian', 'korean', 'greek', 'southern_us', 'british', 'chinese', 'japanese', 'chinese', 'chinese', 'southern_us', 'indian', 'korean', 'chinese', 'french', 'mexican', 'mexican', 'french', 'mexican', 'korean', 'indian', 'indian', 'indian', 'mexican', 'french', 'cajun_creole', 'indian', 'chinese', 'mexican', 'italian', 'indian', 'southern_us', 'french', 'indian', 'italian', 'indian', 'mexican', 'italian', 'cajun_creole', 'mexican', 'italian', 'italian', 'moroccan', 'japanese', 'indian', 'mexican', 'chinese', 'italian', 'french', 'southern_us', 'mexican', 'italian', 'mexican', 'greek', 'indian', 'french', 'spanish', 'chinese', 'irish', 'french', 'mexican', 'irish', 'french', 'mexican', 'vietnamese', 'southern_us', 'jamaican', 'vietnamese', 'chinese', 'mexican', 'italian', 'mexican', 'chinese', 'italian', 'southern_us', 'italian', 'italian', 'italian', 'japanese', 'british', 'mexican', 'korean', 'russian', 'indian', 'italian', 'irish', 'mexican', 'italian', 'southern_us', 'korean', 'japanese', 'thai', 'indian', 'french', 'french', 'jamaican', 'indian', 'indian', 'italian', 'italian', 'mexican', 'indian', 'japanese', 'mexican', 'cajun_creole', 'mexican', 'chinese', 'southern_us', 'cajun_creole', 'indian', 'spanish', 'indian', 'italian', 'italian', 'greek', 'japanese', 'southern_us', 'mexican', 'mexican', 'moroccan', 'thai', 'thai', 'british', 'spanish', 'greek', 'thai', 'southern_us', 'indian', 'mexican', 'moroccan', 'thai', 'moroccan', 'chinese', 'french', 'mexican', 'italian', 'korean', 'filipino', 'chinese', 'spanish', 'southern_us', 'italian', 'mexican', 'french', 'indian', 'french', 'indian', 'chinese', 'russian', 'southern_us', 'italian', 'thai', 'thai', 'thai', 'french', 'mexican', 'japanese', 'spanish', 'mexican', 'british', 'mexican', 'mexican', 'indian', 'italian', 'mexican', 'southern_us', 'italian', 'french', 'spanish', 'italian', 'mexican', 'moroccan', 'mexican', 'french', 'mexican', 'southern_us', 'mexican', 'irish', 'vietnamese', 'italian', 'cajun_creole', 'greek', 'greek', 'french', 'italian', 'italian', 'southern_us', 'chinese', 'thai', 'italian', 'italian', 'cajun_creole', 'indian', 'greek', 'french', 'irish', 'filipino', 'mexican', 'chinese', 'italian', 'mexican', 'russian', 'italian', 'italian', 'mexican', 'moroccan', 'french', 'mexican', 'filipino', 'italian', 'french', 'spanish', 'french', 'mexican', 'southern_us', 'french', 'italian', 'mexican', 'mexican', 'moroccan', 'greek', 'mexican', 'italian', 'indian', 'spanish', 'mexican', 'chinese', 'southern_us', 'greek', 'southern_us', 'italian', 'thai', 'thai', 'indian', 'chinese', 'thai', 'indian', 'italian', 'japanese', 'irish', 'moroccan', 'italian', 'italian', 'japanese', 'chinese', 'southern_us', 'italian', 'italian', 'italian', 'italian', 'indian', 'moroccan', 'southern_us', 'southern_us', 'italian', 'british', 'southern_us', 'indian', 'italian', 'chinese', 'indian', 'southern_us', 'mexican', 'mexican', 'italian', 'southern_us', 'italian', 'mexican', 'indian', 'chinese', 'moroccan', 'indian', 'greek', 'italian', 'french', 'italian', 'italian', 'chinese', 'mexican', 'moroccan', 'mexican', 'italian', 'indian', 'italian', 'filipino', 'cajun_creole', 'southern_us', 'southern_us', 'irish', 'greek', 'russian', 'indian', 'japanese', 'spanish', 'chinese', 'indian', 'mexican', 'italian', 'vietnamese', 'southern_us', 'italian', 'indian', 'italian', 'italian', 'italian', 'mexican', 'mexican', 'indian', 'jamaican', 'spanish', 'french', 'russian', 'filipino', 'italian', 'jamaican', 'italian', 'mexican', 'mexican', 'mexican', 'indian', 'italian', 'mexican', 'chinese', 'mexican', 'italian', 'italian', 'french', 'indian', 'italian', 'mexican', 'indian', 'southern_us', 'irish', 'french', 'italian', 'mexican', 'mexican', 'indian', 'greek', 'italian', 'thai', 'korean', 'korean', 'indian', 'southern_us', 'french', 'chinese', 'japanese', 'indian', 'greek', 'mexican', 'indian', 'southern_us', 'japanese', 'italian', 'southern_us', 'mexican', 'thai', 'italian', 'greek', 'southern_us', 'indian', 'southern_us', 'italian', 'british', 'indian', 'mexican', 'indian', 'spanish', 'irish', 'indian', 'cajun_creole', 'irish', 'mexican', 'french', 'thai', 'japanese', 'mexican', 'british', 'russian', 'indian', 'cajun_creole', 'chinese', 'japanese', 'french', 'mexican', 'thai', 'british', 'indian', 'filipino', 'italian', 'southern_us', 'moroccan', 'italian', 'greek', 'brazilian', 'spanish', 'japanese', 'moroccan', 'indian', 'russian', 'italian', 'italian', 'italian', 'japanese', 'chinese', 'mexican', 'french', 'italian', 'thai', 'italian', 'filipino', 'italian', 'thai', 'indian', 'indian', 'jamaican', 'mexican', 'southern_us', 'indian', 'chinese', 'spanish', 'french', 'brazilian', 'thai', 'italian', 'jamaican', 'italian', 'korean', 'japanese', 'italian', 'indian', 'irish', 'korean', 'mexican', 'southern_us', 'mexican', 'indian', 'korean', 'brazilian', 'southern_us', 'french', 'greek', 'british', 'chinese', 'italian', 'italian', 'thai', 'indian', 'thai', 'mexican', 'cajun_creole', 'mexican', 'spanish', 'british', 'thai', 'greek', 'cajun_creole', 'mexican', 'greek', 'cajun_creole', 'italian', 'southern_us', 'chinese', 'thai', 'italian', 'mexican', 'indian', 'french', 'italian', 'french', 'mexican', 'italian', 'italian', 'russian', 'mexican', 'british', 'chinese', 'mexican', 'southern_us', 'mexican', 'greek', 'mexican', 'mexican', 'brazilian', 'mexican', 'italian', 'greek', 'mexican', 'french', 'chinese', 'chinese', 'french', 'moroccan', 'italian', 'italian', 'italian', 'chinese', 'vietnamese', 'french', 'indian', 'italian', 'chinese', 'italian', 'indian', 'mexican', 'italian', 'japanese', 'italian', 'cajun_creole', 'french', 'mexican', 'southern_us', 'french', 'greek', 'korean', 'cajun_creole', 'french', 'french', 'italian', 'mexican', 'vietnamese', 'mexican', 'french', 'russian', 'french', 'italian', 'mexican', 'thai', 'japanese', 'korean', 'korean', 'japanese', 'mexican', 'italian', 'mexican', 'italian', 'chinese', 'chinese', 'italian', 'cajun_creole', 'mexican', 'chinese', 'italian', 'greek', 'italian', 'french', 'mexican', 'italian', 'cajun_creole', 'thai', 'brazilian', 'mexican', 'greek', 'southern_us', 'mexican', 'thai', 'moroccan', 'greek', 'french', 'mexican', 'japanese', 'indian', 'jamaican', 'mexican', 'thai', 'korean', 'southern_us', 'mexican', 'italian', 'greek', 'southern_us', 'moroccan', 'italian', 'greek', 'russian', 'chinese', 'italian', 'british', 'italian', 'italian', 'chinese', 'southern_us', 'mexican', 'french', 'greek', 'mexican', 'italian', 'mexican', 'mexican', 'chinese', 'italian', 'indian', 'brazilian', 'italian', 'korean', 'mexican', 'southern_us', 'italian', 'southern_us', 'chinese', 'french', 'russian', 'chinese', 'southern_us', 'korean', 'italian', 'spanish', 'mexican', 'cajun_creole', 'italian', 'brazilian', 'mexican', 'mexican', 'cajun_creole', 'korean', 'southern_us', 'mexican', 'southern_us', 'mexican', 'italian', 'italian', 'japanese', 'british', 'moroccan', 'mexican', 'mexican', 'italian', 'italian', 'mexican', 'southern_us', 'mexican', 'mexican', 'french', 'italian', 'mexican', 'indian', 'chinese', 'italian', 'southern_us', 'greek', 'mexican', 'mexican', 'thai', 'moroccan', 'mexican', 'mexican', 'brazilian', 'italian', 'indian', 'indian', 'mexican', 'southern_us', 'mexican', 'italian', 'mexican', 'filipino', 'mexican', 'french', 'mexican', 'vietnamese', 'italian', 'southern_us', 'spanish', 'irish', 'italian', 'southern_us', 'french', 'mexican', 'indian', 'southern_us', 'italian', 'southern_us', 'chinese', 'jamaican', 'indian', 'korean', 'vietnamese', 'mexican', 'cajun_creole', 'italian', 'mexican', 'italian', 'indian', 'russian', 'french', 'russian', 'mexican', 'thai', 'southern_us', 'italian', 'russian', 'thai', 'italian', 'mexican', 'mexican', 'cajun_creole', 'japanese', 'vietnamese', 'italian', 'japanese', 'southern_us', 'italian', 'italian', 'mexican', 'french', 'indian', 'french', 'southern_us', 'chinese', 'vietnamese', 'irish', 'thai', 'mexican', 'italian', 'italian', 'spanish', 'italian', 'korean', 'italian', 'spanish', 'chinese', 'italian', 'chinese', 'irish', 'cajun_creole', 'french', 'french', 'irish', 'southern_us', 'southern_us', 'moroccan', 'spanish', 'vietnamese', 'mexican', 'southern_us', 'irish', 'irish', 'british', 'moroccan', 'indian', 'mexican', 'italian', 'italian', 'chinese', 'southern_us', 'mexican', 'italian', 'spanish', 'korean', 'spanish', 'italian', 'thai', 'vietnamese', 'korean', 'italian', 'vietnamese', 'chinese', 'italian', 'italian', 'indian', 'french', 'mexican', 'moroccan', 'italian', 'spanish', 'greek', 'irish', 'filipino', 'moroccan', 'mexican', 'italian', 'british', 'italian', 'russian', 'vietnamese', 'chinese', 'southern_us', 'southern_us', 'mexican', 'thai', 'southern_us', 'indian', 'indian', 'southern_us', 'southern_us', 'italian', 'moroccan', 'mexican', 'italian', 'italian', 'brazilian', 'mexican', 'filipino', 'spanish', 'southern_us', 'chinese', 'chinese', 'brazilian', 'indian', 'cajun_creole', 'russian', 'french', 'indian', 'italian', 'french', 'french', 'southern_us', 'mexican', 'italian', 'greek', 'southern_us', 'indian', 'cajun_creole', 'italian', 'british', 'southern_us', 'indian', 'italian', 'italian', 'moroccan', 'spanish', 'mexican', 'southern_us', 'jamaican', 'southern_us', 'thai', 'italian', 'indian', 'irish', 'italian', 'cajun_creole', 'mexican', 'french', 'french', 'italian', 'moroccan', 'french', 'italian', 'southern_us', 'indian', 'mexican', 'italian', 'italian', 'southern_us', 'italian', 'vietnamese', 'french', 'southern_us', 'indian', 'thai', 'mexican', 'cajun_creole', 'southern_us', 'japanese', 'southern_us', 'italian', 'southern_us', 'mexican', 'indian', 'southern_us', 'mexican', 'british', 'italian', 'mexican', 'mexican', 'korean', 'mexican', 'italian', 'italian', 'chinese', 'italian', 'british', 'greek', 'cajun_creole', 'mexican', 'french', 'filipino', 'vietnamese', 'vietnamese', 'italian', 'chinese', 'french', 'mexican', 'italian', 'cajun_creole', 'italian', 'italian', 'spanish', 'italian', 'french', 'indian', 'moroccan', 'southern_us', 'southern_us', 'french', 'greek', 'thai', 'mexican', 'italian', 'mexican', 'mexican', 'cajun_creole', 'italian', 'southern_us', 'indian', 'british', 'korean', 'italian', 'french', 'thai', 'southern_us', 'indian', 'mexican', 'mexican', 'japanese', 'french', 'mexican', 'indian', 'japanese', 'indian', 'italian', 'mexican', 'italian', 'filipino', 'italian', 'italian', 'moroccan', 'spanish', 'french', 'southern_us', 'italian', 'italian', 'cajun_creole', 'mexican', 'italian', 'russian', 'chinese', 'southern_us', 'mexican', 'indian', 'jamaican', 'southern_us', 'chinese', 'italian', 'italian', 'italian', 'mexican', 'italian', 'chinese', 'spanish', 'korean', 'spanish', 'italian', 'italian', 'mexican', 'southern_us', 'indian', 'filipino', 'indian', 'southern_us', 'chinese', 'southern_us', 'southern_us', 'mexican', 'cajun_creole', 'cajun_creole', 'korean', 'italian', 'italian', 'french', 'mexican', 'italian', 'mexican', 'thai', 'southern_us', 'cajun_creole', 'southern_us', 'mexican', 'mexican', 'indian', 'italian', 'mexican', 'chinese', 'indian', 'british', 'southern_us', 'greek', 'italian', 'irish', 'mexican', 'italian', 'italian', 'italian', 'french', 'chinese', 'japanese', 'indian', 'italian', 'filipino', 'mexican', 'filipino', 'southern_us', 'mexican', 'italian', 'french', 'mexican', 'greek', 'french', 'japanese', 'mexican', 'mexican', 'italian', 'indian', 'indian', 'chinese', 'thai', 'vietnamese', 'greek', 'spanish', 'italian', 'british', 'mexican', 'irish', 'filipino', 'filipino', 'russian', 'mexican', 'italian', 'british', 'irish', 'italian', 'southern_us', 'italian', 'russian', 'southern_us', 'italian', 'chinese', 'thai', 'french', 'mexican', 'spanish', 'southern_us', 'italian', 'mexican', 'irish', 'korean', 'indian', 'korean', 'filipino', 'japanese', 'italian', 'chinese', 'southern_us', 'french', 'british', 'british', 'brazilian', 'japanese', 'chinese', 'thai', 'mexican', 'southern_us', 'vietnamese', 'british', 'indian', 'thai', 'chinese', 'chinese', 'indian', 'italian', 'southern_us', 'vietnamese', 'vietnamese', 'cajun_creole', 'mexican', 'italian', 'chinese', 'greek', 'mexican', 'spanish', 'southern_us', 'mexican', 'italian', 'mexican', 'mexican', 'chinese', 'southern_us', 'mexican', 'chinese', 'spanish', 'mexican', 'italian', 'italian', 'moroccan', 'spanish', 'thai', 'southern_us', 'mexican', 'jamaican', 'mexican', 'italian', 'italian', 'french', 'italian', 'spanish', 'italian', 'japanese', 'mexican', 'cajun_creole', 'italian', 'italian', 'moroccan', 'french', 'southern_us', 'korean', 'moroccan', 'mexican', 'cajun_creole', 'mexican', 'indian', 'italian', 'chinese', 'french', 'japanese', 'greek', 'chinese', 'greek', 'irish', 'cajun_creole', 'indian', 'british', 'mexican', 'mexican', 'italian', 'filipino', 'indian', 'italian', 'italian', 'russian', 'italian', 'southern_us', 'southern_us', 'italian', 'italian', 'italian', 'moroccan', 'cajun_creole', 'moroccan', 'jamaican', 'italian', 'chinese', 'mexican', 'japanese', 'italian', 'mexican', 'chinese', 'southern_us', 'mexican', 'vietnamese', 'thai', 'mexican', 'italian', 'mexican', 'italian', 'italian', 'italian', 'italian', 'mexican', 'french', 'spanish', 'italian', 'filipino', 'italian', 'southern_us', 'southern_us', 'french', 'mexican', 'vietnamese', 'spanish', 'southern_us', 'italian', 'indian', 'filipino', 'mexican', 'mexican', 'southern_us', 'southern_us', 'italian', 'greek', 'southern_us', 'italian', 'italian', 'italian', 'indian', 'southern_us', 'french', 'french', 'chinese', 'mexican', 'spanish', 'italian', 'brazilian', 'italian', 'southern_us', 'chinese', 'mexican', 'italian', 'italian', 'mexican', 'italian', 'mexican', 'thai', 'southern_us', 'french', 'thai', 'brazilian', 'french', 'moroccan', 'indian', 'japanese', 'jamaican', 'french', 'mexican', 'southern_us', 'indian', 'moroccan', 'southern_us', 'thai', 'italian', 'italian', 'filipino', 'vietnamese', 'mexican', 'italian', 'indian', 'italian', 'indian', 'indian', 'southern_us', 'southern_us', 'mexican', 'thai', 'southern_us', 'mexican', 'mexican', 'spanish', 'moroccan', 'indian', 'moroccan', 'chinese', 'chinese', 'italian', 'brazilian', 'mexican', 'french', 'cajun_creole', 'cajun_creole', 'mexican', 'italian', 'moroccan', 'mexican', 'french', 'japanese', 'thai', 'mexican', 'french', 'italian', 'thai', 'mexican', 'mexican', 'french', 'chinese', 'cajun_creole', 'french', 'spanish', 'mexican', 'russian', 'korean', 'mexican', 'italian', 'british', 'mexican', 'southern_us', 'brazilian', 'italian', 'italian', 'mexican', 'mexican', 'thai', 'french', 'italian', 'italian', 'mexican', 'mexican', 'british', 'vietnamese', 'italian', 'mexican', 'thai', 'mexican', 'vietnamese', 'southern_us', 'mexican', 'southern_us', 'mexican', 'mexican', 'italian', 'italian', 'italian', 'filipino', 'southern_us', 'greek', 'mexican', 'southern_us', 'southern_us', 'french', 'french', 'cajun_creole', 'mexican', 'spanish', 'italian', 'mexican', 'italian', 'italian', 'indian', 'italian', 'indian', 'moroccan', 'british', 'indian', 'russian', 'cajun_creole', 'italian', 'indian', 'southern_us', 'italian', 'greek', 'french', 'brazilian', 'mexican', 'chinese', 'italian', 'vietnamese', 'french', 'thai', 'indian', 'spanish', 'chinese', 'southern_us', 'southern_us', 'mexican', 'vietnamese', 'mexican', 'mexican', 'russian', 'mexican', 'italian', 'mexican', 'japanese', 'italian', 'italian', 'cajun_creole', 'indian', 'russian', 'french', 'greek', 'southern_us', 'italian', 'indian', 'korean', 'indian', 'spanish', 'brazilian', 'italian', 'italian', 'spanish', 'chinese', 'mexican', 'italian', 'chinese', 'mexican', 'indian', 'southern_us', 'mexican', 'italian', 'japanese', 'italian', 'mexican', 'korean', 'british', 'french', 'moroccan', 'italian', 'italian', 'italian', 'southern_us', 'southern_us', 'chinese', 'korean', 'french', 'greek', 'spanish', 'italian', 'italian', 'mexican', 'irish', 'indian', 'british', 'mexican', 'korean', 'italian', 'thai', 'french', 'chinese', 'thai', 'greek', 'southern_us', 'mexican', 'italian', 'italian', 'indian', 'mexican', 'italian', 'mexican', 'irish', 'cajun_creole', 'japanese', 'chinese', 'mexican', 'thai', 'japanese', 'brazilian', 'french', 'indian', 'indian', 'mexican', 'mexican', 'southern_us', 'italian', 'italian', 'mexican', 'thai', 'italian', 'brazilian', 'mexican', 'indian', 'southern_us', 'greek', 'thai', 'mexican', 'indian', 'thai', 'chinese', 'italian', 'spanish', 'mexican', 'vietnamese', 'mexican', 'mexican', 'southern_us', 'italian', 'italian', 'cajun_creole', 'mexican', 'chinese', 'italian', 'southern_us', 'korean', 'southern_us', 'italian', 'italian', 'southern_us', 'filipino', 'southern_us', 'british', 'chinese', 'cajun_creole', 'mexican', 'indian', 'korean', 'chinese', 'thai', 'italian', 'cajun_creole', 'italian', 'cajun_creole', 'southern_us', 'french', 'japanese', 'mexican', 'japanese', 'greek', 'italian', 'moroccan', 'italian', 'thai', 'french', 'vietnamese', 'indian', 'chinese', 'indian', 'italian', 'mexican', 'southern_us', 'spanish', 'cajun_creole', 'mexican', 'thai', 'southern_us', 'southern_us', 'italian', 'indian', 'jamaican', 'italian', 'vietnamese', 'indian', 'mexican', 'italian', 'mexican', 'chinese', 'chinese', 'mexican', 'cajun_creole', 'southern_us', 'mexican', 'cajun_creole', 'chinese', 'thai', 'italian', 'chinese', 'moroccan', 'mexican', 'mexican', 'mexican', 'vietnamese', 'greek', 'italian', 'mexican', 'indian', 'irish', 'italian', 'southern_us', 'greek', 'french', 'southern_us', 'vietnamese', 'southern_us', 'italian', 'thai', 'italian', 'japanese', 'indian', 'southern_us', 'greek', 'japanese', 'southern_us', 'italian', 'italian', 'italian', 'vietnamese', 'chinese', 'italian', 'southern_us', 'mexican', 'mexican', 'thai', 'italian', 'french', 'thai', 'southern_us', 'spanish', 'korean', 'french', 'filipino', 'cajun_creole', 'filipino', 'mexican', 'indian', 'cajun_creole', 'indian', 'chinese', 'thai', 'italian', 'cajun_creole', 'indian', 'italian', 'italian', 'japanese', 'italian', 'indian', 'chinese', 'moroccan', 'mexican', 'french', 'mexican', 'mexican', 'greek', 'vietnamese', 'cajun_creole', 'moroccan', 'southern_us', 'mexican', 'french', 'indian', 'mexican', 'southern_us', 'italian', 'indian', 'moroccan', 'southern_us', 'italian', 'indian', 'southern_us', 'brazilian', 'cajun_creole', 'italian', 'japanese', 'moroccan', 'moroccan', 'indian', 'mexican', 'french', 'italian', 'filipino', 'jamaican', 'indian', 'italian', 'russian', 'british', 'brazilian', 'thai', 'italian', 'southern_us', 'southern_us', 'spanish', 'indian', 'southern_us', 'vietnamese', 'southern_us', 'british', 'italian', 'italian', 'filipino', 'chinese', 'indian', 'japanese', 'greek', 'greek', 'southern_us', 'mexican', 'italian', 'mexican', 'french', 'italian', 'southern_us', 'indian', 'italian', 'italian', 'cajun_creole', 'vietnamese', 'chinese', 'mexican', 'italian', 'filipino', 'spanish', 'italian', 'irish', 'french', 'french', 'southern_us', 'indian', 'southern_us', 'italian', 'mexican', 'mexican', 'japanese', 'korean', 'cajun_creole', 'russian', 'indian', 'mexican', 'chinese', 'italian', 'indian', 'cajun_creole', 'korean', 'moroccan', 'thai', 'indian', 'french', 'mexican', 'japanese', 'southern_us', 'chinese', 'cajun_creole', 'italian', 'southern_us', 'jamaican', 'japanese', 'southern_us', 'italian', 'vietnamese', 'french', 'french', 'thai', 'southern_us', 'southern_us', 'mexican', 'italian', 'mexican', 'chinese', 'british', 'italian', 'thai', 'korean', 'italian', 'indian', 'jamaican', 'italian', 'british', 'southern_us', 'italian', 'indian', 'chinese', 'mexican', 'italian', 'italian', 'french', 'french', 'italian', 'italian', 'brazilian', 'italian', 'mexican', 'italian', 'italian', 'italian', 'spanish', 'thai', 'chinese', 'vietnamese', 'greek', 'italian', 'moroccan', 'filipino', 'chinese', 'chinese', 'greek', 'japanese', 'indian', 'thai', 'italian', 'southern_us', 'indian', 'cajun_creole', 'italian', 'mexican', 'vietnamese', 'italian', 'japanese', 'southern_us', 'brazilian', 'southern_us', 'italian', 'mexican', 'indian', 'mexican', 'mexican', 'mexican', 'indian', 'indian', 'italian', 'italian', 'italian', 'mexican', 'indian', 'southern_us', 'mexican', 'mexican', 'greek', 'brazilian', 'french', 'mexican', 'italian', 'mexican', 'cajun_creole', 'italian', 'chinese', 'indian', 'russian', 'french', 'italian', 'moroccan', 'italian', 'thai', 'italian', 'japanese', 'chinese', 'indian', 'southern_us', 'british', 'french', 'greek', 'chinese', 'jamaican', 'korean', 'mexican', 'chinese', 'mexican', 'italian', 'mexican', 'mexican', 'mexican', 'southern_us', 'mexican', 'indian', 'chinese', 'moroccan', 'italian', 'indian', 'russian', 'italian', 'mexican', 'british', 'italian', 'mexican', 'chinese', 'french', 'french', 'southern_us', 'italian', 'italian', 'thai', 'indian', 'japanese', 'italian', 'mexican', 'mexican', 'mexican', 'italian', 'korean', 'chinese', 'italian', 'mexican', 'mexican', 'southern_us', 'french', 'mexican', 'french', 'italian', 'french', 'british', 'mexican', 'italian', 'southern_us', 'southern_us', 'southern_us', 'indian', 'southern_us', 'cajun_creole', 'french', 'italian', 'japanese', 'italian', 'southern_us', 'indian', 'indian', 'mexican', 'cajun_creole', 'indian', 'greek', 'mexican', 'chinese', 'indian', 'southern_us', 'french', 'japanese', 'southern_us', 'chinese', 'spanish', 'mexican', 'mexican', 'mexican', 'mexican', 'indian', 'southern_us', 'irish', 'filipino', 'filipino', 'chinese', 'cajun_creole', 'moroccan', 'italian', 'japanese', 'southern_us', 'japanese', 'southern_us', 'italian', 'mexican', 'southern_us', 'indian', 'brazilian', 'irish', 'moroccan', 'jamaican', 'indian', 'japanese', 'mexican', 'mexican', 'british', 'thai', 'southern_us', 'spanish', 'spanish', 'vietnamese', 'korean', 'mexican', 'japanese', 'jamaican', 'italian', 'cajun_creole', 'cajun_creole', 'indian', 'southern_us', 'moroccan', 'italian', 'mexican', 'vietnamese', 'spanish', 'irish', 'japanese', 'greek', 'filipino', 'irish', 'southern_us', 'southern_us', 'greek', 'indian', 'chinese', 'thai', 'japanese', 'french', 'mexican', 'french', 'mexican', 'brazilian', 'southern_us', 'italian', 'thai', 'italian', 'filipino', 'italian', 'italian', 'spanish', 'chinese', 'mexican', 'italian', 'indian', 'japanese', 'jamaican', 'italian', 'italian', 'korean', 'indian', 'southern_us', 'mexican', 'italian', 'irish', 'indian', 'vietnamese', 'russian', 'indian', 'mexican', 'chinese', 'southern_us', 'mexican', 'french', 'indian', 'chinese', 'southern_us', 'moroccan', 'italian', 'southern_us', 'southern_us', 'filipino', 'italian', 'southern_us', 'korean', 'chinese', 'mexican', 'mexican', 'italian', 'chinese', 'greek', 'greek', 'italian', 'southern_us', 'mexican', 'indian', 'moroccan', 'italian', 'italian', 'mexican', 'italian', 'greek', 'southern_us', 'mexican', 'italian', 'mexican', 'mexican', 'italian', 'southern_us', 'southern_us', 'thai', 'vietnamese', 'jamaican', 'chinese', 'mexican', 'italian', 'southern_us', 'moroccan', 'southern_us', 'filipino', 'greek', 'southern_us', 'italian', 'mexican', 'british', 'southern_us', 'filipino', 'southern_us', 'italian', 'southern_us', 'cajun_creole', 'greek', 'thai', 'southern_us', 'irish', 'italian', 'cajun_creole', 'cajun_creole', 'greek', 'southern_us', 'indian', 'jamaican', 'cajun_creole', 'southern_us', 'southern_us', 'french', 'vietnamese', 'italian', 'thai', 'chinese', 'korean', 'mexican', 'korean', 'irish', 'indian', 'indian', 'southern_us', 'southern_us', 'vietnamese', 'southern_us', 'thai', 'japanese', 'chinese', 'italian', 'indian', 'italian', 'mexican', 'spanish', 'chinese', 'mexican', 'mexican', 'moroccan', 'southern_us', 'italian', 'mexican', 'italian', 'mexican', 'italian', 'korean', 'italian', 'chinese', 'cajun_creole', 'thai', 'mexican', 'italian', 'cajun_creole', 'greek', 'southern_us', 'greek', 'japanese', 'thai', 'jamaican', 'italian', 'british', 'british', 'indian', 'irish', 'british', 'mexican', 'italian', 'irish', 'mexican', 'chinese', 'mexican', 'cajun_creole', 'spanish', 'italian', 'indian', 'thai', 'indian', 'italian', 'thai', 'southern_us', 'chinese', 'italian', 'mexican', 'italian', 'korean', 'indian', 'indian', 'korean', 'mexican', 'mexican', 'greek', 'southern_us', 'italian', 'indian', 'french', 'italian', 'chinese', 'cajun_creole', 'spanish', 'mexican', 'southern_us', 'spanish', 'southern_us', 'greek', 'italian', 'italian', 'mexican', 'mexican', 'british', 'southern_us', 'indian', 'southern_us', 'filipino', 'chinese', 'moroccan', 'cajun_creole', 'thai', 'mexican', 'russian', 'mexican', 'korean', 'french', 'italian', 'italian', 'southern_us', 'french', 'thai', 'spanish', 'korean', 'thai', 'mexican', 'italian', 'korean', 'indian', 'italian', 'french', 'italian', 'irish', 'french', 'indian', 'chinese', 'filipino', 'southern_us', 'mexican', 'mexican', 'indian', 'irish', 'mexican', 'jamaican', 'southern_us', 'russian', 'vietnamese', 'thai', 'chinese', 'indian', 'brazilian', 'indian', 'southern_us', 'indian', 'jamaican', 'indian', 'italian', 'indian', 'chinese', 'brazilian', 'southern_us', 'italian', 'japanese', 'indian', 'spanish', 'vietnamese', 'cajun_creole', 'french', 'french', 'mexican', 'filipino', 'filipino', 'spanish', 'italian', 'indian', 'italian', 'cajun_creole', 'japanese', 'italian', 'chinese', 'thai', 'italian', 'southern_us', 'indian', 'moroccan', 'mexican', 'mexican', 'mexican', 'jamaican', 'greek', 'filipino', 'indian', 'french', 'japanese', 'italian', 'mexican', 'mexican', 'french', 'southern_us', 'indian', 'italian', 'indian', 'chinese', 'mexican', 'thai', 'spanish', 'mexican', 'cajun_creole', 'southern_us', 'southern_us', 'italian', 'thai', 'greek', 'southern_us', 'chinese', 'mexican', 'korean', 'mexican', 'cajun_creole', 'greek', 'italian', 'korean', 'italian', 'italian', 'chinese', 'southern_us', 'irish', 'chinese', 'cajun_creole', 'mexican', 'vietnamese', 'italian', 'mexican', 'moroccan', 'indian', 'chinese', 'italian', 'indian', 'mexican', 'italian', 'mexican', 'chinese', 'thai', 'spanish', 'indian', 'italian', 'indian', 'korean', 'indian', 'moroccan', 'british', 'southern_us', 'thai', 'japanese', 'cajun_creole', 'chinese', 'indian', 'italian', 'chinese', 'italian', 'italian', 'southern_us', 'indian', 'indian', 'french', 'french', 'brazilian', 'british', 'southern_us', 'mexican', 'thai', 'mexican', 'mexican', 'southern_us', 'korean', 'chinese', 'italian', 'british', 'indian', 'indian', 'indian', 'japanese', 'southern_us', 'greek', 'southern_us', 'italian', 'french', 'italian', 'cajun_creole', 'french', 'chinese', 'indian', 'southern_us', 'southern_us', 'italian', 'italian', 'french', 'vietnamese', 'italian', 'indian', 'mexican', 'southern_us', 'southern_us', 'jamaican', 'mexican', 'chinese', 'mexican', 'japanese', 'southern_us', 'japanese', 'japanese', 'french', 'italian', 'italian', 'japanese', 'chinese', 'mexican', 'greek', 'mexican', 'italian', 'french', 'chinese', 'italian', 'southern_us', 'jamaican', 'jamaican', 'mexican', 'indian', 'irish', 'italian', 'southern_us', 'indian', 'southern_us', 'cajun_creole', 'indian', 'italian', 'italian', 'korean', 'italian', 'thai', 'mexican', 'french', 'southern_us', 'italian', 'chinese', 'italian', 'italian', 'italian', 'thai', 'southern_us', 'mexican', 'british', 'british', 'greek', 'indian', 'french', 'italian', 'mexican', 'italian', 'italian', 'french', 'french', 'chinese', 'thai', 'italian', 'mexican', 'italian', 'mexican', 'indian', 'french', 'japanese', 'mexican', 'thai', 'mexican', 'japanese', 'indian', 'japanese', 'greek', 'thai', 'italian', 'thai', 'mexican', 'irish', 'italian', 'indian', 'southern_us', 'mexican', 'mexican', 'southern_us', 'greek', 'italian', 'thai', 'italian', 'brazilian', 'mexican', 'southern_us', 'spanish', 'mexican', 'chinese', 'italian', 'irish', 'mexican', 'southern_us', 'italian', 'mexican', 'chinese', 'korean', 'cajun_creole', 'moroccan', 'spanish', 'italian', 'italian', 'italian', 'southern_us', 'mexican', 'french', 'irish', 'italian', 'mexican', 'thai', 'chinese', 'italian', 'greek', 'chinese', 'thai', 'french', 'italian', 'brazilian', 'southern_us', 'italian', 'brazilian', 'mexican', 'indian', 'cajun_creole', 'spanish', 'italian', 'italian', 'irish', 'french', 'mexican', 'mexican', 'korean', 'southern_us', 'mexican', 'italian', 'italian', 'italian', 'italian', 'chinese', 'british', 'southern_us', 'greek', 'greek', 'mexican', 'korean', 'italian', 'italian', 'french', 'brazilian', 'southern_us', 'mexican', 'indian', 'thai', 'french', 'french', 'french', 'french', 'mexican', 'mexican', 'korean', 'italian', 'italian', 'french', 'indian', 'italian', 'thai', 'mexican', 'italian', 'indian', 'italian', 'filipino', 'mexican', 'italian', 'mexican', 'italian', 'irish', 'mexican', 'italian', 'russian', 'vietnamese', 'british', 'chinese', 'chinese', 'mexican', 'mexican', 'southern_us', 'cajun_creole', 'chinese', 'southern_us', 'mexican', 'indian', 'mexican', 'japanese', 'japanese', 'mexican', 'italian', 'mexican', 'british', 'italian', 'mexican', 'italian', 'indian', 'korean', 'irish', 'greek', 'italian', 'indian', 'french', 'southern_us', 'southern_us', 'southern_us', 'italian', 'mexican', 'indian', 'southern_us', 'italian', 'southern_us', 'mexican', 'mexican', 'irish', 'italian', 'southern_us', 'thai', 'italian', 'cajun_creole', 'chinese', 'mexican', 'french', 'japanese', 'japanese', 'italian', 'jamaican', 'indian', 'italian', 'british', 'mexican', 'korean', 'southern_us', 'mexican', 'southern_us', 'chinese', 'southern_us', 'italian', 'thai', 'french', 'italian', 'italian', 'greek', 'vietnamese', 'japanese', 'italian', 'moroccan', 'moroccan', 'southern_us', 'italian', 'mexican', 'italian', 'italian', 'japanese', 'italian', 'mexican', 'mexican', 'filipino', 'italian', 'greek', 'italian', 'indian', 'greek', 'mexican', 'japanese', 'mexican', 'mexican', 'indian', 'chinese', 'italian', 'italian', 'italian', 'korean', 'indian', 'moroccan', 'southern_us', 'french', 'korean', 'mexican', 'italian', 'chinese', 'mexican', 'indian', 'mexican', 'chinese', 'italian', 'southern_us', 'mexican', 'southern_us', 'chinese', 'chinese', 'southern_us', 'indian', 'italian', 'mexican', 'thai', 'mexican', 'italian', 'southern_us', 'mexican', 'japanese', 'italian', 'italian', 'southern_us', 'british', 'chinese', 'thai', 'italian', 'italian', 'french', 'italian', 'southern_us', 'italian', 'british', 'mexican', 'italian', 'chinese', 'russian', 'mexican', 'filipino', 'southern_us', 'mexican', 'chinese', 'mexican', 'italian', 'japanese', 'southern_us', 'spanish', 'british', 'indian', 'french', 'british', 'southern_us', 'irish', 'italian', 'chinese', 'french', 'korean', 'korean', 'chinese', 'mexican', 'french', 'vietnamese', 'french', 'japanese', 'mexican', 'russian', 'cajun_creole', 'mexican', 'mexican', 'southern_us', 'italian', 'thai', 'irish', 'italian', 'japanese', 'southern_us', 'japanese', 'italian', 'italian', 'spanish', 'british', 'chinese', 'indian', 'french', 'mexican', 'irish', 'thai', 'indian', 'mexican', 'japanese', 'mexican', 'cajun_creole', 'french', 'french', 'mexican', 'italian', 'jamaican', 'mexican', 'thai', 'mexican', 'mexican', 'mexican', 'italian', 'filipino', 'southern_us', 'moroccan', 'mexican', 'italian', 'chinese', 'southern_us', 'italian', 'korean', 'chinese', 'italian', 'mexican', 'french', 'cajun_creole', 'mexican', 'southern_us', 'japanese', 'southern_us', 'southern_us', 'mexican', 'chinese', 'italian', 'moroccan', 'mexican', 'southern_us', 'cajun_creole', 'cajun_creole', 'mexican', 'italian', 'italian', 'irish', 'southern_us', 'vietnamese', 'indian', 'italian', 'thai', 'korean', 'japanese', 'british', 'southern_us', 'cajun_creole', 'mexican', 'cajun_creole', 'vietnamese', 'japanese', 'chinese', 'irish', 'italian', 'british', 'southern_us', 'moroccan', 'french', 'greek', 'british', 'mexican', 'french', 'southern_us', 'mexican', 'chinese', 'italian', 'mexican', 'french', 'thai', 'indian', 'southern_us', 'french', 'italian', 'british', 'italian', 'mexican', 'southern_us', 'british', 'italian', 'spanish', 'cajun_creole', 'french', 'russian', 'mexican', 'italian', 'spanish', 'southern_us', 'mexican', 'mexican', 'indian', 'japanese', 'mexican', 'italian', 'mexican', 'korean', 'indian', 'southern_us', 'spanish', 'southern_us', 'italian', 'thai', 'italian', 'french', 'mexican', 'greek', 'japanese', 'indian', 'italian', 'indian', 'cajun_creole', 'thai', 'french', 'italian', 'british', 'indian', 'moroccan', 'jamaican', 'french', 'chinese', 'italian', 'southern_us', 'italian', 'italian', 'mexican', 'italian', 'italian', 'italian', 'italian', 'indian', 'italian', 'french', 'filipino', 'mexican', 'spanish', 'chinese', 'southern_us', 'french', 'southern_us', 'cajun_creole', 'indian', 'irish', 'british', 'italian', 'japanese', 'spanish', 'french', 'indian', 'indian', 'mexican', 'southern_us', 'italian', 'greek', 'italian', 'mexican', 'british', 'japanese', 'thai', 'southern_us', 'cajun_creole', 'moroccan', 'vietnamese', 'greek', 'french', 'jamaican', 'mexican', 'italian', 'mexican', 'french', 'chinese', 'indian', 'korean', 'chinese', 'mexican', 'southern_us', 'mexican', 'italian', 'southern_us', 'korean', 'mexican', 'southern_us', 'thai', 'british', 'italian', 'french', 'chinese', 'russian', 'italian', 'chinese', 'french', 'italian', 'cajun_creole', 'southern_us', 'jamaican', 'greek', 'chinese', 'filipino', 'italian', 'italian', 'japanese', 'vietnamese', 'southern_us', 'southern_us', 'moroccan', 'french', 'italian', 'thai', 'indian', 'spanish', 'southern_us', 'italian', 'mexican', 'mexican', 'thai', 'japanese', 'french', 'vietnamese', 'thai', 'italian', 'mexican', 'italian', 'indian', 'italian', 'italian', 'spanish', 'southern_us', 'southern_us', 'mexican', 'cajun_creole', 'moroccan', 'french', 'korean', 'vietnamese', 'italian', 'indian', 'brazilian', 'southern_us', 'italian', 'italian', 'brazilian', 'cajun_creole', 'italian', 'mexican', 'chinese', 'italian', 'japanese', 'cajun_creole', 'filipino', 'mexican', 'irish', 'korean', 'italian', 'japanese', 'cajun_creole', 'thai', 'cajun_creole', 'italian', 'southern_us', 'mexican', 'greek', 'italian', 'mexican', 'italian', 'indian', 'spanish', 'chinese', 'cajun_creole', 'southern_us', 'mexican', 'italian', 'italian', 'french', 'mexican', 'southern_us', 'chinese', 'thai', 'chinese', 'russian', 'jamaican', 'mexican', 'italian', 'southern_us', 'moroccan', 'italian', 'italian', 'greek', 'mexican', 'italian', 'cajun_creole', 'southern_us', 'mexican', 'thai', 'thai', 'chinese', 'cajun_creole', 'chinese', 'mexican', 'british', 'mexican', 'mexican', 'british', 'indian', 'chinese', 'jamaican', 'british', 'italian', 'french', 'mexican', 'italian', 'greek', 'italian', 'moroccan', 'cajun_creole', 'moroccan', 'chinese', 'chinese', 'moroccan', 'italian', 'southern_us', 'mexican', 'southern_us', 'mexican', 'italian', 'italian', 'mexican', 'italian', 'italian', 'southern_us', 'italian', 'italian', 'southern_us', 'italian', 'japanese', 'mexican', 'french', 'thai', 'japanese', 'vietnamese', 'spanish', 'indian', 'italian', 'italian', 'indian', 'greek', 'vietnamese', 'indian', 'chinese', 'mexican', 'mexican', 'indian', 'mexican', 'italian', 'mexican', 'mexican', 'vietnamese', 'italian', 'moroccan', 'italian', 'italian', 'mexican', 'british', 'british', 'british', 'french', 'mexican', 'cajun_creole', 'italian', 'british', 'greek', 'chinese', 'thai', 'southern_us', 'irish', 'italian', 'mexican', 'filipino', 'greek', 'italian', 'mexican', 'italian', 'italian', 'mexican', 'mexican', 'greek', 'chinese', 'spanish', 'mexican', 'chinese', 'italian', 'indian', 'italian', 'italian', 'irish', 'italian', 'french', 'vietnamese', 'indian', 'cajun_creole', 'indian', 'italian', 'italian', 'italian', 'korean', 'vietnamese', 'spanish', 'japanese', 'italian', 'french', 'mexican', 'french', 'chinese', 'indian', 'spanish', 'mexican', 'spanish', 'cajun_creole', 'spanish', 'mexican', 'korean', 'italian', 'italian', 'french', 'italian', 'indian', 'indian', 'italian', 'chinese', 'chinese', 'korean', 'southern_us', 'italian', 'italian', 'moroccan', 'italian', 'southern_us', 'french', 'mexican', 'brazilian', 'brazilian', 'cajun_creole', 'chinese', 'indian', 'southern_us', 'korean', 'southern_us', 'southern_us', 'japanese', 'moroccan', 'jamaican', 'japanese', 'japanese', 'mexican', 'italian', 'mexican', 'mexican', 'french', 'japanese', 'thai', 'indian', 'greek', 'italian', 'italian', 'cajun_creole', 'indian', 'italian', 'chinese', 'indian', 'indian', 'mexican', 'mexican', 'southern_us', 'southern_us', 'spanish', 'southern_us', 'mexican', 'southern_us', 'mexican', 'french', 'mexican', 'french', 'korean', 'italian', 'filipino', 'southern_us', 'mexican', 'southern_us', 'mexican', 'thai', 'chinese', 'southern_us', 'italian', 'indian', 'cajun_creole', 'chinese', 'italian', 'cajun_creole', 'mexican', 'mexican', 'italian', 'cajun_creole', 'moroccan', 'italian', 'greek', 'brazilian', 'italian', 'mexican', 'indian', 'italian', 'greek', 'southern_us', 'mexican', 'italian', 'moroccan', 'italian', 'cajun_creole', 'italian', 'mexican', 'italian', 'thai', 'italian', 'mexican', 'chinese', 'british', 'italian', 'russian', 'italian', 'southern_us', 'cajun_creole', 'mexican', 'brazilian', 'cajun_creole', 'southern_us', 'cajun_creole', 'mexican', 'french', 'indian', 'spanish', 'italian', 'chinese', 'italian', 'southern_us', 'mexican', 'cajun_creole', 'italian', 'italian', 'french', 'indian', 'chinese', 'italian', 'indian', 'french', 'french', 'mexican', 'korean', 'italian', 'french', 'french', 'spanish', 'vietnamese', 'brazilian', 'italian', 'southern_us', 'french', 'italian', 'indian', 'filipino', 'italian', 'japanese', 'mexican', 'italian', 'italian', 'southern_us', 'italian', 'mexican', 'italian', 'mexican', 'mexican', 'italian', 'british', 'italian', 'italian', 'southern_us', 'mexican', 'chinese', 'italian', 'chinese', 'southern_us', 'italian', 'thai', 'italian', 'greek', 'indian', 'japanese', 'cajun_creole', 'chinese', 'french', 'italian', 'french', 'japanese', 'irish', 'british', 'french', 'mexican', 'brazilian', 'irish', 'french', 'spanish', 'indian', 'indian', 'british', 'filipino', 'korean', 'indian', 'thai', 'thai', 'korean', 'italian', 'greek', 'japanese', 'mexican', 'italian', 'japanese', 'greek', 'chinese', 'italian', 'japanese', 'chinese', 'greek', 'japanese', 'indian', 'italian', 'mexican', 'french', 'korean', 'italian', 'korean', 'french', 'southern_us', 'chinese', 'italian', 'indian', 'southern_us', 'mexican', 'mexican', 'french', 'italian', 'jamaican', 'french', 'mexican', 'mexican', 'french', 'spanish', 'chinese', 'chinese', 'cajun_creole', 'mexican', 'thai', 'southern_us', 'chinese', 'korean', 'southern_us', 'french', 'spanish', 'irish', 'mexican', 'french', 'italian', 'italian', 'italian', 'italian', 'mexican', 'italian', 'mexican', 'moroccan', 'british', 'italian', 'british', 'spanish', 'italian', 'indian', 'greek', 'mexican', 'southern_us', 'korean', 'chinese', 'french', 'japanese', 'italian', 'cajun_creole', 'italian', 'italian', 'russian', 'italian', 'british', 'indian', 'mexican', 'mexican', 'italian', 'indian', 'italian', 'jamaican', 'brazilian', 'vietnamese', 'southern_us', 'italian', 'mexican', 'italian', 'mexican', 'french', 'southern_us', 'indian', 'italian', 'french', 'greek', 'chinese', 'southern_us', 'thai', 'french', 'japanese', 'thai', 'russian', 'french', 'southern_us', 'italian', 'jamaican', 'chinese', 'chinese', 'spanish', 'southern_us', 'french', 'italian', 'french', 'japanese', 'italian', 'brazilian', 'indian', 'french', 'mexican', 'mexican', 'greek', 'japanese', 'southern_us', 'mexican', 'indian', 'greek', 'vietnamese', 'italian', 'mexican', 'korean', 'indian', 'japanese', 'indian', 'filipino', 'greek', 'southern_us', 'chinese', 'vietnamese', 'thai', 'southern_us', 'mexican', 'italian', 'southern_us', 'mexican', 'indian', 'korean', 'vietnamese', 'italian', 'mexican', 'cajun_creole', 'italian', 'thai', 'russian', 'italian', 'korean', 'korean', 'spanish', 'indian', 'italian', 'southern_us', 'chinese', 'brazilian', 'french', 'mexican', 'irish', 'southern_us', 'italian', 'southern_us', 'southern_us', 'southern_us', 'moroccan', 'mexican', 'filipino', 'mexican', 'southern_us', 'mexican', 'chinese', 'mexican', 'indian', 'italian', 'thai', 'indian', 'italian', 'mexican', 'spanish', 'filipino', 'british', 'mexican', 'greek', 'thai', 'southern_us', 'mexican', 'mexican', 'russian', 'mexican', 'japanese', 'mexican', 'filipino', 'french', 'italian', 'italian', 'italian', 'southern_us', 'cajun_creole', 'southern_us', 'french', 'thai', 'mexican', 'southern_us', 'mexican', 'cajun_creole', 'italian', 'cajun_creole', 'vietnamese', 'greek', 'chinese', 'southern_us', 'mexican', 'southern_us', 'indian', 'italian', 'southern_us', 'southern_us', 'mexican', 'italian', 'southern_us', 'chinese', 'british', 'indian', 'italian', 'indian', 'mexican', 'italian', 'italian', 'mexican', 'mexican', 'mexican', 'jamaican', 'mexican', 'mexican', 'indian', 'mexican', 'korean', 'italian', 'mexican', 'cajun_creole', 'chinese', 'filipino', 'mexican', 'italian', 'italian', 'french', 'japanese', 'italian', 'spanish', 'italian', 'thai', 'mexican', 'mexican', 'southern_us', 'greek', 'indian', 'italian', 'italian', 'indian', 'italian', 'chinese', 'french', 'indian', 'mexican', 'southern_us', 'southern_us', 'greek', 'mexican', 'indian', 'chinese', 'japanese', 'russian', 'southern_us', 'thai', 'french', 'mexican', 'italian', 'southern_us', 'greek', 'southern_us', 'spanish', 'thai', 'italian', 'irish', 'southern_us', 'italian', 'italian', 'korean', 'british', 'mexican', 'mexican', 'italian', 'russian', 'indian', 'chinese', 'mexican', 'italian', 'chinese', 'southern_us', 'italian', 'mexican', 'chinese', 'southern_us', 'filipino', 'cajun_creole', 'french', 'french', 'cajun_creole', 'jamaican', 'mexican', 'chinese', 'italian', 'italian', 'southern_us', 'chinese', 'vietnamese', 'vietnamese', 'italian', 'chinese', 'chinese', 'spanish', 'japanese', 'greek', 'russian', 'italian', 'russian', 'british', 'moroccan', 'thai', 'filipino', 'thai', 'southern_us', 'mexican', 'british', 'southern_us', 'irish', 'italian', 'indian', 'italian', 'chinese', 'mexican', 'spanish', 'cajun_creole', 'southern_us', 'brazilian', 'mexican', 'southern_us', 'southern_us', 'mexican', 'vietnamese', 'indian', 'mexican', 'mexican', 'korean', 'french', 'spanish', 'mexican', 'southern_us', 'korean', 'spanish', 'indian', 'mexican', 'filipino', 'italian', 'mexican', 'korean', 'southern_us', 'greek', 'chinese', 'italian', 'italian', 'spanish', 'italian', 'mexican', 'italian', 'vietnamese', 'italian', 'mexican', 'spanish', 'jamaican', 'mexican', 'chinese', 'moroccan', 'mexican', 'italian', 'mexican', 'indian', 'southern_us', 'mexican', 'southern_us', 'italian', 'mexican', 'indian', 'southern_us', 'indian', 'spanish', 'indian', 'indian', 'italian', 'indian', 'japanese', 'chinese', 'mexican', 'mexican', 'southern_us', 'italian', 'italian', 'italian', 'chinese', 'korean', 'mexican', 'moroccan', 'cajun_creole', 'italian', 'french', 'greek', 'japanese', 'russian', 'french', 'mexican', 'korean', 'italian', 'italian', 'thai', 'cajun_creole', 'chinese', 'thai', 'chinese', 'indian', 'chinese', 'french', 'japanese', 'mexican', 'italian', 'chinese', 'italian', 'jamaican', 'irish', 'cajun_creole', 'italian', 'chinese', 'filipino', 'italian', 'southern_us', 'indian', 'italian', 'cajun_creole', 'southern_us', 'chinese', 'southern_us', 'thai', 'korean', 'indian', 'jamaican', 'jamaican', 'spanish', 'cajun_creole', 'southern_us', 'thai', 'british', 'french', 'korean', 'italian', 'british', 'italian', 'southern_us', 'mexican', 'italian', 'italian', 'mexican', 'mexican', 'greek', 'mexican', 'greek', 'greek', 'thai', 'mexican', 'spanish', 'chinese', 'italian', 'mexican', 'spanish', 'italian', 'italian', 'southern_us', 'italian', 'italian', 'thai', 'italian', 'italian', 'irish', 'mexican', 'cajun_creole', 'mexican', 'southern_us', 'mexican', 'southern_us', 'italian', 'french', 'southern_us', 'japanese', 'italian', 'french', 'mexican', 'italian', 'mexican', 'french', 'southern_us', 'moroccan', 'british', 'brazilian', 'filipino', 'southern_us', 'french', 'chinese', 'french', 'italian', 'mexican', 'jamaican', 'southern_us', 'chinese', 'moroccan', 'greek', 'greek', 'thai', 'indian', 'mexican', 'mexican', 'thai', 'irish', 'british', 'italian', 'greek', 'italian', 'french', 'indian', 'indian', 'southern_us', 'mexican', 'french', 'spanish', 'spanish', 'southern_us', 'spanish', 'italian', 'irish', 'french', 'italian', 'indian', 'korean', 'italian', 'mexican', 'mexican', 'korean', 'indian', 'filipino', 'italian', 'moroccan', 'greek', 'cajun_creole', 'japanese', 'mexican', 'french', 'french', 'japanese', 'chinese', 'chinese', 'cajun_creole', 'mexican', 'mexican', 'italian', 'mexican', 'french', 'mexican', 'chinese', 'italian', 'southern_us', 'indian', 'japanese', 'vietnamese', 'mexican', 'southern_us', 'jamaican', 'mexican', 'cajun_creole', 'mexican', 'japanese', 'chinese', 'mexican', 'italian', 'indian', 'japanese', 'mexican', 'italian', 'vietnamese', 'chinese', 'italian', 'mexican', 'italian', 'chinese', 'spanish', 'mexican', 'japanese', 'southern_us', 'southern_us', 'mexican', 'russian', 'italian', 'greek', 'mexican', 'japanese', 'southern_us', 'thai', 'indian', 'filipino', 'indian', 'southern_us', 'vietnamese', 'greek', 'spanish', 'cajun_creole', 'moroccan', 'mexican', 'indian', 'japanese', 'italian', 'mexican', 'indian', 'mexican', 'mexican', 'chinese', 'italian', 'french', 'southern_us', 'indian', 'irish', 'indian', 'indian', 'italian', 'japanese', 'moroccan', 'italian', 'southern_us', 'italian', 'korean', 'italian', 'thai', 'italian', 'chinese', 'british', 'spanish', 'mexican', 'french', 'southern_us', 'french', 'irish', 'southern_us', 'korean', 'mexican', 'southern_us', 'french', 'southern_us', 'mexican', 'greek', 'korean', 'southern_us', 'italian', 'brazilian', 'chinese', 'thai', 'italian', 'southern_us', 'spanish', 'italian', 'chinese', 'mexican', 'mexican', 'southern_us', 'southern_us', 'cajun_creole', 'brazilian', 'southern_us', 'mexican', 'italian', 'french', 'russian', 'italian', 'mexican', 'thai', 'korean', 'italian', 'greek', 'spanish', 'japanese', 'italian', 'italian', 'italian', 'italian', 'filipino', 'spanish', 'italian', 'mexican', 'italian', 'mexican', 'southern_us', 'vietnamese', 'italian', 'indian', 'indian', 'mexican', 'indian', 'southern_us', 'chinese', 'french', 'vietnamese', 'cajun_creole', 'mexican', 'mexican', 'french', 'mexican', 'jamaican', 'vietnamese', 'italian', 'japanese', 'southern_us', 'british', 'southern_us', 'brazilian', 'indian', 'indian', 'italian', 'chinese', 'indian', 'vietnamese', 'southern_us', 'french', 'mexican', 'southern_us', 'thai', 'mexican', 'indian', 'mexican', 'italian', 'mexican', 'italian', 'italian', 'chinese', 'cajun_creole', 'moroccan', 'southern_us', 'italian', 'indian', 'southern_us', 'mexican', 'thai', 'italian', 'italian', 'french', 'cajun_creole', 'vietnamese', 'mexican', 'irish', 'mexican', 'southern_us', 'japanese', 'italian', 'french', 'mexican', 'southern_us', 'korean', 'vietnamese', 'mexican', 'japanese', 'brazilian', 'italian', 'cajun_creole', 'indian', 'british', 'indian', 'mexican', 'moroccan', 'mexican', 'greek', 'mexican', 'mexican', 'italian', 'korean', 'italian', 'mexican', 'southern_us', 'cajun_creole', 'spanish', 'indian', 'mexican', 'spanish', 'filipino', 'french', 'chinese', 'spanish', 'indian', 'italian', 'mexican', 'irish', 'cajun_creole', 'italian', 'indian', 'mexican', 'chinese', 'southern_us', 'cajun_creole', 'thai', 'french', 'southern_us', 'mexican', 'mexican', 'chinese', 'mexican', 'italian', 'chinese', 'indian', 'southern_us', 'spanish', 'japanese', 'italian', 'french', 'italian', 'chinese', 'italian', 'italian', 'italian', 'french', 'mexican', 'mexican', 'southern_us', 'italian', 'southern_us', 'indian', 'vietnamese', 'chinese', 'korean', 'southern_us', 'italian', 'cajun_creole', 'vietnamese', 'southern_us', 'mexican', 'italian', 'french', 'chinese', 'southern_us', 'korean', 'chinese', 'chinese', 'french', 'indian', 'french', 'vietnamese', 'thai', 'chinese', 'mexican', 'greek', 'french', 'brazilian', 'mexican', 'mexican', 'italian', 'southern_us', 'filipino', 'indian', 'chinese', 'italian', 'vietnamese', 'korean', 'southern_us', 'mexican', 'indian', 'indian', 'italian', 'italian', 'chinese', 'filipino', 'british', 'mexican', 'jamaican', 'mexican', 'italian', 'italian', 'mexican', 'chinese', 'southern_us', 'thai', 'british', 'mexican', 'korean', 'italian', 'irish', 'mexican', 'southern_us', 'indian', 'mexican', 'moroccan', 'southern_us', 'filipino', 'chinese', 'spanish', 'italian', 'southern_us', 'french', 'french', 'british', 'indian', 'chinese', 'italian', 'vietnamese', 'japanese', 'filipino', 'chinese', 'mexican', 'french', 'italian', 'mexican', 'southern_us', 'mexican', 'chinese', 'southern_us', 'italian', 'italian', 'french', 'spanish', 'thai', 'italian', 'vietnamese', 'chinese', 'thai', 'japanese', 'mexican', 'korean', 'italian', 'french', 'greek', 'italian', 'southern_us', 'chinese', 'mexican', 'southern_us', 'mexican', 'korean', 'indian', 'mexican', 'southern_us', 'british', 'indian', 'italian', 'russian', 'japanese', 'spanish', 'greek', 'vietnamese', 'filipino', 'southern_us', 'italian', 'japanese', 'thai', 'italian', 'italian', 'italian', 'jamaican', 'british', 'cajun_creole', 'southern_us', 'french', 'italian', 'italian', 'southern_us', 'french', 'italian', 'southern_us', 'greek', 'jamaican', 'british', 'vietnamese', 'jamaican', 'southern_us', 'italian', 'italian', 'southern_us', 'mexican', 'thai', 'mexican', 'jamaican', 'indian', 'italian', 'indian', 'filipino', 'jamaican', 'southern_us', 'mexican', 'greek', 'italian', 'italian', 'italian', 'french', 'southern_us', 'chinese', 'italian', 'moroccan', 'mexican', 'italian', 'french', 'vietnamese', 'japanese', 'mexican', 'mexican', 'southern_us', 'southern_us', 'french', 'indian', 'korean', 'cajun_creole', 'italian', 'mexican', 'korean', 'irish', 'italian', 'british', 'french', 'mexican', 'korean', 'russian', 'japanese', 'spanish', 'cajun_creole', 'italian', 'mexican', 'southern_us', 'italian', 'greek', 'southern_us', 'french', 'indian', 'indian', 'filipino', 'chinese', 'italian', 'irish', 'mexican', 'southern_us', 'irish', 'chinese', 'thai', 'japanese', 'spanish', 'british', 'italian', 'italian', 'french', 'french', 'french', 'italian', 'indian', 'southern_us', 'indian', 'chinese', 'french', 'mexican', 'italian', 'vietnamese', 'mexican', 'japanese', 'british', 'irish', 'french', 'cajun_creole', 'mexican', 'indian', 'italian', 'italian', 'cajun_creole', 'cajun_creole', 'italian', 'chinese', 'southern_us', 'southern_us', 'southern_us', 'southern_us', 'italian', 'chinese', 'chinese', 'thai', 'southern_us', 'italian', 'italian', 'thai', 'french', 'southern_us', 'chinese', 'british', 'british', 'italian', 'mexican', 'italian', 'italian', 'british', 'korean', 'italian', 'indian', 'mexican', 'southern_us', 'italian', 'irish', 'mexican', 'french', 'british', 'italian', 'japanese', 'korean', 'southern_us', 'cajun_creole', 'cajun_creole', 'italian', 'filipino', 'mexican', 'italian', 'cajun_creole', 'italian', 'moroccan', 'indian', 'cajun_creole', 'spanish', 'chinese', 'southern_us', 'southern_us', 'chinese', 'chinese', 'mexican', 'italian', 'cajun_creole', 'irish', 'french', 'greek', 'british', 'thai', 'mexican', 'italian', 'cajun_creole', 'french', 'chinese', 'russian', 'french', 'mexican', 'british', 'thai', 'indian', 'italian', 'japanese', 'italian', 'mexican', 'japanese', 'greek', 'japanese', 'mexican', 'korean', 'italian', 'southern_us', 'southern_us', 'italian', 'italian', 'korean', 'vietnamese', 'french', 'chinese', 'greek', 'japanese', 'filipino', 'indian', 'indian', 'southern_us', 'moroccan', 'italian', 'italian', 'southern_us', 'mexican', 'french', 'japanese', 'mexican', 'indian', 'southern_us', 'chinese', 'french', 'chinese', 'korean', 'french', 'italian', 'chinese', 'mexican', 'russian', 'italian', 'italian', 'southern_us', 'filipino', 'indian', 'jamaican', 'italian', 'mexican', 'thai', 'mexican', 'moroccan', 'irish', 'italian', 'french', 'spanish', 'mexican', 'indian', 'italian', 'southern_us', 'italian', 'southern_us', 'mexican', 'thai', 'italian', 'french', 'italian', 'indian', 'italian', 'southern_us', 'vietnamese', 'thai', 'french', 'greek', 'spanish', 'japanese', 'french', 'southern_us', 'thai', 'mexican', 'mexican', 'chinese', 'french', 'indian', 'italian', 'italian', 'southern_us', 'moroccan', 'russian', 'mexican', 'japanese', 'southern_us', 'moroccan', 'thai', 'indian', 'british', 'chinese', 'mexican', 'french', 'southern_us', 'indian', 'mexican', 'mexican', 'southern_us', 'southern_us', 'indian', 'indian', 'chinese', 'indian', 'chinese', 'italian', 'southern_us', 'greek', 'mexican', 'japanese', 'moroccan', 'thai', 'italian', 'southern_us', 'japanese', 'filipino', 'moroccan', 'italian', 'irish', 'mexican', 'southern_us', 'chinese', 'indian', 'mexican', 'indian', 'mexican', 'indian', 'southern_us', 'chinese', 'italian', 'italian', 'jamaican', 'jamaican', 'southern_us', 'japanese', 'italian', 'italian', 'vietnamese', 'mexican', 'italian', 'thai', 'mexican', 'irish', 'italian', 'mexican', 'southern_us', 'italian', 'jamaican', 'italian', 'southern_us', 'mexican', 'filipino', 'italian', 'moroccan', 'chinese', 'mexican', 'indian', 'mexican', 'greek', 'spanish', 'japanese', 'italian', 'italian', 'french', 'southern_us', 'chinese', 'southern_us', 'southern_us', 'southern_us', 'italian', 'french', 'mexican', 'mexican', 'irish', 'southern_us', 'mexican', 'moroccan', 'thai', 'cajun_creole', 'chinese', 'mexican', 'french', 'italian', 'japanese', 'southern_us', 'southern_us', 'southern_us', 'mexican', 'southern_us', 'vietnamese', 'italian', 'irish', 'southern_us', 'italian', 'british', 'italian', 'japanese', 'thai', 'chinese', 'italian', 'greek', 'moroccan', 'southern_us', 'italian', 'italian', 'thai', 'italian', 'italian', 'indian', 'mexican', 'italian', 'indian', 'japanese', 'french', 'cajun_creole', 'british', 'italian', 'southern_us', 'italian', 'cajun_creole', 'italian', 'french', 'indian', 'irish', 'italian', 'mexican', 'greek', 'italian', 'mexican', 'french', 'italian', 'spanish', 'irish', 'indian', 'italian', 'chinese', 'italian', 'french', 'italian', 'southern_us', 'italian', 'italian', 'chinese', 'french', 'mexican', 'southern_us', 'mexican', 'indian', 'southern_us', 'irish', 'southern_us', 'french', 'mexican', 'italian', 'french', 'thai', 'southern_us', 'mexican', 'mexican', 'indian', 'cajun_creole', 'thai', 'chinese', 'mexican', 'irish', 'italian', 'brazilian', 'irish', 'spanish', 'mexican', 'italian', 'chinese', 'chinese', 'southern_us', 'italian', 'mexican', 'mexican', 'italian', 'italian', 'mexican', 'cajun_creole', 'mexican', 'russian', 'korean', 'thai', 'italian', 'korean', 'chinese', 'moroccan', 'mexican', 'japanese', 'chinese', 'vietnamese', 'indian', 'indian', 'italian', 'japanese', 'russian', 'indian', 'italian', 'jamaican', 'cajun_creole', 'french', 'korean', 'chinese', 'mexican', 'chinese', 'british', 'italian', 'vietnamese', 'jamaican', 'italian', 'mexican', 'vietnamese', 'mexican', 'italian', 'french', 'mexican', 'korean', 'italian', 'indian', 'mexican', 'chinese', 'italian', 'brazilian', 'italian', 'italian', 'filipino', 'spanish', 'indian', 'southern_us', 'mexican', 'british', 'cajun_creole', 'thai', 'southern_us', 'chinese', 'italian', 'greek', 'thai', 'italian', 'southern_us', 'mexican', 'moroccan', 'mexican', 'mexican', 'italian', 'thai', 'mexican', 'vietnamese', 'mexican', 'chinese', 'moroccan', 'thai', 'french', 'mexican', 'italian', 'indian', 'mexican', 'chinese', 'british', 'french', 'italian', 'italian', 'southern_us', 'jamaican', 'italian', 'mexican', 'brazilian', 'mexican', 'italian', 'italian', 'vietnamese', 'italian', 'french', 'french', 'mexican', 'mexican', 'indian', 'indian', 'italian', 'moroccan', 'italian', 'mexican', 'filipino', 'southern_us', 'southern_us', 'filipino', 'italian', 'mexican', 'cajun_creole', 'southern_us', 'southern_us', 'jamaican', 'southern_us', 'filipino', 'chinese', 'greek', 'jamaican', 'italian', 'french', 'italian', 'irish', 'italian', 'indian', 'japanese', 'korean', 'italian', 'indian', 'chinese', 'moroccan', 'indian', 'mexican', 'southern_us', 'moroccan', 'french', 'irish', 'chinese', 'greek', 'italian', 'mexican', 'chinese', 'indian', 'southern_us', 'italian', 'filipino', 'irish', 'indian', 'mexican', 'italian', 'southern_us', 'mexican', 'mexican', 'french', 'southern_us', 'greek', 'mexican', 'korean', 'french', 'cajun_creole', 'vietnamese', 'italian', 'chinese', 'italian', 'greek', 'thai', 'french', 'cajun_creole', 'italian', 'french', 'southern_us', 'indian', 'french', 'chinese', 'mexican', 'italian', 'mexican', 'chinese', 'mexican', 'chinese', 'chinese', 'indian', 'chinese', 'mexican', 'southern_us', 'italian', 'mexican', 'southern_us', 'korean', 'italian', 'brazilian', 'mexican', 'mexican', 'italian', 'spanish', 'chinese', 'italian', 'japanese', 'southern_us', 'greek', 'vietnamese', 'japanese', 'italian', 'mexican', 'mexican', 'russian', 'italian', 'italian', 'italian', 'italian', 'indian', 'japanese', 'italian', 'japanese', 'mexican', 'italian', 'french', 'mexican', 'greek', 'jamaican', 'japanese', 'thai', 'indian', 'indian', 'mexican', 'indian', 'italian', 'italian', 'mexican', 'greek', 'korean', 'southern_us', 'italian', 'chinese', 'southern_us', 'thai', 'cajun_creole', 'southern_us', 'spanish', 'chinese', 'spanish', 'korean', 'japanese', 'indian', 'cajun_creole', 'japanese', 'italian', 'italian', 'southern_us', 'southern_us', 'vietnamese', 'brazilian', 'chinese', 'mexican', 'indian', 'indian', 'greek', 'mexican', 'mexican', 'thai', 'spanish', 'italian', 'japanese', 'mexican', 'southern_us', 'mexican', 'chinese', 'french', 'greek', 'indian', 'chinese', 'southern_us', 'brazilian', 'russian', 'italian', 'italian', 'mexican', 'chinese', 'japanese', 'cajun_creole', 'french', 'italian', 'italian', 'thai', 'french', 'mexican', 'jamaican', 'french', 'chinese', 'italian', 'spanish', 'cajun_creole', 'indian', 'vietnamese', 'mexican', 'italian', 'indian', 'irish', 'japanese', 'brazilian', 'french', 'jamaican', 'southern_us', 'indian', 'italian', 'french', 'italian', 'southern_us', 'japanese', 'italian', 'spanish', 'british', 'brazilian', 'cajun_creole', 'mexican', 'cajun_creole', 'mexican', 'japanese', 'spanish', 'chinese', 'japanese', 'southern_us', 'italian', 'italian', 'french', 'chinese', 'irish', 'greek', 'russian', 'southern_us', 'british', 'italian', 'italian', 'brazilian', 'italian', 'chinese', 'southern_us', 'southern_us', 'italian', 'southern_us', 'spanish', 'indian', 'mexican', 'southern_us', 'mexican', 'italian', 'indian', 'chinese', 'italian', 'italian', 'mexican', 'mexican', 'vietnamese', 'italian', 'indian', 'indian', 'jamaican', 'mexican', 'southern_us', 'italian', 'southern_us', 'italian', 'japanese', 'mexican', 'southern_us', 'spanish', 'moroccan', 'italian', 'korean', 'southern_us', 'french', 'british', 'southern_us', 'italian', 'cajun_creole', 'mexican', 'mexican', 'filipino', 'italian', 'filipino', 'moroccan', 'brazilian', 'jamaican', 'moroccan', 'french', 'mexican', 'mexican', 'korean', 'chinese', 'italian', 'greek', 'indian', 'southern_us', 'mexican', 'mexican', 'brazilian', 'italian', 'southern_us', 'mexican', 'southern_us', 'chinese', 'french', 'chinese', 'brazilian', 'brazilian', 'southern_us', 'jamaican', 'vietnamese', 'filipino', 'french', 'spanish', 'italian', 'chinese', 'italian', 'korean', 'indian', 'greek', 'indian', 'spanish', 'greek', 'southern_us', 'chinese', 'italian', 'italian', 'mexican', 'southern_us', 'italian', 'japanese', 'mexican', 'japanese', 'mexican', 'mexican', 'mexican', 'italian', 'french', 'irish', 'cajun_creole', 'italian', 'mexican', 'cajun_creole', 'southern_us', 'mexican', 'french', 'mexican', 'french', 'indian', 'italian', 'italian', 'vietnamese', 'thai', 'indian', 'chinese', 'cajun_creole', 'indian', 'spanish', 'southern_us', 'southern_us', 'italian', 'italian', 'italian', 'italian', 'japanese', 'mexican', 'indian', 'mexican', 'italian', 'southern_us', 'mexican', 'russian', 'filipino', 'indian', 'mexican', 'vietnamese', 'italian', 'irish', 'spanish', 'italian', 'mexican', 'cajun_creole', 'mexican', 'italian', 'vietnamese', 'mexican', 'irish', 'mexican', 'italian', 'french', 'italian', 'chinese', 'mexican', 'cajun_creole', 'mexican', 'southern_us', 'french', 'indian', 'southern_us', 'korean', 'indian', 'mexican', 'mexican', 'southern_us', 'filipino', 'indian', 'french', 'southern_us', 'indian', 'mexican', 'mexican', 'chinese', 'southern_us', 'indian', 'french', 'mexican', 'chinese', 'italian', 'japanese', 'french', 'italian', 'italian', 'mexican', 'southern_us', 'italian', 'mexican', 'vietnamese', 'greek', 'mexican', 'southern_us', 'vietnamese', 'cajun_creole', 'thai', 'southern_us', 'italian', 'italian', 'greek', 'mexican', 'italian', 'indian', 'irish', 'southern_us', 'mexican', 'mexican', 'indian', 'mexican', 'jamaican', 'mexican', 'italian', 'french', 'japanese', 'chinese', 'greek', 'cajun_creole', 'thai', 'vietnamese', 'japanese', 'jamaican', 'italian', 'italian', 'italian', 'mexican', 'italian', 'french', 'italian', 'thai', 'mexican', 'brazilian', 'cajun_creole', 'vietnamese', 'italian', 'italian', 'italian', 'chinese', 'moroccan', 'greek', 'mexican', 'italian', 'cajun_creole', 'mexican', 'italian', 'indian', 'italian', 'cajun_creole', 'indian', 'italian', 'greek', 'chinese', 'mexican', 'thai', 'russian', 'indian', 'italian', 'italian', 'italian', 'french', 'moroccan', 'vietnamese', 'filipino', 'thai', 'italian', 'mexican', 'indian', 'italian', 'indian', 'thai', 'mexican', 'indian', 'thai', 'italian', 'french', 'mexican', 'korean', 'southern_us', 'italian', 'thai', 'italian', 'cajun_creole', 'italian', 'japanese', 'italian', 'italian', 'french', 'french', 'italian', 'french', 'italian', 'italian', 'mexican', 'mexican', 'italian', 'indian', 'indian', 'southern_us', 'chinese', 'chinese', 'indian', 'mexican', 'moroccan', 'mexican', 'japanese', 'greek', 'southern_us', 'thai', 'thai', 'thai', 'filipino', 'mexican', 'italian', 'chinese', 'french', 'spanish', 'chinese', 'japanese', 'korean', 'mexican', 'mexican', 'mexican', 'italian', 'moroccan', 'cajun_creole', 'mexican', 'thai', 'southern_us', 'chinese', 'jamaican', 'italian', 'southern_us', 'chinese', 'italian', 'cajun_creole', 'chinese', 'french', 'brazilian', 'italian', 'southern_us', 'southern_us', 'french', 'italian', 'cajun_creole', 'mexican', 'italian', 'chinese', 'mexican', 'southern_us', 'french', 'mexican', 'italian', 'japanese', 'french', 'indian', 'southern_us', 'italian', 'thai', 'mexican', 'italian', 'french', 'brazilian', 'italian', 'mexican', 'italian', 'moroccan', 'indian', 'mexican', 'cajun_creole', 'italian', 'moroccan', 'mexican', 'cajun_creole', 'moroccan', 'southern_us', 'indian', 'russian', 'jamaican', 'cajun_creole', 'greek', 'french', 'indian', 'spanish', 'italian', 'southern_us', 'mexican', 'southern_us', 'british', 'indian', 'southern_us', 'indian', 'mexican', 'greek', 'southern_us', 'british', 'french', 'southern_us', 'southern_us', 'mexican', 'vietnamese', 'filipino', 'thai', 'mexican', 'spanish', 'chinese', 'irish', 'italian', 'italian', 'southern_us', 'japanese', 'cajun_creole', 'vietnamese', 'italian', 'french', 'italian', 'indian', 'italian', 'french', 'italian', 'mexican', 'mexican', 'mexican', 'italian', 'thai', 'cajun_creole', 'mexican', 'cajun_creole', 'vietnamese', 'thai', 'brazilian', 'spanish', 'irish', 'indian', 'indian', 'mexican', 'greek', 'spanish', 'mexican', 'indian', 'italian', 'french', 'mexican', 'french', 'italian', 'mexican', 'indian', 'mexican', 'french', 'british', 'japanese', 'southern_us', 'french', 'french', 'russian', 'mexican', 'cajun_creole', 'mexican', 'italian', 'irish', 'italian', 'mexican', 'italian', 'chinese', 'southern_us', 'filipino', 'italian', 'italian', 'filipino', 'italian', 'french', 'mexican', 'indian', 'thai', 'italian', 'cajun_creole', 'italian', 'mexican', 'british', 'italian', 'mexican', 'french', 'mexican', 'french', 'chinese', 'italian', 'southern_us', 'mexican', 'korean', 'southern_us', 'mexican', 'filipino', 'thai', 'mexican', 'japanese', 'chinese', 'italian', 'southern_us', 'chinese', 'chinese', 'italian', 'italian', 'mexican', 'mexican', 'italian', 'italian', 'greek', 'filipino', 'southern_us', 'french', 'italian', 'russian', 'chinese', 'mexican', 'vietnamese', 'mexican', 'indian', 'filipino', 'mexican', 'thai', 'mexican', 'french', 'chinese', 'southern_us', 'italian', 'jamaican', 'japanese', 'italian', 'thai', 'mexican', 'irish', 'indian', 'italian', 'french', 'filipino', 'chinese', 'indian', 'mexican', 'russian', 'spanish', 'spanish', 'italian', 'italian', 'mexican', 'moroccan', 'french', 'indian', 'french', 'indian', 'southern_us', 'japanese', 'italian', 'mexican', 'mexican', 'spanish', 'british', 'italian', 'mexican', 'indian', 'jamaican', 'french', 'southern_us', 'irish', 'british', 'jamaican', 'french', 'cajun_creole', 'chinese', 'southern_us', 'mexican', 'italian', 'cajun_creole', 'french', 'chinese', 'southern_us', 'italian', 'mexican', 'southern_us', 'spanish', 'japanese', 'italian', 'mexican', 'cajun_creole', 'italian', 'italian', 'japanese', 'mexican', 'italian', 'italian', 'mexican', 'southern_us', 'mexican', 'cajun_creole', 'indian', 'mexican', 'italian', 'french', 'vietnamese', 'indian', 'british', 'thai', 'british', 'italian', 'indian', 'indian', 'mexican', 'vietnamese', 'italian', 'chinese', 'mexican', 'mexican', 'italian', 'mexican', 'mexican', 'italian', 'irish', 'mexican', 'italian', 'moroccan', 'southern_us', 'thai', 'japanese', 'italian', 'southern_us', 'mexican', 'chinese', 'southern_us', 'french', 'cajun_creole', 'cajun_creole', 'thai', 'mexican', 'italian', 'chinese', 'indian', 'southern_us', 'italian', 'mexican', 'mexican', 'french', 'mexican', 'japanese', 'thai', 'french', 'italian', 'southern_us', 'mexican', 'greek', 'southern_us', 'moroccan', 'moroccan', 'thai', 'french', 'southern_us', 'greek', 'mexican', 'moroccan', 'italian', 'mexican', 'mexican', 'vietnamese', 'southern_us', 'chinese', 'french', 'filipino', 'korean', 'mexican', 'southern_us', 'southern_us', 'italian', 'italian', 'vietnamese', 'southern_us', 'italian', 'southern_us', 'southern_us', 'italian', 'mexican', 'cajun_creole', 'chinese', 'mexican', 'vietnamese', 'japanese', 'thai', 'chinese', 'french', 'japanese', 'italian', 'italian', 'indian', 'italian', 'indian', 'british', 'thai', 'thai', 'french', 'italian', 'southern_us', 'mexican', 'greek', 'italian', 'thai', 'mexican', 'korean', 'chinese', 'mexican', 'japanese', 'french', 'french', 'british', 'brazilian', 'mexican', 'chinese', 'italian', 'moroccan', 'italian', 'french', 'french', 'italian', 'southern_us', 'italian', 'italian', 'southern_us', 'british', 'mexican', 'mexican', 'italian', 'italian', 'indian', 'spanish', 'french', 'southern_us', 'thai', 'mexican', 'italian', 'mexican', 'chinese', 'french', 'italian', 'indian', 'indian', 'filipino', 'mexican', 'southern_us', 'mexican', 'moroccan', 'italian', 'italian', 'mexican', 'vietnamese', 'indian', 'greek', 'southern_us', 'italian', 'british', 'british', 'indian', 'cajun_creole', 'mexican', 'mexican', 'indian', 'moroccan', 'chinese', 'french', 'russian', 'indian', 'mexican', 'chinese', 'italian', 'southern_us', 'indian', 'moroccan', 'korean', 'french', 'irish', 'southern_us', 'italian', 'vietnamese', 'brazilian', 'filipino', 'mexican', 'italian', 'thai', 'spanish', 'british', 'russian', 'chinese', 'indian', 'moroccan', 'japanese', 'italian', 'mexican', 'jamaican', 'southern_us', 'southern_us', 'thai', 'italian', 'italian', 'spanish', 'british', 'chinese', 'italian', 'cajun_creole', 'filipino', 'mexican', 'mexican', 'greek', 'spanish', 'italian', 'chinese', 'italian', 'chinese', 'italian', 'indian', 'mexican', 'cajun_creole', 'italian', 'french', 'mexican', 'southern_us', 'mexican', 'southern_us', 'mexican', 'cajun_creole', 'mexican', 'southern_us', 'mexican', 'italian', 'thai', 'southern_us', 'mexican', 'italian', 'italian', 'southern_us', 'irish', 'filipino', 'indian', 'italian', 'japanese', 'moroccan', 'thai', 'mexican', 'italian', 'mexican', 'french', 'vietnamese', 'indian', 'southern_us', 'mexican', 'italian', 'french', 'southern_us', 'italian', 'mexican', 'italian', 'brazilian', 'japanese', 'cajun_creole', 'italian', 'italian', 'japanese', 'mexican', 'british', 'korean', 'italian', 'chinese', 'filipino', 'mexican', 'filipino', 'mexican', 'mexican', 'greek', 'chinese', 'italian', 'southern_us', 'japanese', 'vietnamese', 'cajun_creole', 'southern_us', 'japanese', 'italian', 'indian', 'thai', 'cajun_creole', 'italian', 'italian', 'moroccan', 'cajun_creole', 'mexican', 'filipino', 'thai', 'southern_us', 'vietnamese', 'southern_us', 'mexican', 'french', 'southern_us', 'chinese', 'mexican', 'italian', 'thai', 'southern_us', 'japanese', 'mexican', 'italian', 'mexican', 'italian', 'italian', 'indian', 'french', 'southern_us', 'italian', 'chinese', 'french', 'chinese', 'southern_us', 'korean', 'thai', 'mexican', 'greek', 'cajun_creole', 'southern_us', 'french', 'southern_us', 'thai', 'mexican', 'mexican', 'chinese', 'brazilian', 'chinese', 'korean', 'chinese', 'french', 'mexican', 'greek', 'cajun_creole', 'mexican', 'mexican', 'southern_us', 'southern_us', 'chinese', 'french', 'jamaican', 'filipino', 'italian', 'italian', 'mexican', 'italian', 'korean', 'greek', 'french', 'italian', 'italian', 'chinese', 'thai', 'italian', 'chinese', 'italian', 'southern_us', 'korean', 'mexican', 'spanish', 'southern_us', 'filipino', 'indian', 'italian', 'indian', 'spanish', 'southern_us', 'italian', 'indian', 'mexican', 'french', 'indian', 'greek', 'cajun_creole', 'italian', 'southern_us', 'french', 'southern_us', 'indian', 'thai', 'french', 'mexican', 'southern_us', 'mexican', 'irish', 'italian', 'mexican', 'southern_us', 'japanese', 'italian', 'mexican', 'russian', 'thai', 'mexican', 'mexican', 'indian', 'mexican', 'italian', 'italian', 'mexican', 'italian', 'mexican', 'italian', 'southern_us', 'mexican', 'japanese', 'italian', 'indian', 'thai', 'mexican', 'french', 'thai', 'mexican', 'moroccan', 'italian', 'southern_us', 'vietnamese', 'mexican', 'southern_us', 'thai', 'italian', 'filipino', 'mexican', 'cajun_creole', 'greek', 'italian', 'british', 'russian', 'french', 'indian', 'vietnamese', 'thai', 'italian', 'southern_us', 'filipino', 'french', 'japanese', 'moroccan', 'italian', 'italian', 'japanese', 'southern_us', 'italian', 'spanish', 'cajun_creole', 'italian', 'french', 'cajun_creole', 'indian', 'french', 'southern_us', 'mexican', 'moroccan', 'mexican', 'italian', 'southern_us', 'mexican', 'mexican', 'southern_us', 'mexican', 'southern_us', 'moroccan', 'italian', 'italian', 'chinese', 'jamaican', 'thai', 'italian', 'southern_us', 'italian', 'mexican', 'italian', 'french', 'vietnamese', 'chinese', 'italian', 'southern_us', 'cajun_creole', 'chinese', 'french', 'southern_us', 'filipino', 'spanish', 'thai', 'italian', 'southern_us', 'jamaican', 'italian', 'brazilian', 'indian', 'italian', 'japanese', 'mexican', 'italian', 'thai', 'italian', 'french', 'indian', 'italian', 'italian', 'mexican', 'indian', 'southern_us', 'italian', 'southern_us', 'mexican', 'mexican', 'thai', 'mexican', 'mexican', 'italian', 'vietnamese', 'mexican', 'indian', 'indian', 'thai', 'thai', 'cajun_creole', 'greek', 'mexican', 'greek', 'indian', 'greek', 'chinese', 'korean', 'indian', 'moroccan', 'korean', 'french', 'thai', 'jamaican', 'italian', 'indian', 'indian', 'filipino', 'cajun_creole', 'italian', 'thai', 'cajun_creole', 'mexican', 'indian', 'italian', 'mexican', 'spanish', 'french', 'southern_us', 'italian', 'italian', 'italian', 'italian', 'greek', 'mexican', 'chinese', 'japanese', 'french', 'mexican', 'indian', 'cajun_creole', 'southern_us', 'french', 'mexican', 'italian', 'greek', 'chinese', 'mexican', 'italian', 'southern_us', 'korean', 'italian', 'mexican', 'italian', 'mexican', 'mexican', 'mexican', 'italian', 'indian', 'southern_us', 'italian', 'french', 'spanish', 'mexican', 'spanish', 'mexican', 'russian', 'vietnamese', 'japanese', 'mexican', 'italian', 'greek', 'southern_us', 'british', 'greek', 'italian', 'mexican', 'chinese', 'italian', 'italian', 'italian', 'japanese', 'italian', 'mexican', 'japanese', 'chinese', 'mexican', 'italian', 'italian', 'jamaican', 'italian', 'french', 'spanish', 'chinese', 'japanese', 'italian', 'italian', 'moroccan', 'japanese', 'vietnamese', 'italian', 'southern_us', 'italian', 'greek', 'japanese', 'french', 'chinese', 'mexican', 'cajun_creole', 'southern_us', 'mexican', 'chinese', 'mexican', 'jamaican', 'italian', 'greek', 'italian', 'italian', 'british', 'korean', 'mexican', 'mexican', 'indian', 'italian', 'southern_us', 'indian', 'italian', 'southern_us', 'mexican', 'southern_us', 'italian', 'chinese', 'southern_us', 'mexican', 'italian', 'chinese', 'italian', 'italian', 'italian', 'jamaican', 'southern_us', 'thai', 'mexican', 'southern_us', 'southern_us', 'cajun_creole', 'mexican', 'indian', 'southern_us', 'french', 'mexican', 'southern_us', 'italian', 'southern_us', 'mexican', 'greek', 'italian', 'filipino', 'thai', 'japanese', 'mexican', 'chinese', 'chinese', 'cajun_creole', 'moroccan', 'italian', 'indian', 'indian', 'southern_us', 'russian', 'thai', 'mexican', 'southern_us', 'french', 'indian', 'italian', 'mexican', 'british', 'japanese', 'thai', 'mexican', 'mexican', 'jamaican', 'japanese', 'italian', 'vietnamese', 'spanish', 'vietnamese', 'french', 'italian', 'filipino', 'italian', 'southern_us', 'mexican', 'japanese', 'italian', 'jamaican', 'mexican', 'italian', 'thai', 'indian', 'mexican', 'mexican', 'italian', 'thai', 'french', 'mexican', 'mexican', 'italian', 'southern_us', 'moroccan', 'italian', 'southern_us', 'jamaican', 'vietnamese', 'filipino', 'jamaican', 'indian', 'italian', 'french', 'japanese', 'mexican', 'mexican', 'moroccan', 'mexican', 'japanese', 'cajun_creole', 'southern_us', 'italian', 'mexican', 'chinese', 'irish', 'mexican', 'indian', 'italian', 'jamaican', 'italian', 'indian', 'french', 'vietnamese', 'french', 'indian', 'moroccan', 'vietnamese', 'chinese', 'mexican', 'greek', 'italian', 'italian', 'southern_us', 'italian', 'italian', 'italian', 'southern_us', 'italian', 'moroccan', 'vietnamese', 'southern_us', 'indian', 'japanese', 'mexican', 'japanese', 'indian', 'french', 'mexican', 'irish', 'french', 'french', 'mexican', 'mexican', 'british', 'mexican', 'korean', 'japanese', 'italian', 'spanish', 'irish', 'italian', 'vietnamese', 'russian', 'cajun_creole', 'italian', 'southern_us', 'thai', 'chinese', 'french', 'mexican', 'french', 'italian', 'italian', 'italian', 'italian', 'thai', 'southern_us', 'mexican', 'mexican', 'italian', 'french', 'italian', 'jamaican', 'indian', 'italian', 'southern_us', 'indian', 'thai', 'indian', 'southern_us', 'french', 'southern_us', 'mexican', 'southern_us', 'russian', 'korean', 'british', 'russian', 'italian', 'moroccan', 'italian', 'irish', 'italian', 'spanish', 'greek', 'italian', 'mexican', 'italian', 'southern_us', 'thai', 'french', 'indian', 'southern_us', 'southern_us', 'indian', 'southern_us', 'southern_us', 'mexican', 'southern_us', 'cajun_creole', 'japanese', 'italian', 'italian', 'italian', 'mexican', 'italian', 'italian', 'italian', 'indian', 'mexican', 'southern_us', 'mexican', 'indian', 'brazilian', 'british', 'korean', 'italian', 'chinese', 'southern_us', 'italian', 'italian', 'spanish', 'korean', 'indian', 'italian', 'mexican', 'british', 'mexican', 'italian', 'spanish', 'mexican', 'italian', 'mexican', 'mexican', 'italian', 'chinese', 'italian', 'indian', 'vietnamese', 'italian', 'french', 'irish', 'british', 'southern_us', 'british', 'vietnamese', 'mexican', 'mexican', 'cajun_creole', 'thai', 'mexican', 'southern_us', 'japanese', 'italian', 'french', 'british', 'moroccan', 'mexican', 'mexican', 'greek', 'mexican', 'korean', 'mexican', 'mexican', 'moroccan', 'japanese', 'southern_us', 'italian', 'korean', 'french', 'greek', 'chinese', 'french', 'italian', 'italian', 'italian', 'vietnamese', 'korean', 'italian', 'moroccan', 'french', 'indian', 'mexican', 'british', 'italian', 'italian', 'indian', 'southern_us', 'thai', 'southern_us', 'cajun_creole', 'mexican', 'italian', 'mexican', 'korean', 'moroccan', 'italian', 'french', 'mexican', 'italian', 'southern_us', 'mexican', 'italian', 'russian', 'italian', 'mexican', 'chinese', 'mexican', 'italian', 'indian', 'greek', 'mexican', 'italian', 'southern_us', 'korean', 'chinese', 'mexican', 'french', 'indian', 'thai', 'greek', 'japanese', 'filipino', 'southern_us', 'chinese', 'filipino', 'filipino', 'indian', 'greek', 'french', 'mexican', 'cajun_creole', 'french', 'italian', 'mexican', 'italian', 'southern_us', 'cajun_creole', 'mexican', 'mexican', 'vietnamese', 'indian', 'cajun_creole', 'italian', 'italian', 'italian', 'chinese', 'italian', 'mexican', 'chinese', 'chinese', 'french', 'japanese', 'italian', 'italian', 'italian', 'spanish', 'filipino', 'vietnamese', 'french', 'southern_us', 'italian', 'greek', 'indian', 'southern_us', 'mexican', 'italian', 'thai', 'french', 'italian', 'moroccan', 'italian', 'italian', 'chinese', 'british', 'italian', 'southern_us', 'french', 'mexican', 'mexican', 'mexican', 'southern_us', 'cajun_creole', 'cajun_creole', 'italian', 'mexican', 'irish', 'mexican', 'korean', 'southern_us', 'southern_us', 'british', 'mexican', 'italian', 'japanese', 'italian', 'italian', 'french', 'irish', 'italian', 'cajun_creole', 'french', 'greek', 'japanese', 'filipino', 'italian', 'greek', 'chinese', 'chinese', 'thai', 'italian', 'filipino', 'greek', 'mexican', 'mexican', 'italian', 'japanese', 'british', 'greek', 'vietnamese', 'chinese', 'indian', 'filipino', 'cajun_creole', 'filipino', 'chinese', 'italian', 'southern_us', 'italian', 'japanese', 'greek', 'indian', 'southern_us', 'mexican', 'french', 'cajun_creole', 'irish', 'cajun_creole', 'greek', 'moroccan', 'italian', 'greek', 'russian', 'cajun_creole', 'cajun_creole', 'italian', 'french', 'italian', 'southern_us', 'indian', 'southern_us', 'mexican', 'french', 'italian', 'southern_us', 'southern_us', 'italian', 'indian', 'southern_us', 'italian', 'italian', 'thai', 'chinese', 'vietnamese', 'mexican', 'brazilian', 'indian', 'vietnamese', 'italian', 'vietnamese', 'mexican', 'southern_us', 'mexican', 'italian', 'italian', 'indian', 'jamaican', 'mexican', 'japanese']\n"
     ]
    }
   ],
   "source": [
    "df3=pd.DataFrame({'id':y_test.index, 'cuisine':y_test.values})\n",
    "y_test2=[]\n",
    "y_test1=df3['cuisine'].tolist()\n",
    "for i in range(len(df3['cuisine'])):\n",
    "    y_test2.append(cuisine_map[str(df3['cuisine'][i])])\n",
    "print(y_test2)"
   ]
  },
  {
   "cell_type": "code",
   "execution_count": 63,
   "metadata": {
    "_cell_guid": "04bfe31d-2f25-4639-8116-b6511bdc1e81",
    "_uuid": "04d7d61a800813501086379d9af5174199d4df12"
   },
   "outputs": [
    {
     "name": "stdout",
     "output_type": "stream",
     "text": [
      "['mexican', 'southern_us', 'italian', 'mexican', 'japanese', 'mexican', 'italian', 'indian', 'italian', 'moroccan', 'french', 'mexican', 'japanese', 'southern_us', 'italian', 'mexican', 'italian', 'japanese', 'indian', 'japanese', 'mexican', 'chinese', 'mexican', 'spanish', 'italian', 'greek', 'vietnamese', 'italian', 'thai', 'jamaican', 'italian', 'greek', 'cajun_creole', 'french', 'japanese', 'italian', 'cajun_creole', 'french', 'british', 'british', 'italian', 'italian', 'italian', 'irish', 'mexican', 'moroccan', 'indian', 'french', 'mexican', 'mexican', 'mexican', 'southern_us', 'mexican', 'southern_us', 'chinese', 'southern_us', 'mexican', 'japanese', 'greek', 'brazilian', 'southern_us', 'italian', 'indian', 'italian', 'chinese', 'mexican', 'vietnamese', 'french', 'jamaican', 'italian', 'mexican', 'italian', 'chinese', 'filipino', 'italian', 'chinese', 'indian', 'indian', 'italian', 'vietnamese', 'greek', 'greek', 'chinese', 'russian', 'italian', 'indian', 'mexican', 'filipino', 'italian', 'mexican', 'korean', 'italian', 'vietnamese', 'cajun_creole', 'mexican', 'southern_us', 'thai', 'southern_us', 'japanese', 'japanese', 'greek', 'mexican', 'italian', 'spanish', 'southern_us', 'spanish', 'french', 'filipino', 'mexican', 'french', 'chinese', 'mexican', 'korean', 'indian', 'italian', 'southern_us', 'southern_us', 'cajun_creole', 'mexican', 'moroccan', 'vietnamese', 'italian', 'southern_us', 'thai', 'mexican', 'cajun_creole', 'thai', 'southern_us', 'italian', 'indian', 'italian', 'southern_us', 'mexican', 'mexican', 'vietnamese', 'indian', 'greek', 'mexican', 'italian', 'southern_us', 'southern_us', 'brazilian', 'french', 'indian', 'korean', 'chinese', 'greek', 'italian', 'cajun_creole', 'italian', 'cajun_creole', 'mexican', 'italian', 'indian', 'french', 'japanese', 'italian', 'french', 'southern_us', 'cajun_creole', 'moroccan', 'italian', 'brazilian', 'french', 'italian', 'mexican', 'thai', 'british', 'italian', 'italian', 'jamaican', 'moroccan', 'cajun_creole', 'mexican', 'chinese', 'chinese', 'french', 'italian', 'mexican', 'french', 'irish', 'italian', 'cajun_creole', 'cajun_creole', 'italian', 'chinese', 'southern_us', 'vietnamese', 'filipino', 'mexican', 'vietnamese', 'mexican', 'southern_us', 'italian', 'italian', 'thai', 'chinese', 'italian', 'italian', 'jamaican', 'korean', 'brazilian', 'mexican', 'brazilian', 'mexican', 'italian', 'italian', 'spanish', 'greek', 'thai', 'italian', 'chinese', 'french', 'korean', 'japanese', 'french', 'korean', 'indian', 'spanish', 'chinese', 'mexican', 'jamaican', 'mexican', 'thai', 'irish', 'italian', 'french', 'italian', 'mexican', 'mexican', 'mexican', 'mexican', 'cajun_creole', 'southern_us', 'greek', 'cajun_creole', 'british', 'mexican', 'vietnamese', 'indian', 'jamaican', 'italian', 'southern_us', 'southern_us', 'vietnamese', 'italian', 'thai', 'mexican', 'japanese', 'southern_us', 'italian', 'greek', 'italian', 'japanese', 'italian', 'korean', 'italian', 'southern_us', 'mexican', 'southern_us', 'mexican', 'french', 'mexican', 'mexican', 'chinese', 'mexican', 'chinese', 'filipino', 'japanese', 'irish', 'italian', 'indian', 'indian', 'chinese', 'indian', 'italian', 'brazilian', 'italian', 'vietnamese', 'chinese', 'brazilian', 'italian', 'cajun_creole', 'indian', 'mexican', 'vietnamese', 'vietnamese', 'indian', 'indian', 'italian', 'mexican', 'korean', 'italian', 'southern_us', 'french', 'italian', 'southern_us', 'cajun_creole', 'italian', 'southern_us', 'italian', 'chinese', 'indian', 'mexican', 'chinese', 'mexican', 'indian', 'southern_us', 'thai', 'french', 'spanish', 'mexican', 'italian', 'french', 'filipino', 'jamaican', 'italian', 'mexican', 'greek', 'russian', 'southern_us', 'italian', 'japanese', 'italian', 'thai', 'thai', 'chinese', 'chinese', 'thai', 'french', 'italian', 'mexican', 'filipino', 'chinese', 'chinese', 'italian', 'mexican', 'mexican', 'vietnamese', 'mexican', 'brazilian', 'mexican', 'moroccan', 'brazilian', 'chinese', 'southern_us', 'italian', 'cajun_creole', 'chinese', 'mexican', 'chinese', 'mexican', 'british', 'korean', 'indian', 'moroccan', 'southern_us', 'southern_us', 'indian', 'southern_us', 'mexican', 'southern_us', 'mexican', 'southern_us', 'southern_us', 'italian', 'chinese', 'cajun_creole', 'mexican', 'thai', 'mexican', 'chinese', 'jamaican', 'thai', 'vietnamese', 'indian', 'cajun_creole', 'italian', 'southern_us', 'mexican', 'italian', 'southern_us', 'french', 'mexican', 'jamaican', 'chinese', 'southern_us', 'greek', 'chinese', 'chinese', 'filipino', 'brazilian', 'mexican', 'mexican', 'mexican', 'mexican', 'moroccan', 'italian', 'french', 'indian', 'mexican', 'indian', 'cajun_creole', 'chinese', 'indian', 'spanish', 'chinese', 'spanish', 'southern_us', 'japanese', 'italian', 'greek', 'italian', 'mexican', 'irish', 'mexican', 'indian', 'mexican', 'french', 'indian', 'italian', 'russian', 'indian', 'mexican', 'thai', 'indian', 'southern_us', 'chinese', 'italian', 'mexican', 'italian', 'mexican', 'italian', 'italian', 'filipino', 'japanese', 'filipino', 'italian', 'british', 'italian', 'italian', 'southern_us', 'british', 'thai', 'british', 'chinese', 'indian', 'mexican', 'italian', 'indian', 'mexican', 'french', 'french', 'southern_us', 'thai', 'indian', 'italian', 'chinese', 'italian', 'mexican', 'british', 'italian', 'italian', 'mexican', 'mexican', 'cajun_creole', 'mexican', 'indian', 'chinese', 'mexican', 'mexican', 'cajun_creole', 'japanese', 'mexican', 'italian', 'chinese', 'southern_us', 'mexican', 'indian', 'italian', 'italian', 'thai', 'southern_us', 'italian', 'mexican', 'italian', 'italian', 'chinese', 'southern_us', 'chinese', 'italian', 'mexican', 'southern_us', 'greek', 'jamaican', 'thai', 'southern_us', 'mexican', 'italian', 'vietnamese', 'japanese', 'italian', 'japanese', 'french', 'irish', 'mexican', 'italian', 'italian', 'thai', 'mexican', 'spanish', 'italian', 'korean', 'mexican', 'chinese', 'cajun_creole', 'chinese', 'mexican', 'indian', 'mexican', 'french', 'mexican', 'southern_us', 'italian', 'italian', 'mexican', 'french', 'mexican', 'southern_us', 'vietnamese', 'filipino', 'cajun_creole', 'chinese', 'mexican', 'indian', 'greek', 'moroccan', 'japanese', 'chinese', 'korean', 'thai', 'italian', 'irish', 'italian', 'chinese', 'korean', 'chinese', 'spanish', 'cajun_creole', 'french', 'greek', 'mexican', 'greek', 'mexican', 'greek', 'indian', 'mexican', 'mexican', 'indian', 'italian', 'british', 'italian', 'mexican', 'southern_us', 'italian', 'japanese', 'chinese', 'jamaican', 'french', 'italian', 'mexican', 'cajun_creole', 'italian', 'italian', 'korean', 'italian', 'filipino', 'japanese', 'moroccan', 'greek', 'southern_us', 'russian', 'italian', 'chinese', 'indian', 'southern_us', 'french', 'spanish', 'filipino', 'mexican', 'korean', 'indian', 'british', 'italian', 'chinese', 'mexican', 'mexican', 'french', 'southern_us', 'italian', 'thai', 'spanish', 'chinese', 'moroccan', 'italian', 'thai', 'chinese', 'cajun_creole', 'southern_us', 'italian', 'french', 'japanese', 'french', 'italian', 'mexican', 'jamaican', 'irish', 'spanish', 'spanish', 'southern_us', 'italian', 'korean', 'italian', 'italian', 'italian', 'italian', 'mexican', 'southern_us', 'southern_us', 'italian', 'british', 'southern_us', 'mexican', 'spanish', 'italian', 'mexican', 'spanish', 'southern_us', 'chinese', 'moroccan', 'italian', 'brazilian', 'mexican', 'irish', 'italian', 'filipino', 'mexican', 'indian', 'southern_us', 'thai', 'italian', 'chinese', 'indian', 'mexican', 'spanish', 'chinese', 'mexican', 'spanish', 'southern_us', 'southern_us', 'french', 'korean', 'japanese', 'mexican', 'indian', 'indian', 'indian', 'korean', 'indian', 'french', 'french', 'italian', 'italian', 'french', 'italian', 'southern_us', 'italian', 'chinese', 'mexican', 'italian', 'mexican', 'french', 'french', 'southern_us', 'mexican', 'italian', 'italian', 'thai', 'italian', 'moroccan', 'italian', 'vietnamese', 'chinese', 'thai', 'indian', 'indian', 'southern_us', 'mexican', 'mexican', 'vietnamese', 'italian', 'jamaican', 'indian', 'italian', 'southern_us', 'irish', 'french', 'italian', 'italian', 'french', 'spanish', 'italian', 'mexican', 'italian', 'mexican', 'italian', 'italian', 'indian', 'thai', 'cajun_creole', 'jamaican', 'italian', 'jamaican', 'mexican', 'french', 'mexican', 'mexican', 'italian', 'cajun_creole', 'italian', 'italian', 'chinese', 'mexican', 'french', 'moroccan', 'southern_us', 'mexican', 'italian', 'thai', 'italian', 'italian', 'italian', 'italian', 'mexican', 'vietnamese', 'italian', 'italian', 'thai', 'greek', 'indian', 'spanish', 'indian', 'jamaican', 'french', 'cajun_creole', 'irish', 'thai', 'chinese', 'japanese', 'italian', 'mexican', 'korean', 'italian', 'russian', 'moroccan', 'filipino', 'southern_us', 'southern_us', 'mexican', 'italian', 'southern_us', 'mexican', 'mexican', 'chinese', 'southern_us', 'indian', 'vietnamese', 'mexican', 'jamaican', 'irish', 'japanese', 'southern_us', 'mexican', 'chinese', 'vietnamese', 'mexican', 'italian', 'italian', 'southern_us', 'moroccan', 'indian', 'mexican', 'italian', 'italian', 'southern_us', 'italian', 'spanish', 'cajun_creole', 'southern_us', 'korean', 'indian', 'french', 'italian', 'mexican', 'french', 'italian', 'moroccan', 'french', 'italian', 'mexican', 'italian', 'filipino', 'italian', 'southern_us', 'french', 'indian', 'french', 'french', 'italian', 'mexican', 'italian', 'mexican', 'indian', 'french', 'mexican', 'chinese', 'italian', 'french', 'chinese', 'mexican', 'southern_us', 'indian', 'moroccan', 'southern_us', 'chinese', 'southern_us', 'cajun_creole', 'russian', 'french', 'irish', 'chinese', 'british', 'chinese', 'southern_us', 'italian', 'mexican', 'thai', 'italian', 'southern_us', 'southern_us', 'italian', 'southern_us', 'italian', 'jamaican', 'italian', 'chinese', 'mexican', 'japanese', 'chinese', 'italian', 'southern_us', 'japanese', 'italian', 'italian', 'southern_us', 'spanish', 'italian', 'thai', 'thai', 'southern_us', 'cajun_creole', 'french', 'southern_us', 'mexican', 'indian', 'french', 'indian', 'southern_us', 'irish', 'korean', 'southern_us', 'chinese', 'southern_us', 'southern_us', 'italian', 'italian', 'mexican', 'southern_us', 'chinese', 'french', 'mexican', 'italian', 'british', 'italian', 'irish', 'southern_us', 'indian', 'southern_us', 'indian', 'southern_us', 'french', 'italian', 'italian', 'mexican', 'indian', 'italian', 'moroccan', 'italian', 'italian', 'cajun_creole', 'southern_us', 'thai', 'french', 'moroccan', 'thai', 'thai', 'chinese', 'indian', 'cajun_creole', 'italian', 'chinese', 'mexican', 'mexican', 'moroccan', 'irish', 'chinese', 'italian', 'mexican', 'southern_us', 'indian', 'southern_us', 'thai', 'russian', 'thai', 'indian', 'spanish', 'vietnamese', 'italian', 'filipino', 'mexican', 'british', 'italian', 'italian', 'italian', 'italian', 'southern_us', 'irish', 'irish', 'spanish', 'vietnamese', 'southern_us', 'mexican', 'italian', 'greek', 'thai', 'mexican', 'french', 'cajun_creole', 'vietnamese', 'italian', 'british', 'southern_us', 'chinese', 'italian', 'filipino', 'french', 'indian', 'moroccan', 'italian', 'french', 'chinese', 'southern_us', 'french', 'cajun_creole', 'vietnamese', 'chinese', 'irish', 'thai', 'jamaican', 'italian', 'southern_us', 'italian', 'italian', 'southern_us', 'southern_us', 'southern_us', 'vietnamese', 'british', 'italian', 'jamaican', 'cajun_creole', 'mexican', 'cajun_creole', 'italian', 'spanish', 'chinese', 'french', 'spanish', 'southern_us', 'mexican', 'french', 'mexican', 'vietnamese', 'italian', 'italian', 'korean', 'indian', 'thai', 'southern_us', 'french', 'italian', 'russian', 'mexican', 'british', 'mexican', 'italian', 'mexican', 'southern_us', 'irish', 'irish', 'southern_us', 'mexican', 'mexican', 'thai', 'vietnamese', 'italian', 'southern_us', 'italian', 'mexican', 'indian', 'french', 'mexican', 'chinese', 'italian', 'vietnamese', 'chinese', 'jamaican', 'southern_us', 'indian', 'southern_us', 'greek', 'southern_us', 'indian', 'mexican', 'mexican', 'french', 'french', 'italian', 'korean', 'italian', 'british', 'southern_us', 'italian', 'mexican', 'french', 'mexican', 'indian', 'italian', 'chinese', 'greek', 'mexican', 'brazilian', 'italian', 'french', 'southern_us', 'french', 'italian', 'italian', 'spanish', 'mexican', 'cajun_creole', 'chinese', 'indian', 'italian', 'chinese', 'southern_us', 'jamaican', 'filipino', 'southern_us', 'mexican', 'italian', 'indian', 'chinese', 'french', 'cajun_creole', 'italian', 'japanese', 'vietnamese', 'french', 'indian', 'italian', 'korean', 'greek', 'southern_us', 'british', 'chinese', 'japanese', 'chinese', 'chinese', 'southern_us', 'indian', 'korean', 'chinese', 'french', 'mexican', 'mexican', 'french', 'mexican', 'korean', 'indian', 'indian', 'indian', 'mexican', 'french', 'cajun_creole', 'indian', 'chinese', 'mexican', 'italian', 'indian', 'southern_us', 'french', 'indian', 'italian', 'indian', 'mexican', 'italian', 'cajun_creole', 'mexican', 'italian', 'italian', 'moroccan', 'japanese', 'indian', 'mexican', 'chinese', 'italian', 'french', 'southern_us', 'mexican', 'italian', 'mexican', 'greek', 'indian', 'french', 'spanish', 'chinese', 'irish', 'french', 'mexican', 'irish', 'french', 'mexican', 'vietnamese', 'southern_us', 'jamaican', 'vietnamese', 'chinese', 'mexican', 'italian', 'mexican', 'chinese', 'italian', 'southern_us', 'italian', 'italian', 'italian', 'japanese', 'british', 'mexican', 'korean', 'russian', 'indian', 'italian', 'irish', 'mexican', 'italian', 'southern_us', 'korean', 'japanese', 'thai', 'indian', 'french', 'french', 'jamaican', 'indian', 'indian', 'italian', 'italian', 'mexican', 'indian', 'japanese', 'mexican', 'cajun_creole', 'mexican', 'chinese', 'southern_us', 'cajun_creole', 'indian', 'spanish', 'indian', 'italian', 'italian', 'greek', 'japanese', 'southern_us', 'mexican', 'mexican', 'moroccan', 'thai', 'thai', 'british', 'spanish', 'greek', 'thai', 'southern_us', 'indian', 'mexican', 'moroccan', 'thai', 'moroccan', 'chinese', 'french', 'mexican', 'italian', 'korean', 'filipino', 'chinese', 'spanish', 'southern_us', 'italian', 'mexican', 'french', 'indian', 'french', 'indian', 'chinese', 'russian', 'southern_us', 'italian', 'thai', 'thai', 'thai', 'french', 'mexican', 'japanese', 'spanish', 'mexican', 'british', 'mexican', 'mexican', 'indian', 'italian', 'mexican', 'southern_us', 'italian', 'french', 'spanish', 'italian', 'mexican', 'moroccan', 'mexican', 'french', 'mexican', 'southern_us', 'mexican', 'irish', 'vietnamese', 'italian', 'cajun_creole', 'greek', 'greek', 'french', 'italian', 'italian', 'southern_us', 'chinese', 'thai', 'italian', 'italian', 'cajun_creole', 'indian', 'greek', 'french', 'irish', 'filipino', 'mexican', 'chinese', 'italian', 'mexican', 'russian', 'italian', 'italian', 'mexican', 'moroccan', 'french', 'mexican', 'filipino', 'italian', 'french', 'spanish', 'french', 'mexican', 'southern_us', 'french', 'italian', 'mexican', 'mexican', 'moroccan', 'greek', 'mexican', 'italian', 'indian', 'spanish', 'mexican', 'chinese', 'southern_us', 'greek', 'southern_us', 'italian', 'thai', 'thai', 'indian', 'chinese', 'thai', 'indian', 'italian', 'japanese', 'irish', 'moroccan', 'italian', 'italian', 'japanese', 'chinese', 'southern_us', 'italian', 'italian', 'italian', 'italian', 'indian', 'moroccan', 'southern_us', 'southern_us', 'italian', 'british', 'southern_us', 'indian', 'italian', 'chinese', 'indian', 'southern_us', 'mexican', 'mexican', 'italian', 'southern_us', 'italian', 'mexican', 'indian', 'chinese', 'moroccan', 'indian', 'greek', 'italian', 'french', 'italian', 'italian', 'chinese', 'mexican', 'moroccan', 'mexican', 'italian', 'indian', 'italian', 'filipino', 'cajun_creole', 'southern_us', 'southern_us', 'irish', 'greek', 'russian', 'indian', 'japanese', 'spanish', 'chinese', 'indian', 'mexican', 'italian', 'vietnamese', 'southern_us', 'italian', 'indian', 'italian', 'italian', 'italian', 'mexican', 'mexican', 'indian', 'jamaican', 'spanish', 'french', 'russian', 'filipino', 'italian', 'jamaican', 'italian', 'mexican', 'mexican', 'mexican', 'indian', 'italian', 'mexican', 'chinese', 'mexican', 'italian', 'italian', 'french', 'indian', 'italian', 'mexican', 'indian', 'southern_us', 'irish', 'french', 'italian', 'mexican', 'mexican', 'indian', 'greek', 'italian', 'thai', 'korean', 'korean', 'indian', 'southern_us', 'french', 'chinese', 'japanese', 'indian', 'greek', 'mexican', 'indian', 'southern_us', 'japanese', 'italian', 'southern_us', 'mexican', 'thai', 'italian', 'greek', 'southern_us', 'indian', 'southern_us', 'italian', 'british', 'indian', 'mexican', 'indian', 'spanish', 'irish', 'indian', 'cajun_creole', 'irish', 'mexican', 'french', 'thai', 'japanese', 'mexican', 'british', 'russian', 'indian', 'cajun_creole', 'chinese', 'japanese', 'french', 'mexican', 'thai', 'british', 'indian', 'filipino', 'italian', 'southern_us', 'moroccan', 'italian', 'greek', 'brazilian', 'spanish', 'japanese', 'moroccan', 'indian', 'russian', 'italian', 'italian', 'italian', 'japanese', 'chinese', 'mexican', 'french', 'italian', 'thai', 'italian', 'filipino', 'italian', 'thai', 'indian', 'indian', 'jamaican', 'mexican', 'southern_us', 'indian', 'chinese', 'spanish', 'french', 'brazilian', 'thai', 'italian', 'jamaican', 'italian', 'korean', 'japanese', 'italian', 'indian', 'irish', 'korean', 'mexican', 'southern_us', 'mexican', 'indian', 'korean', 'brazilian', 'southern_us', 'french', 'greek', 'british', 'chinese', 'italian', 'italian', 'thai', 'indian', 'thai', 'mexican', 'cajun_creole', 'mexican', 'spanish', 'british', 'thai', 'greek', 'cajun_creole', 'mexican', 'greek', 'cajun_creole', 'italian', 'southern_us', 'chinese', 'thai', 'italian', 'mexican', 'indian', 'french', 'italian', 'french', 'mexican', 'italian', 'italian', 'russian', 'mexican', 'british', 'chinese', 'mexican', 'southern_us', 'mexican', 'greek', 'mexican', 'mexican', 'brazilian', 'mexican', 'italian', 'greek', 'mexican', 'french', 'chinese', 'chinese', 'french', 'moroccan', 'italian', 'italian', 'italian', 'chinese', 'vietnamese', 'french', 'indian', 'italian', 'chinese', 'italian', 'indian', 'mexican', 'italian', 'japanese', 'italian', 'cajun_creole', 'french', 'mexican', 'southern_us', 'french', 'greek', 'korean', 'cajun_creole', 'french', 'french', 'italian', 'mexican', 'vietnamese', 'mexican', 'french', 'russian', 'french', 'italian', 'mexican', 'thai', 'japanese', 'korean', 'korean', 'japanese', 'mexican', 'italian', 'mexican', 'italian', 'chinese', 'chinese', 'italian', 'cajun_creole', 'mexican', 'chinese', 'italian', 'greek', 'italian', 'french', 'mexican', 'italian', 'cajun_creole', 'thai', 'brazilian', 'mexican', 'greek', 'southern_us', 'mexican', 'thai', 'moroccan', 'greek', 'french', 'mexican', 'japanese', 'indian', 'jamaican', 'mexican', 'thai', 'korean', 'southern_us', 'mexican', 'italian', 'greek', 'southern_us', 'moroccan', 'italian', 'greek', 'russian', 'chinese', 'italian', 'british', 'italian', 'italian', 'chinese', 'southern_us', 'mexican', 'french', 'greek', 'mexican', 'italian', 'mexican', 'mexican', 'chinese', 'italian', 'indian', 'brazilian', 'italian', 'korean', 'mexican', 'southern_us', 'italian', 'southern_us', 'chinese', 'french', 'russian', 'chinese', 'southern_us', 'korean', 'italian', 'spanish', 'mexican', 'cajun_creole', 'italian', 'brazilian', 'mexican', 'mexican', 'cajun_creole', 'korean', 'southern_us', 'mexican', 'southern_us', 'mexican', 'italian', 'italian', 'japanese', 'british', 'moroccan', 'mexican', 'mexican', 'italian', 'italian', 'mexican', 'southern_us', 'mexican', 'mexican', 'french', 'italian', 'mexican', 'indian', 'chinese', 'italian', 'southern_us', 'greek', 'mexican', 'mexican', 'thai', 'moroccan', 'mexican', 'mexican', 'brazilian', 'italian', 'indian', 'indian', 'mexican', 'southern_us', 'mexican', 'italian', 'mexican', 'filipino', 'mexican', 'french', 'mexican', 'vietnamese', 'italian', 'southern_us', 'spanish', 'irish', 'italian', 'southern_us', 'french', 'mexican', 'indian', 'southern_us', 'italian', 'southern_us', 'chinese', 'jamaican', 'indian', 'korean', 'vietnamese', 'mexican', 'cajun_creole', 'italian', 'mexican', 'italian', 'indian', 'russian', 'french', 'russian', 'mexican', 'thai', 'southern_us', 'italian', 'russian', 'thai', 'italian', 'mexican', 'mexican', 'cajun_creole', 'japanese', 'vietnamese', 'italian', 'japanese', 'southern_us', 'italian', 'italian', 'mexican', 'french', 'indian', 'french', 'southern_us', 'chinese', 'vietnamese', 'irish', 'thai', 'mexican', 'italian', 'italian', 'spanish', 'italian', 'korean', 'italian', 'spanish', 'chinese', 'italian', 'chinese', 'irish', 'cajun_creole', 'french', 'french', 'irish', 'southern_us', 'southern_us', 'moroccan', 'spanish', 'vietnamese', 'mexican', 'southern_us', 'irish', 'irish', 'british', 'moroccan', 'indian', 'mexican', 'italian', 'italian', 'chinese', 'southern_us', 'mexican', 'italian', 'spanish', 'korean', 'spanish', 'italian', 'thai', 'vietnamese', 'korean', 'italian', 'vietnamese', 'chinese', 'italian', 'italian', 'indian', 'french', 'mexican', 'moroccan', 'italian', 'spanish', 'greek', 'irish', 'filipino', 'moroccan', 'mexican', 'italian', 'british', 'italian', 'russian', 'vietnamese', 'chinese', 'southern_us', 'southern_us', 'mexican', 'thai', 'southern_us', 'indian', 'indian', 'southern_us', 'southern_us', 'italian', 'moroccan', 'mexican', 'italian', 'italian', 'brazilian', 'mexican', 'filipino', 'spanish', 'southern_us', 'chinese', 'chinese', 'brazilian', 'indian', 'cajun_creole', 'russian', 'french', 'indian', 'italian', 'french', 'french', 'southern_us', 'mexican', 'italian', 'greek', 'southern_us', 'indian', 'cajun_creole', 'italian', 'british', 'southern_us', 'indian', 'italian', 'italian', 'moroccan', 'spanish', 'mexican', 'southern_us', 'jamaican', 'southern_us', 'thai', 'italian', 'indian', 'irish', 'italian', 'cajun_creole', 'mexican', 'french', 'french', 'italian', 'moroccan', 'french', 'italian', 'southern_us', 'indian', 'mexican', 'italian', 'italian', 'southern_us', 'italian', 'vietnamese', 'french', 'southern_us', 'indian', 'thai', 'mexican', 'cajun_creole', 'southern_us', 'japanese', 'southern_us', 'italian', 'southern_us', 'mexican', 'indian', 'southern_us', 'mexican', 'british', 'italian', 'mexican', 'mexican', 'korean', 'mexican', 'italian', 'italian', 'chinese', 'italian', 'british', 'greek', 'cajun_creole', 'mexican', 'french', 'filipino', 'vietnamese', 'vietnamese', 'italian', 'chinese', 'french', 'mexican', 'italian', 'cajun_creole', 'italian', 'italian', 'spanish', 'italian', 'french', 'indian', 'moroccan', 'southern_us', 'southern_us', 'french', 'greek', 'thai', 'mexican', 'italian', 'mexican', 'mexican', 'cajun_creole', 'italian', 'southern_us', 'indian', 'british', 'korean', 'italian', 'french', 'thai', 'southern_us', 'indian', 'mexican', 'mexican', 'japanese', 'french', 'mexican', 'indian', 'japanese', 'indian', 'italian', 'mexican', 'italian', 'filipino', 'italian', 'italian', 'moroccan', 'spanish', 'french', 'southern_us', 'italian', 'italian', 'cajun_creole', 'mexican', 'italian', 'russian', 'chinese', 'southern_us', 'mexican', 'indian', 'jamaican', 'southern_us', 'chinese', 'italian', 'italian', 'italian', 'mexican', 'italian', 'chinese', 'spanish', 'korean', 'spanish', 'italian', 'italian', 'mexican', 'southern_us', 'indian', 'filipino', 'indian', 'southern_us', 'chinese', 'southern_us', 'southern_us', 'mexican', 'cajun_creole', 'cajun_creole', 'korean', 'italian', 'italian', 'french', 'mexican', 'italian', 'mexican', 'thai', 'southern_us', 'cajun_creole', 'southern_us', 'mexican', 'mexican', 'indian', 'italian', 'mexican', 'chinese', 'indian', 'british', 'southern_us', 'greek', 'italian', 'irish', 'mexican', 'italian', 'italian', 'italian', 'french', 'chinese', 'japanese', 'indian', 'italian', 'filipino', 'mexican', 'filipino', 'southern_us', 'mexican', 'italian', 'french', 'mexican', 'greek', 'french', 'japanese', 'mexican', 'mexican', 'italian', 'indian', 'indian', 'chinese', 'thai', 'vietnamese', 'greek', 'spanish', 'italian', 'british', 'mexican', 'irish', 'filipino', 'filipino', 'russian', 'mexican', 'italian', 'british', 'irish', 'italian', 'southern_us', 'italian', 'russian', 'southern_us', 'italian', 'chinese', 'thai', 'french', 'mexican', 'spanish', 'southern_us', 'italian', 'mexican', 'irish', 'korean', 'indian', 'korean', 'filipino', 'japanese', 'italian', 'chinese', 'southern_us', 'french', 'british', 'british', 'brazilian', 'japanese', 'chinese', 'thai', 'mexican', 'southern_us', 'vietnamese', 'british', 'indian', 'thai', 'chinese', 'chinese', 'indian', 'italian', 'southern_us', 'vietnamese', 'vietnamese', 'cajun_creole', 'mexican', 'italian', 'chinese', 'greek', 'mexican', 'spanish', 'southern_us', 'mexican', 'italian', 'mexican', 'mexican', 'chinese', 'southern_us', 'mexican', 'chinese', 'spanish', 'mexican', 'italian', 'italian', 'moroccan', 'spanish', 'thai', 'southern_us', 'mexican', 'jamaican', 'mexican', 'italian', 'italian', 'french', 'italian', 'spanish', 'italian', 'japanese', 'mexican', 'cajun_creole', 'italian', 'italian', 'moroccan', 'french', 'southern_us', 'korean', 'moroccan', 'mexican', 'cajun_creole', 'mexican', 'indian', 'italian', 'chinese', 'french', 'japanese', 'greek', 'chinese', 'greek', 'irish', 'cajun_creole', 'indian', 'british', 'mexican', 'mexican', 'italian', 'filipino', 'indian', 'italian', 'italian', 'russian', 'italian', 'southern_us', 'southern_us', 'italian', 'italian', 'italian', 'moroccan', 'cajun_creole', 'moroccan', 'jamaican', 'italian', 'chinese', 'mexican', 'japanese', 'italian', 'mexican', 'chinese', 'southern_us', 'mexican', 'vietnamese', 'thai', 'mexican', 'italian', 'mexican', 'italian', 'italian', 'italian', 'italian', 'mexican', 'french', 'spanish', 'italian', 'filipino', 'italian', 'southern_us', 'southern_us', 'french', 'mexican', 'vietnamese', 'spanish', 'southern_us', 'italian', 'indian', 'filipino', 'mexican', 'mexican', 'southern_us', 'southern_us', 'italian', 'greek', 'southern_us', 'italian', 'italian', 'italian', 'indian', 'southern_us', 'french', 'french', 'chinese', 'mexican', 'spanish', 'italian', 'brazilian', 'italian', 'southern_us', 'chinese', 'mexican', 'italian', 'italian', 'mexican', 'italian', 'mexican', 'thai', 'southern_us', 'french', 'thai', 'brazilian', 'french', 'moroccan', 'indian', 'japanese', 'jamaican', 'french', 'mexican', 'southern_us', 'indian', 'moroccan', 'southern_us', 'thai', 'italian', 'italian', 'filipino', 'vietnamese', 'mexican', 'italian', 'indian', 'italian', 'indian', 'indian', 'southern_us', 'southern_us', 'mexican', 'thai', 'southern_us', 'mexican', 'mexican', 'spanish', 'moroccan', 'indian', 'moroccan', 'chinese', 'chinese', 'italian', 'brazilian', 'mexican', 'french', 'cajun_creole', 'cajun_creole', 'mexican', 'italian', 'moroccan', 'mexican', 'french', 'japanese', 'thai', 'mexican', 'french', 'italian', 'thai', 'mexican', 'mexican', 'french', 'chinese', 'cajun_creole', 'french', 'spanish', 'mexican', 'russian', 'korean', 'mexican', 'italian', 'british', 'mexican', 'southern_us', 'brazilian', 'italian', 'italian', 'mexican', 'mexican', 'thai', 'french', 'italian', 'italian', 'mexican', 'mexican', 'british', 'vietnamese', 'italian', 'mexican', 'thai', 'mexican', 'vietnamese', 'southern_us', 'mexican', 'southern_us', 'mexican', 'mexican', 'italian', 'italian', 'italian', 'filipino', 'southern_us', 'greek', 'mexican', 'southern_us', 'southern_us', 'french', 'french', 'cajun_creole', 'mexican', 'spanish', 'italian', 'mexican', 'italian', 'italian', 'indian', 'italian', 'indian', 'moroccan', 'british', 'indian', 'russian', 'cajun_creole', 'italian', 'indian', 'southern_us', 'italian', 'greek', 'french', 'brazilian', 'mexican', 'chinese', 'italian', 'vietnamese', 'french', 'thai', 'indian', 'spanish', 'chinese', 'southern_us', 'southern_us', 'mexican', 'vietnamese', 'mexican', 'mexican', 'russian', 'mexican', 'italian', 'mexican', 'japanese', 'italian', 'italian', 'cajun_creole', 'indian', 'russian', 'french', 'greek', 'southern_us', 'italian', 'indian', 'korean', 'indian', 'spanish', 'brazilian', 'italian', 'italian', 'spanish', 'chinese', 'mexican', 'italian', 'chinese', 'mexican', 'indian', 'southern_us', 'mexican', 'italian', 'japanese', 'italian', 'mexican', 'korean', 'british', 'french', 'moroccan', 'italian', 'italian', 'italian', 'southern_us', 'southern_us', 'chinese', 'korean', 'french', 'greek', 'spanish', 'italian', 'italian', 'mexican', 'irish', 'indian', 'british', 'mexican', 'korean', 'italian', 'thai', 'french', 'chinese', 'thai', 'greek', 'southern_us', 'mexican', 'italian', 'italian', 'indian', 'mexican', 'italian', 'mexican', 'irish', 'cajun_creole', 'japanese', 'chinese', 'mexican', 'thai', 'japanese', 'brazilian', 'french', 'indian', 'indian', 'mexican', 'mexican', 'southern_us', 'italian', 'italian', 'mexican', 'thai', 'italian', 'brazilian', 'mexican', 'indian', 'southern_us', 'greek', 'thai', 'mexican', 'indian', 'thai', 'chinese', 'italian', 'spanish', 'mexican', 'vietnamese', 'mexican', 'mexican', 'southern_us', 'italian', 'italian', 'cajun_creole', 'mexican', 'chinese', 'italian', 'southern_us', 'korean', 'southern_us', 'italian', 'italian', 'southern_us', 'filipino', 'southern_us', 'british', 'chinese', 'cajun_creole', 'mexican', 'indian', 'korean', 'chinese', 'thai', 'italian', 'cajun_creole', 'italian', 'cajun_creole', 'southern_us', 'french', 'japanese', 'mexican', 'japanese', 'greek', 'italian', 'moroccan', 'italian', 'thai', 'french', 'vietnamese', 'indian', 'chinese', 'indian', 'italian', 'mexican', 'southern_us', 'spanish', 'cajun_creole', 'mexican', 'thai', 'southern_us', 'southern_us', 'italian', 'indian', 'jamaican', 'italian', 'vietnamese', 'indian', 'mexican', 'italian', 'mexican', 'chinese', 'chinese', 'mexican', 'cajun_creole', 'southern_us', 'mexican', 'cajun_creole', 'chinese', 'thai', 'italian', 'chinese', 'moroccan', 'mexican', 'mexican', 'mexican', 'vietnamese', 'greek', 'italian', 'mexican', 'indian', 'irish', 'italian', 'southern_us', 'greek', 'french', 'southern_us', 'vietnamese', 'southern_us', 'italian', 'thai', 'italian', 'japanese', 'indian', 'southern_us', 'greek', 'japanese', 'southern_us', 'italian', 'italian', 'italian', 'vietnamese', 'chinese', 'italian', 'southern_us', 'mexican', 'mexican', 'thai', 'italian', 'french', 'thai', 'southern_us', 'spanish', 'korean', 'french', 'filipino', 'cajun_creole', 'filipino', 'mexican', 'indian', 'cajun_creole', 'indian', 'chinese', 'thai', 'italian', 'cajun_creole', 'indian', 'italian', 'italian', 'japanese', 'italian', 'indian', 'chinese', 'moroccan', 'mexican', 'french', 'mexican', 'mexican', 'greek', 'vietnamese', 'cajun_creole', 'moroccan', 'southern_us', 'mexican', 'french', 'indian', 'mexican', 'southern_us', 'italian', 'indian', 'moroccan', 'southern_us', 'italian', 'indian', 'southern_us', 'brazilian', 'cajun_creole', 'italian', 'japanese', 'moroccan', 'moroccan', 'indian', 'mexican', 'french', 'italian', 'filipino', 'jamaican', 'indian', 'italian', 'russian', 'british', 'brazilian', 'thai', 'italian', 'southern_us', 'southern_us', 'spanish', 'indian', 'southern_us', 'vietnamese', 'southern_us', 'british', 'italian', 'italian', 'filipino', 'chinese', 'indian', 'japanese', 'greek', 'greek', 'southern_us', 'mexican', 'italian', 'mexican', 'french', 'italian', 'southern_us', 'indian', 'italian', 'italian', 'cajun_creole', 'vietnamese', 'chinese', 'mexican', 'italian', 'filipino', 'spanish', 'italian', 'irish', 'french', 'french', 'southern_us', 'indian', 'southern_us', 'italian', 'mexican', 'mexican', 'japanese', 'korean', 'cajun_creole', 'russian', 'indian', 'mexican', 'chinese', 'italian', 'indian', 'cajun_creole', 'korean', 'moroccan', 'thai', 'indian', 'french', 'mexican', 'japanese', 'southern_us', 'chinese', 'cajun_creole', 'italian', 'southern_us', 'jamaican', 'japanese', 'southern_us', 'italian', 'vietnamese', 'french', 'french', 'thai', 'southern_us', 'southern_us', 'mexican', 'italian', 'mexican', 'chinese', 'british', 'italian', 'thai', 'korean', 'italian', 'indian', 'jamaican', 'italian', 'british', 'southern_us', 'italian', 'indian', 'chinese', 'mexican', 'italian', 'italian', 'french', 'french', 'italian', 'italian', 'brazilian', 'italian', 'mexican', 'italian', 'italian', 'italian', 'spanish', 'thai', 'chinese', 'vietnamese', 'greek', 'italian', 'moroccan', 'filipino', 'chinese', 'chinese', 'greek', 'japanese', 'indian', 'thai', 'italian', 'southern_us', 'indian', 'cajun_creole', 'italian', 'mexican', 'vietnamese', 'italian', 'japanese', 'southern_us', 'brazilian', 'southern_us', 'italian', 'mexican', 'indian', 'mexican', 'mexican', 'mexican', 'indian', 'indian', 'italian', 'italian', 'italian', 'mexican', 'indian', 'southern_us', 'mexican', 'mexican', 'greek', 'brazilian', 'french', 'mexican', 'italian', 'mexican', 'cajun_creole', 'italian', 'chinese', 'indian', 'russian', 'french', 'italian', 'moroccan', 'italian', 'thai', 'italian', 'japanese', 'chinese', 'indian', 'southern_us', 'british', 'french', 'greek', 'chinese', 'jamaican', 'korean', 'mexican', 'chinese', 'mexican', 'italian', 'mexican', 'mexican', 'mexican', 'southern_us', 'mexican', 'indian', 'chinese', 'moroccan', 'italian', 'indian', 'russian', 'italian', 'mexican', 'british', 'italian', 'mexican', 'chinese', 'french', 'french', 'southern_us', 'italian', 'italian', 'thai', 'indian', 'japanese', 'italian', 'mexican', 'mexican', 'mexican', 'italian', 'korean', 'chinese', 'italian', 'mexican', 'mexican', 'southern_us', 'french', 'mexican', 'french', 'italian', 'french', 'british', 'mexican', 'italian', 'southern_us', 'southern_us', 'southern_us', 'indian', 'southern_us', 'cajun_creole', 'french', 'italian', 'japanese', 'italian', 'southern_us', 'indian', 'indian', 'mexican', 'cajun_creole', 'indian', 'greek', 'mexican', 'chinese', 'indian', 'southern_us', 'french', 'japanese', 'southern_us', 'chinese', 'spanish', 'mexican', 'mexican', 'mexican', 'mexican', 'indian', 'southern_us', 'irish', 'filipino', 'filipino', 'chinese', 'cajun_creole', 'moroccan', 'italian', 'japanese', 'southern_us', 'japanese', 'southern_us', 'italian', 'mexican', 'southern_us', 'indian', 'brazilian', 'irish', 'moroccan', 'jamaican', 'indian', 'japanese', 'mexican', 'mexican', 'british', 'thai', 'southern_us', 'spanish', 'spanish', 'vietnamese', 'korean', 'mexican', 'japanese', 'jamaican', 'italian', 'cajun_creole', 'cajun_creole', 'indian', 'southern_us', 'moroccan', 'italian', 'mexican', 'vietnamese', 'spanish', 'irish', 'japanese', 'greek', 'filipino', 'irish', 'southern_us', 'southern_us', 'greek', 'indian', 'chinese', 'thai', 'japanese', 'french', 'mexican', 'french', 'mexican', 'brazilian', 'southern_us', 'italian', 'thai', 'italian', 'filipino', 'italian', 'italian', 'spanish', 'chinese', 'mexican', 'italian', 'indian', 'japanese', 'jamaican', 'italian', 'italian', 'korean', 'indian', 'southern_us', 'mexican', 'italian', 'irish', 'indian', 'vietnamese', 'russian', 'indian', 'mexican', 'chinese', 'southern_us', 'mexican', 'french', 'indian', 'chinese', 'southern_us', 'moroccan', 'italian', 'southern_us', 'southern_us', 'filipino', 'italian', 'southern_us', 'korean', 'chinese', 'mexican', 'mexican', 'italian', 'chinese', 'greek', 'greek', 'italian', 'southern_us', 'mexican', 'indian', 'moroccan', 'italian', 'italian', 'mexican', 'italian', 'greek', 'southern_us', 'mexican', 'italian', 'mexican', 'mexican', 'italian', 'southern_us', 'southern_us', 'thai', 'vietnamese', 'jamaican', 'chinese', 'mexican', 'italian', 'southern_us', 'moroccan', 'southern_us', 'filipino', 'greek', 'southern_us', 'italian', 'mexican', 'british', 'southern_us', 'filipino', 'southern_us', 'italian', 'southern_us', 'cajun_creole', 'greek', 'thai', 'southern_us', 'irish', 'italian', 'cajun_creole', 'cajun_creole', 'greek', 'southern_us', 'indian', 'jamaican', 'cajun_creole', 'southern_us', 'southern_us', 'french', 'vietnamese', 'italian', 'thai', 'chinese', 'korean', 'mexican', 'korean', 'irish', 'indian', 'indian', 'southern_us', 'southern_us', 'vietnamese', 'southern_us', 'thai', 'japanese', 'chinese', 'italian', 'indian', 'italian', 'mexican', 'spanish', 'chinese', 'mexican', 'mexican', 'moroccan', 'southern_us', 'italian', 'mexican', 'italian', 'mexican', 'italian', 'korean', 'italian', 'chinese', 'cajun_creole', 'thai', 'mexican', 'italian', 'cajun_creole', 'greek', 'southern_us', 'greek', 'japanese', 'thai', 'jamaican', 'italian', 'british', 'british', 'indian', 'irish', 'british', 'mexican', 'italian', 'irish', 'mexican', 'chinese', 'mexican', 'cajun_creole', 'spanish', 'italian', 'indian', 'thai', 'indian', 'italian', 'thai', 'southern_us', 'chinese', 'italian', 'mexican', 'italian', 'korean', 'indian', 'indian', 'korean', 'mexican', 'mexican', 'greek', 'southern_us', 'italian', 'indian', 'french', 'italian', 'chinese', 'cajun_creole', 'spanish', 'mexican', 'southern_us', 'spanish', 'southern_us', 'greek', 'italian', 'italian', 'mexican', 'mexican', 'british', 'southern_us', 'indian', 'southern_us', 'filipino', 'chinese', 'moroccan', 'cajun_creole', 'thai', 'mexican', 'russian', 'mexican', 'korean', 'french', 'italian', 'italian', 'southern_us', 'french', 'thai', 'spanish', 'korean', 'thai', 'mexican', 'italian', 'korean', 'indian', 'italian', 'french', 'italian', 'irish', 'french', 'indian', 'chinese', 'filipino', 'southern_us', 'mexican', 'mexican', 'indian', 'irish', 'mexican', 'jamaican', 'southern_us', 'russian', 'vietnamese', 'thai', 'chinese', 'indian', 'brazilian', 'indian', 'southern_us', 'indian', 'jamaican', 'indian', 'italian', 'indian', 'chinese', 'brazilian', 'southern_us', 'italian', 'japanese', 'indian', 'spanish', 'vietnamese', 'cajun_creole', 'french', 'french', 'mexican', 'filipino', 'filipino', 'spanish', 'italian', 'indian', 'italian', 'cajun_creole', 'japanese', 'italian', 'chinese', 'thai', 'italian', 'southern_us', 'indian', 'moroccan', 'mexican', 'mexican', 'mexican', 'jamaican', 'greek', 'filipino', 'indian', 'french', 'japanese', 'italian', 'mexican', 'mexican', 'french', 'southern_us', 'indian', 'italian', 'indian', 'chinese', 'mexican', 'thai', 'spanish', 'mexican', 'cajun_creole', 'southern_us', 'southern_us', 'italian', 'thai', 'greek', 'southern_us', 'chinese', 'mexican', 'korean', 'mexican', 'cajun_creole', 'greek', 'italian', 'korean', 'italian', 'italian', 'chinese', 'southern_us', 'irish', 'chinese', 'cajun_creole', 'mexican', 'vietnamese', 'italian', 'mexican', 'moroccan', 'indian', 'chinese', 'italian', 'indian', 'mexican', 'italian', 'mexican', 'chinese', 'thai', 'spanish', 'indian', 'italian', 'indian', 'korean', 'indian', 'moroccan', 'british', 'southern_us', 'thai', 'japanese', 'cajun_creole', 'chinese', 'indian', 'italian', 'chinese', 'italian', 'italian', 'southern_us', 'indian', 'indian', 'french', 'french', 'brazilian', 'british', 'southern_us', 'mexican', 'thai', 'mexican', 'mexican', 'southern_us', 'korean', 'chinese', 'italian', 'british', 'indian', 'indian', 'indian', 'japanese', 'southern_us', 'greek', 'southern_us', 'italian', 'french', 'italian', 'cajun_creole', 'french', 'chinese', 'indian', 'southern_us', 'southern_us', 'italian', 'italian', 'french', 'vietnamese', 'italian', 'indian', 'mexican', 'southern_us', 'southern_us', 'jamaican', 'mexican', 'chinese', 'mexican', 'japanese', 'southern_us', 'japanese', 'japanese', 'french', 'italian', 'italian', 'japanese', 'chinese', 'mexican', 'greek', 'mexican', 'italian', 'french', 'chinese', 'italian', 'southern_us', 'jamaican', 'jamaican', 'mexican', 'indian', 'irish', 'italian', 'southern_us', 'indian', 'southern_us', 'cajun_creole', 'indian', 'italian', 'italian', 'korean', 'italian', 'thai', 'mexican', 'french', 'southern_us', 'italian', 'chinese', 'italian', 'italian', 'italian', 'thai', 'southern_us', 'mexican', 'british', 'british', 'greek', 'indian', 'french', 'italian', 'mexican', 'italian', 'italian', 'french', 'french', 'chinese', 'thai', 'italian', 'mexican', 'italian', 'mexican', 'indian', 'french', 'japanese', 'mexican', 'thai', 'mexican', 'japanese', 'indian', 'japanese', 'greek', 'thai', 'italian', 'thai', 'mexican', 'irish', 'italian', 'indian', 'southern_us', 'mexican', 'mexican', 'southern_us', 'greek', 'italian', 'thai', 'italian', 'brazilian', 'mexican', 'southern_us', 'spanish', 'mexican', 'chinese', 'italian', 'irish', 'mexican', 'southern_us', 'italian', 'mexican', 'chinese', 'korean', 'cajun_creole', 'moroccan', 'spanish', 'italian', 'italian', 'italian', 'southern_us', 'mexican', 'french', 'irish', 'italian', 'mexican', 'thai', 'chinese', 'italian', 'greek', 'chinese', 'thai', 'french', 'italian', 'brazilian', 'southern_us', 'italian', 'brazilian', 'mexican', 'indian', 'cajun_creole', 'spanish', 'italian', 'italian', 'irish', 'french', 'mexican', 'mexican', 'korean', 'southern_us', 'mexican', 'italian', 'italian', 'italian', 'italian', 'chinese', 'british', 'southern_us', 'greek', 'greek', 'mexican', 'korean', 'italian', 'italian', 'french', 'brazilian', 'southern_us', 'mexican', 'indian', 'thai', 'french', 'french', 'french', 'french', 'mexican', 'mexican', 'korean', 'italian', 'italian', 'french', 'indian', 'italian', 'thai', 'mexican', 'italian', 'indian', 'italian', 'filipino', 'mexican', 'italian', 'mexican', 'italian', 'irish', 'mexican', 'italian', 'russian', 'vietnamese', 'british', 'chinese', 'chinese', 'mexican', 'mexican', 'southern_us', 'cajun_creole', 'chinese', 'southern_us', 'mexican', 'indian', 'mexican', 'japanese', 'japanese', 'mexican', 'italian', 'mexican', 'british', 'italian', 'mexican', 'italian', 'indian', 'korean', 'irish', 'greek', 'italian', 'indian', 'french', 'southern_us', 'southern_us', 'southern_us', 'italian', 'mexican', 'indian', 'southern_us', 'italian', 'southern_us', 'mexican', 'mexican', 'irish', 'italian', 'southern_us', 'thai', 'italian', 'cajun_creole', 'chinese', 'mexican', 'french', 'japanese', 'japanese', 'italian', 'jamaican', 'indian', 'italian', 'british', 'mexican', 'korean', 'southern_us', 'mexican', 'southern_us', 'chinese', 'southern_us', 'italian', 'thai', 'french', 'italian', 'italian', 'greek', 'vietnamese', 'japanese', 'italian', 'moroccan', 'moroccan', 'southern_us', 'italian', 'mexican', 'italian', 'italian', 'japanese', 'italian', 'mexican', 'mexican', 'filipino', 'italian', 'greek', 'italian', 'indian', 'greek', 'mexican', 'japanese', 'mexican', 'mexican', 'indian', 'chinese', 'italian', 'italian', 'italian', 'korean', 'indian', 'moroccan', 'southern_us', 'french', 'korean', 'mexican', 'italian', 'chinese', 'mexican', 'indian', 'mexican', 'chinese', 'italian', 'southern_us', 'mexican', 'southern_us', 'chinese', 'chinese', 'southern_us', 'indian', 'italian', 'mexican', 'thai', 'mexican', 'italian', 'southern_us', 'mexican', 'japanese', 'italian', 'italian', 'southern_us', 'british', 'chinese', 'thai', 'italian', 'italian', 'french', 'italian', 'southern_us', 'italian', 'british', 'mexican', 'italian', 'chinese', 'russian', 'mexican', 'filipino', 'southern_us', 'mexican', 'chinese', 'mexican', 'italian', 'japanese', 'southern_us', 'spanish', 'british', 'indian', 'french', 'british', 'southern_us', 'irish', 'italian', 'chinese', 'french', 'korean', 'korean', 'chinese', 'mexican', 'french', 'vietnamese', 'french', 'japanese', 'mexican', 'russian', 'cajun_creole', 'mexican', 'mexican', 'southern_us', 'italian', 'thai', 'irish', 'italian', 'japanese', 'southern_us', 'japanese', 'italian', 'italian', 'spanish', 'british', 'chinese', 'indian', 'french', 'mexican', 'irish', 'thai', 'indian', 'mexican', 'japanese', 'mexican', 'cajun_creole', 'french', 'french', 'mexican', 'italian', 'jamaican', 'mexican', 'thai', 'mexican', 'mexican', 'mexican', 'italian', 'filipino', 'southern_us', 'moroccan', 'mexican', 'italian', 'chinese', 'southern_us', 'italian', 'korean', 'chinese', 'italian', 'mexican', 'french', 'cajun_creole', 'mexican', 'southern_us', 'japanese', 'southern_us', 'southern_us', 'mexican', 'chinese', 'italian', 'moroccan', 'mexican', 'southern_us', 'cajun_creole', 'cajun_creole', 'mexican', 'italian', 'italian', 'irish', 'southern_us', 'vietnamese', 'indian', 'italian', 'thai', 'korean', 'japanese', 'british', 'southern_us', 'cajun_creole', 'mexican', 'cajun_creole', 'vietnamese', 'japanese', 'chinese', 'irish', 'italian', 'british', 'southern_us', 'moroccan', 'french', 'greek', 'british', 'mexican', 'french', 'southern_us', 'mexican', 'chinese', 'italian', 'mexican', 'french', 'thai', 'indian', 'southern_us', 'french', 'italian', 'british', 'italian', 'mexican', 'southern_us', 'british', 'italian', 'spanish', 'cajun_creole', 'french', 'russian', 'mexican', 'italian', 'spanish', 'southern_us', 'mexican', 'mexican', 'indian', 'japanese', 'mexican', 'italian', 'mexican', 'korean', 'indian', 'southern_us', 'spanish', 'southern_us', 'italian', 'thai', 'italian', 'french', 'mexican', 'greek', 'japanese', 'indian', 'italian', 'indian', 'cajun_creole', 'thai', 'french', 'italian', 'british', 'indian', 'moroccan', 'jamaican', 'french', 'chinese', 'italian', 'southern_us', 'italian', 'italian', 'mexican', 'italian', 'italian', 'italian', 'italian', 'indian', 'italian', 'french', 'filipino', 'mexican', 'spanish', 'chinese', 'southern_us', 'french', 'southern_us', 'cajun_creole', 'indian', 'irish', 'british', 'italian', 'japanese', 'spanish', 'french', 'indian', 'indian', 'mexican', 'southern_us', 'italian', 'greek', 'italian', 'mexican', 'british', 'japanese', 'thai', 'southern_us', 'cajun_creole', 'moroccan', 'vietnamese', 'greek', 'french', 'jamaican', 'mexican', 'italian', 'mexican', 'french', 'chinese', 'indian', 'korean', 'chinese', 'mexican', 'southern_us', 'mexican', 'italian', 'southern_us', 'korean', 'mexican', 'southern_us', 'thai', 'british', 'italian', 'french', 'chinese', 'russian', 'italian', 'chinese', 'french', 'italian', 'cajun_creole', 'southern_us', 'jamaican', 'greek', 'chinese', 'filipino', 'italian', 'italian', 'japanese', 'vietnamese', 'southern_us', 'southern_us', 'moroccan', 'french', 'italian', 'thai', 'indian', 'spanish', 'southern_us', 'italian', 'mexican', 'mexican', 'thai', 'japanese', 'french', 'vietnamese', 'thai', 'italian', 'mexican', 'italian', 'indian', 'italian', 'italian', 'spanish', 'southern_us', 'southern_us', 'mexican', 'cajun_creole', 'moroccan', 'french', 'korean', 'vietnamese', 'italian', 'indian', 'brazilian', 'southern_us', 'italian', 'italian', 'brazilian', 'cajun_creole', 'italian', 'mexican', 'chinese', 'italian', 'japanese', 'cajun_creole', 'filipino', 'mexican', 'irish', 'korean', 'italian', 'japanese', 'cajun_creole', 'thai', 'cajun_creole', 'italian', 'southern_us', 'mexican', 'greek', 'italian', 'mexican', 'italian', 'indian', 'spanish', 'chinese', 'cajun_creole', 'southern_us', 'mexican', 'italian', 'italian', 'french', 'mexican', 'southern_us', 'chinese', 'thai', 'chinese', 'russian', 'jamaican', 'mexican', 'italian', 'southern_us', 'moroccan', 'italian', 'italian', 'greek', 'mexican', 'italian', 'cajun_creole', 'southern_us', 'mexican', 'thai', 'thai', 'chinese', 'cajun_creole', 'chinese', 'mexican', 'british', 'mexican', 'mexican', 'british', 'indian', 'chinese', 'jamaican', 'british', 'italian', 'french', 'mexican', 'italian', 'greek', 'italian', 'moroccan', 'cajun_creole', 'moroccan', 'chinese', 'chinese', 'moroccan', 'italian', 'southern_us', 'mexican', 'southern_us', 'mexican', 'italian', 'italian', 'mexican', 'italian', 'italian', 'southern_us', 'italian', 'italian', 'southern_us', 'italian', 'japanese', 'mexican', 'french', 'thai', 'japanese', 'vietnamese', 'spanish', 'indian', 'italian', 'italian', 'indian', 'greek', 'vietnamese', 'indian', 'chinese', 'mexican', 'mexican', 'indian', 'mexican', 'italian', 'mexican', 'mexican', 'vietnamese', 'italian', 'moroccan', 'italian', 'italian', 'mexican', 'british', 'british', 'british', 'french', 'mexican', 'cajun_creole', 'italian', 'british', 'greek', 'chinese', 'thai', 'southern_us', 'irish', 'italian', 'mexican', 'filipino', 'greek', 'italian', 'mexican', 'italian', 'italian', 'mexican', 'mexican', 'greek', 'chinese', 'spanish', 'mexican', 'chinese', 'italian', 'indian', 'italian', 'italian', 'irish', 'italian', 'french', 'vietnamese', 'indian', 'cajun_creole', 'indian', 'italian', 'italian', 'italian', 'korean', 'vietnamese', 'spanish', 'japanese', 'italian', 'french', 'mexican', 'french', 'chinese', 'indian', 'spanish', 'mexican', 'spanish', 'cajun_creole', 'spanish', 'mexican', 'korean', 'italian', 'italian', 'french', 'italian', 'indian', 'indian', 'italian', 'chinese', 'chinese', 'korean', 'southern_us', 'italian', 'italian', 'moroccan', 'italian', 'southern_us', 'french', 'mexican', 'brazilian', 'brazilian', 'cajun_creole', 'chinese', 'indian', 'southern_us', 'korean', 'southern_us', 'southern_us', 'japanese', 'moroccan', 'jamaican', 'japanese', 'japanese', 'mexican', 'italian', 'mexican', 'mexican', 'french', 'japanese', 'thai', 'indian', 'greek', 'italian', 'italian', 'cajun_creole', 'indian', 'italian', 'chinese', 'indian', 'indian', 'mexican', 'mexican', 'southern_us', 'southern_us', 'spanish', 'southern_us', 'mexican', 'southern_us', 'mexican', 'french', 'mexican', 'french', 'korean', 'italian', 'filipino', 'southern_us', 'mexican', 'southern_us', 'mexican', 'thai', 'chinese', 'southern_us', 'italian', 'indian', 'cajun_creole', 'chinese', 'italian', 'cajun_creole', 'mexican', 'mexican', 'italian', 'cajun_creole', 'moroccan', 'italian', 'greek', 'brazilian', 'italian', 'mexican', 'indian', 'italian', 'greek', 'southern_us', 'mexican', 'italian', 'moroccan', 'italian', 'cajun_creole', 'italian', 'mexican', 'italian', 'thai', 'italian', 'mexican', 'chinese', 'british', 'italian', 'russian', 'italian', 'southern_us', 'cajun_creole', 'mexican', 'brazilian', 'cajun_creole', 'southern_us', 'cajun_creole', 'mexican', 'french', 'indian', 'spanish', 'italian', 'chinese', 'italian', 'southern_us', 'mexican', 'cajun_creole', 'italian', 'italian', 'french', 'indian', 'chinese', 'italian', 'indian', 'french', 'french', 'mexican', 'korean', 'italian', 'french', 'french', 'spanish', 'vietnamese', 'brazilian', 'italian', 'southern_us', 'french', 'italian', 'indian', 'filipino', 'italian', 'japanese', 'mexican', 'italian', 'italian', 'southern_us', 'italian', 'mexican', 'italian', 'mexican', 'mexican', 'italian', 'british', 'italian', 'italian', 'southern_us', 'mexican', 'chinese', 'italian', 'chinese', 'southern_us', 'italian', 'thai', 'italian', 'greek', 'indian', 'japanese', 'cajun_creole', 'chinese', 'french', 'italian', 'french', 'japanese', 'irish', 'british', 'french', 'mexican', 'brazilian', 'irish', 'french', 'spanish', 'indian', 'indian', 'british', 'filipino', 'korean', 'indian', 'thai', 'thai', 'korean', 'italian', 'greek', 'japanese', 'mexican', 'italian', 'japanese', 'greek', 'chinese', 'italian', 'japanese', 'chinese', 'greek', 'japanese', 'indian', 'italian', 'mexican', 'french', 'korean', 'italian', 'korean', 'french', 'southern_us', 'chinese', 'italian', 'indian', 'southern_us', 'mexican', 'mexican', 'french', 'italian', 'jamaican', 'french', 'mexican', 'mexican', 'french', 'spanish', 'chinese', 'chinese', 'cajun_creole', 'mexican', 'thai', 'southern_us', 'chinese', 'korean', 'southern_us', 'french', 'spanish', 'irish', 'mexican', 'french', 'italian', 'italian', 'italian', 'italian', 'mexican', 'italian', 'mexican', 'moroccan', 'british', 'italian', 'british', 'spanish', 'italian', 'indian', 'greek', 'mexican', 'southern_us', 'korean', 'chinese', 'french', 'japanese', 'italian', 'cajun_creole', 'italian', 'italian', 'russian', 'italian', 'british', 'indian', 'mexican', 'mexican', 'italian', 'indian', 'italian', 'jamaican', 'brazilian', 'vietnamese', 'southern_us', 'italian', 'mexican', 'italian', 'mexican', 'french', 'southern_us', 'indian', 'italian', 'french', 'greek', 'chinese', 'southern_us', 'thai', 'french', 'japanese', 'thai', 'russian', 'french', 'southern_us', 'italian', 'jamaican', 'chinese', 'chinese', 'spanish', 'southern_us', 'french', 'italian', 'french', 'japanese', 'italian', 'brazilian', 'indian', 'french', 'mexican', 'mexican', 'greek', 'japanese', 'southern_us', 'mexican', 'indian', 'greek', 'vietnamese', 'italian', 'mexican', 'korean', 'indian', 'japanese', 'indian', 'filipino', 'greek', 'southern_us', 'chinese', 'vietnamese', 'thai', 'southern_us', 'mexican', 'italian', 'southern_us', 'mexican', 'indian', 'korean', 'vietnamese', 'italian', 'mexican', 'cajun_creole', 'italian', 'thai', 'russian', 'italian', 'korean', 'korean', 'spanish', 'indian', 'italian', 'southern_us', 'chinese', 'brazilian', 'french', 'mexican', 'irish', 'southern_us', 'italian', 'southern_us', 'southern_us', 'southern_us', 'moroccan', 'mexican', 'filipino', 'mexican', 'southern_us', 'mexican', 'chinese', 'mexican', 'indian', 'italian', 'thai', 'indian', 'italian', 'mexican', 'spanish', 'filipino', 'british', 'mexican', 'greek', 'thai', 'southern_us', 'mexican', 'mexican', 'russian', 'mexican', 'japanese', 'mexican', 'filipino', 'french', 'italian', 'italian', 'italian', 'southern_us', 'cajun_creole', 'southern_us', 'french', 'thai', 'mexican', 'southern_us', 'mexican', 'cajun_creole', 'italian', 'cajun_creole', 'vietnamese', 'greek', 'chinese', 'southern_us', 'mexican', 'southern_us', 'indian', 'italian', 'southern_us', 'southern_us', 'mexican', 'italian', 'southern_us', 'chinese', 'british', 'indian', 'italian', 'indian', 'mexican', 'italian', 'italian', 'mexican', 'mexican', 'mexican', 'jamaican', 'mexican', 'mexican', 'indian', 'mexican', 'korean', 'italian', 'mexican', 'cajun_creole', 'chinese', 'filipino', 'mexican', 'italian', 'italian', 'french', 'japanese', 'italian', 'spanish', 'italian', 'thai', 'mexican', 'mexican', 'southern_us', 'greek', 'indian', 'italian', 'italian', 'indian', 'italian', 'chinese', 'french', 'indian', 'mexican', 'southern_us', 'southern_us', 'greek', 'mexican', 'indian', 'chinese', 'japanese', 'russian', 'southern_us', 'thai', 'french', 'mexican', 'italian', 'southern_us', 'greek', 'southern_us', 'spanish', 'thai', 'italian', 'irish', 'southern_us', 'italian', 'italian', 'korean', 'british', 'mexican', 'mexican', 'italian', 'russian', 'indian', 'chinese', 'mexican', 'italian', 'chinese', 'southern_us', 'italian', 'mexican', 'chinese', 'southern_us', 'filipino', 'cajun_creole', 'french', 'french', 'cajun_creole', 'jamaican', 'mexican', 'chinese', 'italian', 'italian', 'southern_us', 'chinese', 'vietnamese', 'vietnamese', 'italian', 'chinese', 'chinese', 'spanish', 'japanese', 'greek', 'russian', 'italian', 'russian', 'british', 'moroccan', 'thai', 'filipino', 'thai', 'southern_us', 'mexican', 'british', 'southern_us', 'irish', 'italian', 'indian', 'italian', 'chinese', 'mexican', 'spanish', 'cajun_creole', 'southern_us', 'brazilian', 'mexican', 'southern_us', 'southern_us', 'mexican', 'vietnamese', 'indian', 'mexican', 'mexican', 'korean', 'french', 'spanish', 'mexican', 'southern_us', 'korean', 'spanish', 'indian', 'mexican', 'filipino', 'italian', 'mexican', 'korean', 'southern_us', 'greek', 'chinese', 'italian', 'italian', 'spanish', 'italian', 'mexican', 'italian', 'vietnamese', 'italian', 'mexican', 'spanish', 'jamaican', 'mexican', 'chinese', 'moroccan', 'mexican', 'italian', 'mexican', 'indian', 'southern_us', 'mexican', 'southern_us', 'italian', 'mexican', 'indian', 'southern_us', 'indian', 'spanish', 'indian', 'indian', 'italian', 'indian', 'japanese', 'chinese', 'mexican', 'mexican', 'southern_us', 'italian', 'italian', 'italian', 'chinese', 'korean', 'mexican', 'moroccan', 'cajun_creole', 'italian', 'french', 'greek', 'japanese', 'russian', 'french', 'mexican', 'korean', 'italian', 'italian', 'thai', 'cajun_creole', 'chinese', 'thai', 'chinese', 'indian', 'chinese', 'french', 'japanese', 'mexican', 'italian', 'chinese', 'italian', 'jamaican', 'irish', 'cajun_creole', 'italian', 'chinese', 'filipino', 'italian', 'southern_us', 'indian', 'italian', 'cajun_creole', 'southern_us', 'chinese', 'southern_us', 'thai', 'korean', 'indian', 'jamaican', 'jamaican', 'spanish', 'cajun_creole', 'southern_us', 'thai', 'british', 'french', 'korean', 'italian', 'british', 'italian', 'southern_us', 'mexican', 'italian', 'italian', 'mexican', 'mexican', 'greek', 'mexican', 'greek', 'greek', 'thai', 'mexican', 'spanish', 'chinese', 'italian', 'mexican', 'spanish', 'italian', 'italian', 'southern_us', 'italian', 'italian', 'thai', 'italian', 'italian', 'irish', 'mexican', 'cajun_creole', 'mexican', 'southern_us', 'mexican', 'southern_us', 'italian', 'french', 'southern_us', 'japanese', 'italian', 'french', 'mexican', 'italian', 'mexican', 'french', 'southern_us', 'moroccan', 'british', 'brazilian', 'filipino', 'southern_us', 'french', 'chinese', 'french', 'italian', 'mexican', 'jamaican', 'southern_us', 'chinese', 'moroccan', 'greek', 'greek', 'thai', 'indian', 'mexican', 'mexican', 'thai', 'irish', 'british', 'italian', 'greek', 'italian', 'french', 'indian', 'indian', 'southern_us', 'mexican', 'french', 'spanish', 'spanish', 'southern_us', 'spanish', 'italian', 'irish', 'french', 'italian', 'indian', 'korean', 'italian', 'mexican', 'mexican', 'korean', 'indian', 'filipino', 'italian', 'moroccan', 'greek', 'cajun_creole', 'japanese', 'mexican', 'french', 'french', 'japanese', 'chinese', 'chinese', 'cajun_creole', 'mexican', 'mexican', 'italian', 'mexican', 'french', 'mexican', 'chinese', 'italian', 'southern_us', 'indian', 'japanese', 'vietnamese', 'mexican', 'southern_us', 'jamaican', 'mexican', 'cajun_creole', 'mexican', 'japanese', 'chinese', 'mexican', 'italian', 'indian', 'japanese', 'mexican', 'italian', 'vietnamese', 'chinese', 'italian', 'mexican', 'italian', 'chinese', 'spanish', 'mexican', 'japanese', 'southern_us', 'southern_us', 'mexican', 'russian', 'italian', 'greek', 'mexican', 'japanese', 'southern_us', 'thai', 'indian', 'filipino', 'indian', 'southern_us', 'vietnamese', 'greek', 'spanish', 'cajun_creole', 'moroccan', 'mexican', 'indian', 'japanese', 'italian', 'mexican', 'indian', 'mexican', 'mexican', 'chinese', 'italian', 'french', 'southern_us', 'indian', 'irish', 'indian', 'indian', 'italian', 'japanese', 'moroccan', 'italian', 'southern_us', 'italian', 'korean', 'italian', 'thai', 'italian', 'chinese', 'british', 'spanish', 'mexican', 'french', 'southern_us', 'french', 'irish', 'southern_us', 'korean', 'mexican', 'southern_us', 'french', 'southern_us', 'mexican', 'greek', 'korean', 'southern_us', 'italian', 'brazilian', 'chinese', 'thai', 'italian', 'southern_us', 'spanish', 'italian', 'chinese', 'mexican', 'mexican', 'southern_us', 'southern_us', 'cajun_creole', 'brazilian', 'southern_us', 'mexican', 'italian', 'french', 'russian', 'italian', 'mexican', 'thai', 'korean', 'italian', 'greek', 'spanish', 'japanese', 'italian', 'italian', 'italian', 'italian', 'filipino', 'spanish', 'italian', 'mexican', 'italian', 'mexican', 'southern_us', 'vietnamese', 'italian', 'indian', 'indian', 'mexican', 'indian', 'southern_us', 'chinese', 'french', 'vietnamese', 'cajun_creole', 'mexican', 'mexican', 'french', 'mexican', 'jamaican', 'vietnamese', 'italian', 'japanese', 'southern_us', 'british', 'southern_us', 'brazilian', 'indian', 'indian', 'italian', 'chinese', 'indian', 'vietnamese', 'southern_us', 'french', 'mexican', 'southern_us', 'thai', 'mexican', 'indian', 'mexican', 'italian', 'mexican', 'italian', 'italian', 'chinese', 'cajun_creole', 'moroccan', 'southern_us', 'italian', 'indian', 'southern_us', 'mexican', 'thai', 'italian', 'italian', 'french', 'cajun_creole', 'vietnamese', 'mexican', 'irish', 'mexican', 'southern_us', 'japanese', 'italian', 'french', 'mexican', 'southern_us', 'korean', 'vietnamese', 'mexican', 'japanese', 'brazilian', 'italian', 'cajun_creole', 'indian', 'british', 'indian', 'mexican', 'moroccan', 'mexican', 'greek', 'mexican', 'mexican', 'italian', 'korean', 'italian', 'mexican', 'southern_us', 'cajun_creole', 'spanish', 'indian', 'mexican', 'spanish', 'filipino', 'french', 'chinese', 'spanish', 'indian', 'italian', 'mexican', 'irish', 'cajun_creole', 'italian', 'indian', 'mexican', 'chinese', 'southern_us', 'cajun_creole', 'thai', 'french', 'southern_us', 'mexican', 'mexican', 'chinese', 'mexican', 'italian', 'chinese', 'indian', 'southern_us', 'spanish', 'japanese', 'italian', 'french', 'italian', 'chinese', 'italian', 'italian', 'italian', 'french', 'mexican', 'mexican', 'southern_us', 'italian', 'southern_us', 'indian', 'vietnamese', 'chinese', 'korean', 'southern_us', 'italian', 'cajun_creole', 'vietnamese', 'southern_us', 'mexican', 'italian', 'french', 'chinese', 'southern_us', 'korean', 'chinese', 'chinese', 'french', 'indian', 'french', 'vietnamese', 'thai', 'chinese', 'mexican', 'greek', 'french', 'brazilian', 'mexican', 'mexican', 'italian', 'southern_us', 'filipino', 'indian', 'chinese', 'italian', 'vietnamese', 'korean', 'southern_us', 'mexican', 'indian', 'indian', 'italian', 'italian', 'chinese', 'filipino', 'british', 'mexican', 'jamaican', 'mexican', 'italian', 'italian', 'mexican', 'chinese', 'southern_us', 'thai', 'british', 'mexican', 'korean', 'italian', 'irish', 'mexican', 'southern_us', 'indian', 'mexican', 'moroccan', 'southern_us', 'filipino', 'chinese', 'spanish', 'italian', 'southern_us', 'french', 'french', 'british', 'indian', 'chinese', 'italian', 'vietnamese', 'japanese', 'filipino', 'chinese', 'mexican', 'french', 'italian', 'mexican', 'southern_us', 'mexican', 'chinese', 'southern_us', 'italian', 'italian', 'french', 'spanish', 'thai', 'italian', 'vietnamese', 'chinese', 'thai', 'japanese', 'mexican', 'korean', 'italian', 'french', 'greek', 'italian', 'southern_us', 'chinese', 'mexican', 'southern_us', 'mexican', 'korean', 'indian', 'mexican', 'southern_us', 'british', 'indian', 'italian', 'russian', 'japanese', 'spanish', 'greek', 'vietnamese', 'filipino', 'southern_us', 'italian', 'japanese', 'thai', 'italian', 'italian', 'italian', 'jamaican', 'british', 'cajun_creole', 'southern_us', 'french', 'italian', 'italian', 'southern_us', 'french', 'italian', 'southern_us', 'greek', 'jamaican', 'british', 'vietnamese', 'jamaican', 'southern_us', 'italian', 'italian', 'southern_us', 'mexican', 'thai', 'mexican', 'jamaican', 'indian', 'italian', 'indian', 'filipino', 'jamaican', 'southern_us', 'mexican', 'greek', 'italian', 'italian', 'italian', 'french', 'southern_us', 'chinese', 'italian', 'moroccan', 'mexican', 'italian', 'french', 'vietnamese', 'japanese', 'mexican', 'mexican', 'southern_us', 'southern_us', 'french', 'indian', 'korean', 'cajun_creole', 'italian', 'mexican', 'korean', 'irish', 'italian', 'british', 'french', 'mexican', 'korean', 'russian', 'japanese', 'spanish', 'cajun_creole', 'italian', 'mexican', 'southern_us', 'italian', 'greek', 'southern_us', 'french', 'indian', 'indian', 'filipino', 'chinese', 'italian', 'irish', 'mexican', 'southern_us', 'irish', 'chinese', 'thai', 'japanese', 'spanish', 'british', 'italian', 'italian', 'french', 'french', 'french', 'italian', 'indian', 'southern_us', 'indian', 'chinese', 'french', 'mexican', 'italian', 'vietnamese', 'mexican', 'japanese', 'british', 'irish', 'french', 'cajun_creole', 'mexican', 'indian', 'italian', 'italian', 'cajun_creole', 'cajun_creole', 'italian', 'chinese', 'southern_us', 'southern_us', 'southern_us', 'southern_us', 'italian', 'chinese', 'chinese', 'thai', 'southern_us', 'italian', 'italian', 'thai', 'french', 'southern_us', 'chinese', 'british', 'british', 'italian', 'mexican', 'italian', 'italian', 'british', 'korean', 'italian', 'indian', 'mexican', 'southern_us', 'italian', 'irish', 'mexican', 'french', 'british', 'italian', 'japanese', 'korean', 'southern_us', 'cajun_creole', 'cajun_creole', 'italian', 'filipino', 'mexican', 'italian', 'cajun_creole', 'italian', 'moroccan', 'indian', 'cajun_creole', 'spanish', 'chinese', 'southern_us', 'southern_us', 'chinese', 'chinese', 'mexican', 'italian', 'cajun_creole', 'irish', 'french', 'greek', 'british', 'thai', 'mexican', 'italian', 'cajun_creole', 'french', 'chinese', 'russian', 'french', 'mexican', 'british', 'thai', 'indian', 'italian', 'japanese', 'italian', 'mexican', 'japanese', 'greek', 'japanese', 'mexican', 'korean', 'italian', 'southern_us', 'southern_us', 'italian', 'italian', 'korean', 'vietnamese', 'french', 'chinese', 'greek', 'japanese', 'filipino', 'indian', 'indian', 'southern_us', 'moroccan', 'italian', 'italian', 'southern_us', 'mexican', 'french', 'japanese', 'mexican', 'indian', 'southern_us', 'chinese', 'french', 'chinese', 'korean', 'french', 'italian', 'chinese', 'mexican', 'russian', 'italian', 'italian', 'southern_us', 'filipino', 'indian', 'jamaican', 'italian', 'mexican', 'thai', 'mexican', 'moroccan', 'irish', 'italian', 'french', 'spanish', 'mexican', 'indian', 'italian', 'southern_us', 'italian', 'southern_us', 'mexican', 'thai', 'italian', 'french', 'italian', 'indian', 'italian', 'southern_us', 'vietnamese', 'thai', 'french', 'greek', 'spanish', 'japanese', 'french', 'southern_us', 'thai', 'mexican', 'mexican', 'chinese', 'french', 'indian', 'italian', 'italian', 'southern_us', 'moroccan', 'russian', 'mexican', 'japanese', 'southern_us', 'moroccan', 'thai', 'indian', 'british', 'chinese', 'mexican', 'french', 'southern_us', 'indian', 'mexican', 'mexican', 'southern_us', 'southern_us', 'indian', 'indian', 'chinese', 'indian', 'chinese', 'italian', 'southern_us', 'greek', 'mexican', 'japanese', 'moroccan', 'thai', 'italian', 'southern_us', 'japanese', 'filipino', 'moroccan', 'italian', 'irish', 'mexican', 'southern_us', 'chinese', 'indian', 'mexican', 'indian', 'mexican', 'indian', 'southern_us', 'chinese', 'italian', 'italian', 'jamaican', 'jamaican', 'southern_us', 'japanese', 'italian', 'italian', 'vietnamese', 'mexican', 'italian', 'thai', 'mexican', 'irish', 'italian', 'mexican', 'southern_us', 'italian', 'jamaican', 'italian', 'southern_us', 'mexican', 'filipino', 'italian', 'moroccan', 'chinese', 'mexican', 'indian', 'mexican', 'greek', 'spanish', 'japanese', 'italian', 'italian', 'french', 'southern_us', 'chinese', 'southern_us', 'southern_us', 'southern_us', 'italian', 'french', 'mexican', 'mexican', 'irish', 'southern_us', 'mexican', 'moroccan', 'thai', 'cajun_creole', 'chinese', 'mexican', 'french', 'italian', 'japanese', 'southern_us', 'southern_us', 'southern_us', 'mexican', 'southern_us', 'vietnamese', 'italian', 'irish', 'southern_us', 'italian', 'british', 'italian', 'japanese', 'thai', 'chinese', 'italian', 'greek', 'moroccan', 'southern_us', 'italian', 'italian', 'thai', 'italian', 'italian', 'indian', 'mexican', 'italian', 'indian', 'japanese', 'french', 'cajun_creole', 'british', 'italian', 'southern_us', 'italian', 'cajun_creole', 'italian', 'french', 'indian', 'irish', 'italian', 'mexican', 'greek', 'italian', 'mexican', 'french', 'italian', 'spanish', 'irish', 'indian', 'italian', 'chinese', 'italian', 'french', 'italian', 'southern_us', 'italian', 'italian', 'chinese', 'french', 'mexican', 'southern_us', 'mexican', 'indian', 'southern_us', 'irish', 'southern_us', 'french', 'mexican', 'italian', 'french', 'thai', 'southern_us', 'mexican', 'mexican', 'indian', 'cajun_creole', 'thai', 'chinese', 'mexican', 'irish', 'italian', 'brazilian', 'irish', 'spanish', 'mexican', 'italian', 'chinese', 'chinese', 'southern_us', 'italian', 'mexican', 'mexican', 'italian', 'italian', 'mexican', 'cajun_creole', 'mexican', 'russian', 'korean', 'thai', 'italian', 'korean', 'chinese', 'moroccan', 'mexican', 'japanese', 'chinese', 'vietnamese', 'indian', 'indian', 'italian', 'japanese', 'russian', 'indian', 'italian', 'jamaican', 'cajun_creole', 'french', 'korean', 'chinese', 'mexican', 'chinese', 'british', 'italian', 'vietnamese', 'jamaican', 'italian', 'mexican', 'vietnamese', 'mexican', 'italian', 'french', 'mexican', 'korean', 'italian', 'indian', 'mexican', 'chinese', 'italian', 'brazilian', 'italian', 'italian', 'filipino', 'spanish', 'indian', 'southern_us', 'mexican', 'british', 'cajun_creole', 'thai', 'southern_us', 'chinese', 'italian', 'greek', 'thai', 'italian', 'southern_us', 'mexican', 'moroccan', 'mexican', 'mexican', 'italian', 'thai', 'mexican', 'vietnamese', 'mexican', 'chinese', 'moroccan', 'thai', 'french', 'mexican', 'italian', 'indian', 'mexican', 'chinese', 'british', 'french', 'italian', 'italian', 'southern_us', 'jamaican', 'italian', 'mexican', 'brazilian', 'mexican', 'italian', 'italian', 'vietnamese', 'italian', 'french', 'french', 'mexican', 'mexican', 'indian', 'indian', 'italian', 'moroccan', 'italian', 'mexican', 'filipino', 'southern_us', 'southern_us', 'filipino', 'italian', 'mexican', 'cajun_creole', 'southern_us', 'southern_us', 'jamaican', 'southern_us', 'filipino', 'chinese', 'greek', 'jamaican', 'italian', 'french', 'italian', 'irish', 'italian', 'indian', 'japanese', 'korean', 'italian', 'indian', 'chinese', 'moroccan', 'indian', 'mexican', 'southern_us', 'moroccan', 'french', 'irish', 'chinese', 'greek', 'italian', 'mexican', 'chinese', 'indian', 'southern_us', 'italian', 'filipino', 'irish', 'indian', 'mexican', 'italian', 'southern_us', 'mexican', 'mexican', 'french', 'southern_us', 'greek', 'mexican', 'korean', 'french', 'cajun_creole', 'vietnamese', 'italian', 'chinese', 'italian', 'greek', 'thai', 'french', 'cajun_creole', 'italian', 'french', 'southern_us', 'indian', 'french', 'chinese', 'mexican', 'italian', 'mexican', 'chinese', 'mexican', 'chinese', 'chinese', 'indian', 'chinese', 'mexican', 'southern_us', 'italian', 'mexican', 'southern_us', 'korean', 'italian', 'brazilian', 'mexican', 'mexican', 'italian', 'spanish', 'chinese', 'italian', 'japanese', 'southern_us', 'greek', 'vietnamese', 'japanese', 'italian', 'mexican', 'mexican', 'russian', 'italian', 'italian', 'italian', 'italian', 'indian', 'japanese', 'italian', 'japanese', 'mexican', 'italian', 'french', 'mexican', 'greek', 'jamaican', 'japanese', 'thai', 'indian', 'indian', 'mexican', 'indian', 'italian', 'italian', 'mexican', 'greek', 'korean', 'southern_us', 'italian', 'chinese', 'southern_us', 'thai', 'cajun_creole', 'southern_us', 'spanish', 'chinese', 'spanish', 'korean', 'japanese', 'indian', 'cajun_creole', 'japanese', 'italian', 'italian', 'southern_us', 'southern_us', 'vietnamese', 'brazilian', 'chinese', 'mexican', 'indian', 'indian', 'greek', 'mexican', 'mexican', 'thai', 'spanish', 'italian', 'japanese', 'mexican', 'southern_us', 'mexican', 'chinese', 'french', 'greek', 'indian', 'chinese', 'southern_us', 'brazilian', 'russian', 'italian', 'italian', 'mexican', 'chinese', 'japanese', 'cajun_creole', 'french', 'italian', 'italian', 'thai', 'french', 'mexican', 'jamaican', 'french', 'chinese', 'italian', 'spanish', 'cajun_creole', 'indian', 'vietnamese', 'mexican', 'italian', 'indian', 'irish', 'japanese', 'brazilian', 'french', 'jamaican', 'southern_us', 'indian', 'italian', 'french', 'italian', 'southern_us', 'japanese', 'italian', 'spanish', 'british', 'brazilian', 'cajun_creole', 'mexican', 'cajun_creole', 'mexican', 'japanese', 'spanish', 'chinese', 'japanese', 'southern_us', 'italian', 'italian', 'french', 'chinese', 'irish', 'greek', 'russian', 'southern_us', 'british', 'italian', 'italian', 'brazilian', 'italian', 'chinese', 'southern_us', 'southern_us', 'italian', 'southern_us', 'spanish', 'indian', 'mexican', 'southern_us', 'mexican', 'italian', 'indian', 'chinese', 'italian', 'italian', 'mexican', 'mexican', 'vietnamese', 'italian', 'indian', 'indian', 'jamaican', 'mexican', 'southern_us', 'italian', 'southern_us', 'italian', 'japanese', 'mexican', 'southern_us', 'spanish', 'moroccan', 'italian', 'korean', 'southern_us', 'french', 'british', 'southern_us', 'italian', 'cajun_creole', 'mexican', 'mexican', 'filipino', 'italian', 'filipino', 'moroccan', 'brazilian', 'jamaican', 'moroccan', 'french', 'mexican', 'mexican', 'korean', 'chinese', 'italian', 'greek', 'indian', 'southern_us', 'mexican', 'mexican', 'brazilian', 'italian', 'southern_us', 'mexican', 'southern_us', 'chinese', 'french', 'chinese', 'brazilian', 'brazilian', 'southern_us', 'jamaican', 'vietnamese', 'filipino', 'french', 'spanish', 'italian', 'chinese', 'italian', 'korean', 'indian', 'greek', 'indian', 'spanish', 'greek', 'southern_us', 'chinese', 'italian', 'italian', 'mexican', 'southern_us', 'italian', 'japanese', 'mexican', 'japanese', 'mexican', 'mexican', 'mexican', 'italian', 'french', 'irish', 'cajun_creole', 'italian', 'mexican', 'cajun_creole', 'southern_us', 'mexican', 'french', 'mexican', 'french', 'indian', 'italian', 'italian', 'vietnamese', 'thai', 'indian', 'chinese', 'cajun_creole', 'indian', 'spanish', 'southern_us', 'southern_us', 'italian', 'italian', 'italian', 'italian', 'japanese', 'mexican', 'indian', 'mexican', 'italian', 'southern_us', 'mexican', 'russian', 'filipino', 'indian', 'mexican', 'vietnamese', 'italian', 'irish', 'spanish', 'italian', 'mexican', 'cajun_creole', 'mexican', 'italian', 'vietnamese', 'mexican', 'irish', 'mexican', 'italian', 'french', 'italian', 'chinese', 'mexican', 'cajun_creole', 'mexican', 'southern_us', 'french', 'indian', 'southern_us', 'korean', 'indian', 'mexican', 'mexican', 'southern_us', 'filipino', 'indian', 'french', 'southern_us', 'indian', 'mexican', 'mexican', 'chinese', 'southern_us', 'indian', 'french', 'mexican', 'chinese', 'italian', 'japanese', 'french', 'italian', 'italian', 'mexican', 'southern_us', 'italian', 'mexican', 'vietnamese', 'greek', 'mexican', 'southern_us', 'vietnamese', 'cajun_creole', 'thai', 'southern_us', 'italian', 'italian', 'greek', 'mexican', 'italian', 'indian', 'irish', 'southern_us', 'mexican', 'mexican', 'indian', 'mexican', 'jamaican', 'mexican', 'italian', 'french', 'japanese', 'chinese', 'greek', 'cajun_creole', 'thai', 'vietnamese', 'japanese', 'jamaican', 'italian', 'italian', 'italian', 'mexican', 'italian', 'french', 'italian', 'thai', 'mexican', 'brazilian', 'cajun_creole', 'vietnamese', 'italian', 'italian', 'italian', 'chinese', 'moroccan', 'greek', 'mexican', 'italian', 'cajun_creole', 'mexican', 'italian', 'indian', 'italian', 'cajun_creole', 'indian', 'italian', 'greek', 'chinese', 'mexican', 'thai', 'russian', 'indian', 'italian', 'italian', 'italian', 'french', 'moroccan', 'vietnamese', 'filipino', 'thai', 'italian', 'mexican', 'indian', 'italian', 'indian', 'thai', 'mexican', 'indian', 'thai', 'italian', 'french', 'mexican', 'korean', 'southern_us', 'italian', 'thai', 'italian', 'cajun_creole', 'italian', 'japanese', 'italian', 'italian', 'french', 'french', 'italian', 'french', 'italian', 'italian', 'mexican', 'mexican', 'italian', 'indian', 'indian', 'southern_us', 'chinese', 'chinese', 'indian', 'mexican', 'moroccan', 'mexican', 'japanese', 'greek', 'southern_us', 'thai', 'thai', 'thai', 'filipino', 'mexican', 'italian', 'chinese', 'french', 'spanish', 'chinese', 'japanese', 'korean', 'mexican', 'mexican', 'mexican', 'italian', 'moroccan', 'cajun_creole', 'mexican', 'thai', 'southern_us', 'chinese', 'jamaican', 'italian', 'southern_us', 'chinese', 'italian', 'cajun_creole', 'chinese', 'french', 'brazilian', 'italian', 'southern_us', 'southern_us', 'french', 'italian', 'cajun_creole', 'mexican', 'italian', 'chinese', 'mexican', 'southern_us', 'french', 'mexican', 'italian', 'japanese', 'french', 'indian', 'southern_us', 'italian', 'thai', 'mexican', 'italian', 'french', 'brazilian', 'italian', 'mexican', 'italian', 'moroccan', 'indian', 'mexican', 'cajun_creole', 'italian', 'moroccan', 'mexican', 'cajun_creole', 'moroccan', 'southern_us', 'indian', 'russian', 'jamaican', 'cajun_creole', 'greek', 'french', 'indian', 'spanish', 'italian', 'southern_us', 'mexican', 'southern_us', 'british', 'indian', 'southern_us', 'indian', 'mexican', 'greek', 'southern_us', 'british', 'french', 'southern_us', 'southern_us', 'mexican', 'vietnamese', 'filipino', 'thai', 'mexican', 'spanish', 'chinese', 'irish', 'italian', 'italian', 'southern_us', 'japanese', 'cajun_creole', 'vietnamese', 'italian', 'french', 'italian', 'indian', 'italian', 'french', 'italian', 'mexican', 'mexican', 'mexican', 'italian', 'thai', 'cajun_creole', 'mexican', 'cajun_creole', 'vietnamese', 'thai', 'brazilian', 'spanish', 'irish', 'indian', 'indian', 'mexican', 'greek', 'spanish', 'mexican', 'indian', 'italian', 'french', 'mexican', 'french', 'italian', 'mexican', 'indian', 'mexican', 'french', 'british', 'japanese', 'southern_us', 'french', 'french', 'russian', 'mexican', 'cajun_creole', 'mexican', 'italian', 'irish', 'italian', 'mexican', 'italian', 'chinese', 'southern_us', 'filipino', 'italian', 'italian', 'filipino', 'italian', 'french', 'mexican', 'indian', 'thai', 'italian', 'cajun_creole', 'italian', 'mexican', 'british', 'italian', 'mexican', 'french', 'mexican', 'french', 'chinese', 'italian', 'southern_us', 'mexican', 'korean', 'southern_us', 'mexican', 'filipino', 'thai', 'mexican', 'japanese', 'chinese', 'italian', 'southern_us', 'chinese', 'chinese', 'italian', 'italian', 'mexican', 'mexican', 'italian', 'italian', 'greek', 'filipino', 'southern_us', 'french', 'italian', 'russian', 'chinese', 'mexican', 'vietnamese', 'mexican', 'indian', 'filipino', 'mexican', 'thai', 'mexican', 'french', 'chinese', 'southern_us', 'italian', 'jamaican', 'japanese', 'italian', 'thai', 'mexican', 'irish', 'indian', 'italian', 'french', 'filipino', 'chinese', 'indian', 'mexican', 'russian', 'spanish', 'spanish', 'italian', 'italian', 'mexican', 'moroccan', 'french', 'indian', 'french', 'indian', 'southern_us', 'japanese', 'italian', 'mexican', 'mexican', 'spanish', 'british', 'italian', 'mexican', 'indian', 'jamaican', 'french', 'southern_us', 'irish', 'british', 'jamaican', 'french', 'cajun_creole', 'chinese', 'southern_us', 'mexican', 'italian', 'cajun_creole', 'french', 'chinese', 'southern_us', 'italian', 'mexican', 'southern_us', 'spanish', 'japanese', 'italian', 'mexican', 'cajun_creole', 'italian', 'italian', 'japanese', 'mexican', 'italian', 'italian', 'mexican', 'southern_us', 'mexican', 'cajun_creole', 'indian', 'mexican', 'italian', 'french', 'vietnamese', 'indian', 'british', 'thai', 'british', 'italian', 'indian', 'indian', 'mexican', 'vietnamese', 'italian', 'chinese', 'mexican', 'mexican', 'italian', 'mexican', 'mexican', 'italian', 'irish', 'mexican', 'italian', 'moroccan', 'southern_us', 'thai', 'japanese', 'italian', 'southern_us', 'mexican', 'chinese', 'southern_us', 'french', 'cajun_creole', 'cajun_creole', 'thai', 'mexican', 'italian', 'chinese', 'indian', 'southern_us', 'italian', 'mexican', 'mexican', 'french', 'mexican', 'japanese', 'thai', 'french', 'italian', 'southern_us', 'mexican', 'greek', 'southern_us', 'moroccan', 'moroccan', 'thai', 'french', 'southern_us', 'greek', 'mexican', 'moroccan', 'italian', 'mexican', 'mexican', 'vietnamese', 'southern_us', 'chinese', 'french', 'filipino', 'korean', 'mexican', 'southern_us', 'southern_us', 'italian', 'italian', 'vietnamese', 'southern_us', 'italian', 'southern_us', 'southern_us', 'italian', 'mexican', 'cajun_creole', 'chinese', 'mexican', 'vietnamese', 'japanese', 'thai', 'chinese', 'french', 'japanese', 'italian', 'italian', 'indian', 'italian', 'indian', 'british', 'thai', 'thai', 'french', 'italian', 'southern_us', 'mexican', 'greek', 'italian', 'thai', 'mexican', 'korean', 'chinese', 'mexican', 'japanese', 'french', 'french', 'british', 'brazilian', 'mexican', 'chinese', 'italian', 'moroccan', 'italian', 'french', 'french', 'italian', 'southern_us', 'italian', 'italian', 'southern_us', 'british', 'mexican', 'mexican', 'italian', 'italian', 'indian', 'spanish', 'french', 'southern_us', 'thai', 'mexican', 'italian', 'mexican', 'chinese', 'french', 'italian', 'indian', 'indian', 'filipino', 'mexican', 'southern_us', 'mexican', 'moroccan', 'italian', 'italian', 'mexican', 'vietnamese', 'indian', 'greek', 'southern_us', 'italian', 'british', 'british', 'indian', 'cajun_creole', 'mexican', 'mexican', 'indian', 'moroccan', 'chinese', 'french', 'russian', 'indian', 'mexican', 'chinese', 'italian', 'southern_us', 'indian', 'moroccan', 'korean', 'french', 'irish', 'southern_us', 'italian', 'vietnamese', 'brazilian', 'filipino', 'mexican', 'italian', 'thai', 'spanish', 'british', 'russian', 'chinese', 'indian', 'moroccan', 'japanese', 'italian', 'mexican', 'jamaican', 'southern_us', 'southern_us', 'thai', 'italian', 'italian', 'spanish', 'british', 'chinese', 'italian', 'cajun_creole', 'filipino', 'mexican', 'mexican', 'greek', 'spanish', 'italian', 'chinese', 'italian', 'chinese', 'italian', 'indian', 'mexican', 'cajun_creole', 'italian', 'french', 'mexican', 'southern_us', 'mexican', 'southern_us', 'mexican', 'cajun_creole', 'mexican', 'southern_us', 'mexican', 'italian', 'thai', 'southern_us', 'mexican', 'italian', 'italian', 'southern_us', 'irish', 'filipino', 'indian', 'italian', 'japanese', 'moroccan', 'thai', 'mexican', 'italian', 'mexican', 'french', 'vietnamese', 'indian', 'southern_us', 'mexican', 'italian', 'french', 'southern_us', 'italian', 'mexican', 'italian', 'brazilian', 'japanese', 'cajun_creole', 'italian', 'italian', 'japanese', 'mexican', 'british', 'korean', 'italian', 'chinese', 'filipino', 'mexican', 'filipino', 'mexican', 'mexican', 'greek', 'chinese', 'italian', 'southern_us', 'japanese', 'vietnamese', 'cajun_creole', 'southern_us', 'japanese', 'italian', 'indian', 'thai', 'cajun_creole', 'italian', 'italian', 'moroccan', 'cajun_creole', 'mexican', 'filipino', 'thai', 'southern_us', 'vietnamese', 'southern_us', 'mexican', 'french', 'southern_us', 'chinese', 'mexican', 'italian', 'thai', 'southern_us', 'japanese', 'mexican', 'italian', 'mexican', 'italian', 'italian', 'indian', 'french', 'southern_us', 'italian', 'chinese', 'french', 'chinese', 'southern_us', 'korean', 'thai', 'mexican', 'greek', 'cajun_creole', 'southern_us', 'french', 'southern_us', 'thai', 'mexican', 'mexican', 'chinese', 'brazilian', 'chinese', 'korean', 'chinese', 'french', 'mexican', 'greek', 'cajun_creole', 'mexican', 'mexican', 'southern_us', 'southern_us', 'chinese', 'french', 'jamaican', 'filipino', 'italian', 'italian', 'mexican', 'italian', 'korean', 'greek', 'french', 'italian', 'italian', 'chinese', 'thai', 'italian', 'chinese', 'italian', 'southern_us', 'korean', 'mexican', 'spanish', 'southern_us', 'filipino', 'indian', 'italian', 'indian', 'spanish', 'southern_us', 'italian', 'indian', 'mexican', 'french', 'indian', 'greek', 'cajun_creole', 'italian', 'southern_us', 'french', 'southern_us', 'indian', 'thai', 'french', 'mexican', 'southern_us', 'mexican', 'irish', 'italian', 'mexican', 'southern_us', 'japanese', 'italian', 'mexican', 'russian', 'thai', 'mexican', 'mexican', 'indian', 'mexican', 'italian', 'italian', 'mexican', 'italian', 'mexican', 'italian', 'southern_us', 'mexican', 'japanese', 'italian', 'indian', 'thai', 'mexican', 'french', 'thai', 'mexican', 'moroccan', 'italian', 'southern_us', 'vietnamese', 'mexican', 'southern_us', 'thai', 'italian', 'filipino', 'mexican', 'cajun_creole', 'greek', 'italian', 'british', 'russian', 'french', 'indian', 'vietnamese', 'thai', 'italian', 'southern_us', 'filipino', 'french', 'japanese', 'moroccan', 'italian', 'italian', 'japanese', 'southern_us', 'italian', 'spanish', 'cajun_creole', 'italian', 'french', 'cajun_creole', 'indian', 'french', 'southern_us', 'mexican', 'moroccan', 'mexican', 'italian', 'southern_us', 'mexican', 'mexican', 'southern_us', 'mexican', 'southern_us', 'moroccan', 'italian', 'italian', 'chinese', 'jamaican', 'thai', 'italian', 'southern_us', 'italian', 'mexican', 'italian', 'french', 'vietnamese', 'chinese', 'italian', 'southern_us', 'cajun_creole', 'chinese', 'french', 'southern_us', 'filipino', 'spanish', 'thai', 'italian', 'southern_us', 'jamaican', 'italian', 'brazilian', 'indian', 'italian', 'japanese', 'mexican', 'italian', 'thai', 'italian', 'french', 'indian', 'italian', 'italian', 'mexican', 'indian', 'southern_us', 'italian', 'southern_us', 'mexican', 'mexican', 'thai', 'mexican', 'mexican', 'italian', 'vietnamese', 'mexican', 'indian', 'indian', 'thai', 'thai', 'cajun_creole', 'greek', 'mexican', 'greek', 'indian', 'greek', 'chinese', 'korean', 'indian', 'moroccan', 'korean', 'french', 'thai', 'jamaican', 'italian', 'indian', 'indian', 'filipino', 'cajun_creole', 'italian', 'thai', 'cajun_creole', 'mexican', 'indian', 'italian', 'mexican', 'spanish', 'french', 'southern_us', 'italian', 'italian', 'italian', 'italian', 'greek', 'mexican', 'chinese', 'japanese', 'french', 'mexican', 'indian', 'cajun_creole', 'southern_us', 'french', 'mexican', 'italian', 'greek', 'chinese', 'mexican', 'italian', 'southern_us', 'korean', 'italian', 'mexican', 'italian', 'mexican', 'mexican', 'mexican', 'italian', 'indian', 'southern_us', 'italian', 'french', 'spanish', 'mexican', 'spanish', 'mexican', 'russian', 'vietnamese', 'japanese', 'mexican', 'italian', 'greek', 'southern_us', 'british', 'greek', 'italian', 'mexican', 'chinese', 'italian', 'italian', 'italian', 'japanese', 'italian', 'mexican', 'japanese', 'chinese', 'mexican', 'italian', 'italian', 'jamaican', 'italian', 'french', 'spanish', 'chinese', 'japanese', 'italian', 'italian', 'moroccan', 'japanese', 'vietnamese', 'italian', 'southern_us', 'italian', 'greek', 'japanese', 'french', 'chinese', 'mexican', 'cajun_creole', 'southern_us', 'mexican', 'chinese', 'mexican', 'jamaican', 'italian', 'greek', 'italian', 'italian', 'british', 'korean', 'mexican', 'mexican', 'indian', 'italian', 'southern_us', 'indian', 'italian', 'southern_us', 'mexican', 'southern_us', 'italian', 'chinese', 'southern_us', 'mexican', 'italian', 'chinese', 'italian', 'italian', 'italian', 'jamaican', 'southern_us', 'thai', 'mexican', 'southern_us', 'southern_us', 'cajun_creole', 'mexican', 'indian', 'southern_us', 'french', 'mexican', 'southern_us', 'italian', 'southern_us', 'mexican', 'greek', 'italian', 'filipino', 'thai', 'japanese', 'mexican', 'chinese', 'chinese', 'cajun_creole', 'moroccan', 'italian', 'indian', 'indian', 'southern_us', 'russian', 'thai', 'mexican', 'southern_us', 'french', 'indian', 'italian', 'mexican', 'british', 'japanese', 'thai', 'mexican', 'mexican', 'jamaican', 'japanese', 'italian', 'vietnamese', 'spanish', 'vietnamese', 'french', 'italian', 'filipino', 'italian', 'southern_us', 'mexican', 'japanese', 'italian', 'jamaican', 'mexican', 'italian', 'thai', 'indian', 'mexican', 'mexican', 'italian', 'thai', 'french', 'mexican', 'mexican', 'italian', 'southern_us', 'moroccan', 'italian', 'southern_us', 'jamaican', 'vietnamese', 'filipino', 'jamaican', 'indian', 'italian', 'french', 'japanese', 'mexican', 'mexican', 'moroccan', 'mexican', 'japanese', 'cajun_creole', 'southern_us', 'italian', 'mexican', 'chinese', 'irish', 'mexican', 'indian', 'italian', 'jamaican', 'italian', 'indian', 'french', 'vietnamese', 'french', 'indian', 'moroccan', 'vietnamese', 'chinese', 'mexican', 'greek', 'italian', 'italian', 'southern_us', 'italian', 'italian', 'italian', 'southern_us', 'italian', 'moroccan', 'vietnamese', 'southern_us', 'indian', 'japanese', 'mexican', 'japanese', 'indian', 'french', 'mexican', 'irish', 'french', 'french', 'mexican', 'mexican', 'british', 'mexican', 'korean', 'japanese', 'italian', 'spanish', 'irish', 'italian', 'vietnamese', 'russian', 'cajun_creole', 'italian', 'southern_us', 'thai', 'chinese', 'french', 'mexican', 'french', 'italian', 'italian', 'italian', 'italian', 'thai', 'southern_us', 'mexican', 'mexican', 'italian', 'french', 'italian', 'jamaican', 'indian', 'italian', 'southern_us', 'indian', 'thai', 'indian', 'southern_us', 'french', 'southern_us', 'mexican', 'southern_us', 'russian', 'korean', 'british', 'russian', 'italian', 'moroccan', 'italian', 'irish', 'italian', 'spanish', 'greek', 'italian', 'mexican', 'italian', 'southern_us', 'thai', 'french', 'indian', 'southern_us', 'southern_us', 'indian', 'southern_us', 'southern_us', 'mexican', 'southern_us', 'cajun_creole', 'japanese', 'italian', 'italian', 'italian', 'mexican', 'italian', 'italian', 'italian', 'indian', 'mexican', 'southern_us', 'mexican', 'indian', 'brazilian', 'british', 'korean', 'italian', 'chinese', 'southern_us', 'italian', 'italian', 'spanish', 'korean', 'indian', 'italian', 'mexican', 'british', 'mexican', 'italian', 'spanish', 'mexican', 'italian', 'mexican', 'mexican', 'italian', 'chinese', 'italian', 'indian', 'vietnamese', 'italian', 'french', 'irish', 'british', 'southern_us', 'british', 'vietnamese', 'mexican', 'mexican', 'cajun_creole', 'thai', 'mexican', 'southern_us', 'japanese', 'italian', 'french', 'british', 'moroccan', 'mexican', 'mexican', 'greek', 'mexican', 'korean', 'mexican', 'mexican', 'moroccan', 'japanese', 'southern_us', 'italian', 'korean', 'french', 'greek', 'chinese', 'french', 'italian', 'italian', 'italian', 'vietnamese', 'korean', 'italian', 'moroccan', 'french', 'indian', 'mexican', 'british', 'italian', 'italian', 'indian', 'southern_us', 'thai', 'southern_us', 'cajun_creole', 'mexican', 'italian', 'mexican', 'korean', 'moroccan', 'italian', 'french', 'mexican', 'italian', 'southern_us', 'mexican', 'italian', 'russian', 'italian', 'mexican', 'chinese', 'mexican', 'italian', 'indian', 'greek', 'mexican', 'italian', 'southern_us', 'korean', 'chinese', 'mexican', 'french', 'indian', 'thai', 'greek', 'japanese', 'filipino', 'southern_us', 'chinese', 'filipino', 'filipino', 'indian', 'greek', 'french', 'mexican', 'cajun_creole', 'french', 'italian', 'mexican', 'italian', 'southern_us', 'cajun_creole', 'mexican', 'mexican', 'vietnamese', 'indian', 'cajun_creole', 'italian', 'italian', 'italian', 'chinese', 'italian', 'mexican', 'chinese', 'chinese', 'french', 'japanese', 'italian', 'italian', 'italian', 'spanish', 'filipino', 'vietnamese', 'french', 'southern_us', 'italian', 'greek', 'indian', 'southern_us', 'mexican', 'italian', 'thai', 'french', 'italian', 'moroccan', 'italian', 'italian', 'chinese', 'british', 'italian', 'southern_us', 'french', 'mexican', 'mexican', 'mexican', 'southern_us', 'cajun_creole', 'cajun_creole', 'italian', 'mexican', 'irish', 'mexican', 'korean', 'southern_us', 'southern_us', 'british', 'mexican', 'italian', 'japanese', 'italian', 'italian', 'french', 'irish', 'italian', 'cajun_creole', 'french', 'greek', 'japanese', 'filipino', 'italian', 'greek', 'chinese', 'chinese', 'thai', 'italian', 'filipino', 'greek', 'mexican', 'mexican', 'italian', 'japanese', 'british', 'greek', 'vietnamese', 'chinese', 'indian', 'filipino', 'cajun_creole', 'filipino', 'chinese', 'italian', 'southern_us', 'italian', 'japanese', 'greek', 'indian', 'southern_us', 'mexican', 'french', 'cajun_creole', 'irish', 'cajun_creole', 'greek', 'moroccan', 'italian', 'greek', 'russian', 'cajun_creole', 'cajun_creole', 'italian', 'french', 'italian', 'southern_us', 'indian', 'southern_us', 'mexican', 'french', 'italian', 'southern_us', 'southern_us', 'italian', 'indian', 'southern_us', 'italian', 'italian', 'thai', 'chinese', 'vietnamese', 'mexican', 'brazilian', 'indian', 'vietnamese', 'italian', 'vietnamese', 'mexican', 'southern_us', 'mexican', 'italian', 'italian', 'indian', 'jamaican', 'mexican', 'japanese']\n"
     ]
    }
   ],
   "source": [
    "#Convert Predicted Output \n",
    "#_______ gives the best accuracy. So lets implement it on last time to get the final output.\n",
    "y_pred1=[]\n",
    "for i in range(len(y_pred)):\n",
    "    y_pred1.append(cuisine_map[str(y_pred[i])])\n",
    "print(y_test2)"
   ]
  },
  {
   "cell_type": "code",
   "execution_count": 64,
   "metadata": {
    "_cell_guid": "9de8971e-7167-42bc-b7a8-8dbcae8d8f25",
    "_uuid": "a3178c78e24d4c96714556be87c1df6f3b68479a"
   },
   "outputs": [
    {
     "name": "stdout",
     "output_type": "stream",
     "text": [
      "78.8812067882\n",
      "     Actual Cuisine Predicted Cuisine\n",
      "0           mexican           mexican\n",
      "1       southern_us       southern_us\n",
      "2           italian           italian\n",
      "3           mexican           mexican\n",
      "4          japanese          japanese\n",
      "5           mexican           mexican\n",
      "6           italian           italian\n",
      "7            indian            indian\n",
      "8           italian           italian\n",
      "9          moroccan          moroccan\n",
      "10           french            french\n",
      "11          mexican           mexican\n",
      "12         japanese          japanese\n",
      "13      southern_us       southern_us\n",
      "14          italian           italian\n",
      "15          mexican           mexican\n",
      "16          italian           italian\n",
      "17         japanese          japanese\n",
      "18           indian            indian\n",
      "19         japanese          japanese\n",
      "20          mexican           mexican\n",
      "21          chinese           chinese\n",
      "22          mexican           mexican\n",
      "23          spanish           spanish\n",
      "24          italian           italian\n",
      "25            greek             greek\n",
      "26       vietnamese        vietnamese\n",
      "27          italian           italian\n",
      "28             thai              thai\n",
      "29         jamaican          jamaican\n",
      "...             ...               ...\n",
      "7925         indian            indian\n",
      "7926    southern_us       southern_us\n",
      "7927        mexican           mexican\n",
      "7928         french            french\n",
      "7929        italian           italian\n",
      "7930    southern_us       southern_us\n",
      "7931    southern_us       southern_us\n",
      "7932        italian           italian\n",
      "7933         indian            indian\n",
      "7934    southern_us       southern_us\n",
      "7935        italian           italian\n",
      "7936        italian           italian\n",
      "7937           thai              thai\n",
      "7938        chinese           chinese\n",
      "7939     vietnamese        vietnamese\n",
      "7940        mexican           mexican\n",
      "7941      brazilian         brazilian\n",
      "7942         indian            indian\n",
      "7943     vietnamese        vietnamese\n",
      "7944        italian           italian\n",
      "7945     vietnamese        vietnamese\n",
      "7946        mexican           mexican\n",
      "7947    southern_us       southern_us\n",
      "7948        mexican           mexican\n",
      "7949        italian           italian\n",
      "7950        italian           italian\n",
      "7951         indian            indian\n",
      "7952       jamaican          jamaican\n",
      "7953        mexican           mexican\n",
      "7954       japanese          japanese\n",
      "\n",
      "[7955 rows x 2 columns]\n"
     ]
    }
   ],
   "source": [
    "#We Choose OVA SVM as it gives the best accuracy of 78.88%\n",
    "from sklearn import svm\n",
    "lin_clf = svm.LinearSVC(C=1)\n",
    "lin_clf.fit(X_train, y_train)\n",
    "y_pred=lin_clf.predict(X_test)\n",
    "print(accuracy_score(y_test,y_pred)*100)\n",
    "result=pd.DataFrame({'Actual Cuisine':y_test2, 'Predicted Cuisine':y_test2})\n",
    "print(result)"
   ]
  },
  {
   "cell_type": "markdown",
   "metadata": {
    "_cell_guid": "3d02a3df-9393-4f36-8a0f-79d892c2dddf",
    "_uuid": "4799301aaf1a9dcbf7c59722fd3f0db46cbb8b1c"
   },
   "source": [
    "# Conclusion\n",
    "The OVA SVM Algorithm gives the best accuracy of 78.88% for the given dataset.\n",
    "\n",
    "|       Algorithm       |           Parameters           | Accuracy |\n",
    "|:----------------------|:------------------------------:|:--------:|\n",
    "|          KNN          |              K=11              |  74.78%  |\n",
    "|        OVA SVM        |              C=1               |  78.88%  |\n",
    "|      Crammer SVM      |C=1, multi_class=crammer_singer |  78.84%  |\n",
    "|    OVA Naive Bayes    |               -                |  66.71%  |\n",
    "|OVA Logistic Regression|               -                |  77.72%  |\n"
   ]
  },
  {
   "cell_type": "code",
   "execution_count": null,
   "metadata": {
    "_cell_guid": "bdc7684f-140d-4cca-accf-883f881c1b28",
    "_uuid": "e6d5646d2da9225965b09ff9a7b0babfd1f03d39",
    "collapsed": true
   },
   "outputs": [],
   "source": [
    "#table above, acutally used K=11 for highest KNN accuracy (fixed inconsistency in original table)"
   ]
  },
  {
   "cell_type": "code",
   "execution_count": null,
   "metadata": {
    "_uuid": "ffc18e6c8ebe523fa33e05d9ac774c9b73ddf7b5",
    "collapsed": true
   },
   "outputs": [],
   "source": []
  }
 ],
 "metadata": {
  "kernelspec": {
   "display_name": "Python 3",
   "language": "python",
   "name": "python3"
  },
  "language_info": {
   "codemirror_mode": {
    "name": "ipython",
    "version": 3
   },
   "file_extension": ".py",
   "mimetype": "text/x-python",
   "name": "python",
   "nbconvert_exporter": "python",
   "pygments_lexer": "ipython3",
   "version": "3.6.1"
  }
 },
 "nbformat": 4,
 "nbformat_minor": 1
}
